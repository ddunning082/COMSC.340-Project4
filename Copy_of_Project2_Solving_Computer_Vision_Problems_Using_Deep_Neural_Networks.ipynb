{
  "cells": [
    {
      "cell_type": "markdown",
      "metadata": {
        "id": "view-in-github",
        "colab_type": "text"
      },
      "source": [
        "<a href=\"https://colab.research.google.com/github/ddunning082/COMSC.340-Project4/blob/main/Copy_of_Project2_Solving_Computer_Vision_Problems_Using_Deep_Neural_Networks.ipynb\" target=\"_parent\"><img src=\"https://colab.research.google.com/assets/colab-badge.svg\" alt=\"Open In Colab\"/></a>"
      ]
    },
    {
      "cell_type": "markdown",
      "id": "be7ffa44",
      "metadata": {
        "id": "be7ffa44"
      },
      "source": [
        "## **Project 2: Building Convolutional Neural Networks (CNN) Model for the Set of Aces in a Deck of Cards**\n",
        "\n",
        "### **Advisor: Dr. Hum Nath Bhandari, Department of Mathematics, RWU**\n",
        "\n",
        "### **Course**: MATH 355/COMSC 415-Machine Learning \n",
        "\n",
        "### Group Members: Will Bailey, Ella Costigan, Donovan Dunning, and Morgan Kiely\n"
      ]
    },
    {
      "cell_type": "markdown",
      "id": "86dbae3e",
      "metadata": {
        "id": "86dbae3e"
      },
      "source": [
        "### Overview\n",
        "\n",
        "In this project, you will be building Deep Learning Models to solve Computer Vision Problems. Computer Vision and Image Recognition  problems are basically classification problems which have huge applications in real-world, including medical science and cybersecurity. The goal is to build and implement machine learning models which can recognize(or classify) given images (objects) with high accuracy. Note that all the required datasets can be obtained from the following two sources. You are welcome to explore any other  resources  to obtain even more interesting  problems and just make sure that the problem should  involve image data. Your problems can also  be from  spatial images of the  earth surface (GIS data) to solve environmental science, bio/marine bio, or climate related problems.\n"
      ]
    },
    {
      "cell_type": "markdown",
      "id": "90ecb139",
      "metadata": {
        "id": "90ecb139"
      },
      "source": [
        "\n",
        "###  Expectations\n",
        "\n",
        "This project has the following expectations:\n",
        "- Ability to ask research questions and building a research framework to identify potential solutions.\n",
        "- Ability to import and implement various python modules.\n",
        "- Loading and inspecting data to get basic information.\n",
        "- Data Exploration and visualization.\n",
        "- Cleaning the data and handling the missing values (if any).\n",
        "- Feature selections, data filtering, and data preprocessing.\n",
        "- Creating tidy data for feeding to learning algorithms.\n",
        "- Input preprations and transformation.\n",
        "- Building, training, and testing classification models using Neural Networks.\n",
        "- Proformance analysis and model selections.\n",
        "- Performing statistical analysis.\n",
        "- Documenting and presenting intermediate and final results in scientific community."
      ]
    },
    {
      "cell_type": "markdown",
      "id": "66835a9e",
      "metadata": {
        "id": "66835a9e"
      },
      "source": [
        "### Guidelines\n",
        "\n",
        "- This is a group project, therefore, you are allowed to work in a group of  4 people. I can accept individual work  if you really can not find any other group member (or you do not want to work with anyone). But, if you can, work in a group.\n",
        "\n",
        "- If you are working in a group, there must be equal contributions of all the group members within a group.\n",
        "\n",
        "- You should maintain your originality in the project. You can have a robust discussion about the project ideas and possible techniques of solving with your friends outside your group but all the work in the project must be of yours. I may ask to explain some pieces of code and results during the grading process.\n",
        "\n",
        "- Once you are done with the project, you will submit the full report in Notebook, HTML, Paper, and Poster. The report should be well organized and should maintain the scientific writing standards such as summary or abstract/introduction, methodology, experimental results, plots, discussion of the results, and conclusion. One submission per group will be sufficient where you can write name of all group members on the top of the documents.\n",
        "\n",
        "- There will be paper/poster presentations in class."
      ]
    },
    {
      "cell_type": "markdown",
      "id": "b6c95319",
      "metadata": {
        "id": "b6c95319"
      },
      "source": [
        "### Grading Criteria\n",
        "\n",
        "- Effective presentation of the major ideas and key findings (20%)\n",
        "\n",
        "- Organization of project content in paper and poster (30%)\n",
        "\n",
        "- Demonstration of the content  knowledge (20%)\n",
        "\n",
        "- Overall coding skill (20%)\n",
        "\n",
        "- Participation in Q&As during presentation and showing curiosity to learn from other's work (10%) \n",
        "\n",
        "- Total: 100%"
      ]
    },
    {
      "cell_type": "markdown",
      "id": "efe429d7",
      "metadata": {
        "id": "efe429d7"
      },
      "source": [
        "**Remarks:** I recommend to take this  presentation seriously (with excitement)  because it will measure  your overall understanding of the class  up to this point of the semester. Prepare for  7-8 mins presentation for each group followed by 2-3 mins Q&As where your fellow students, including me,  will  ask questions and give feedback. Based on the feedback, you will finalize your original notebook, paper, and poster and submit it on bridges.\n",
        "\n",
        "### How to Collaborate Effectively In your Project?\n",
        "\n",
        "- Create a communication channel with your group members and meet either virtually or in-person to discuss about the potential problem. DONOT just randomly select project title. \n",
        "\n",
        "- Create  **Project2_GroupX**  folder in Google Drive by one of your group members and share within all the members of the group, including me (use my email: humnath.bh@gmail.com). You can put all the project materials including datasets  inside this folder. Other members can also put files in this shared folder. \n",
        "\n",
        "- Work in  shared folder and  notebook not in several  individual notebook.\n",
        "- Have group meetings in zoom and discuss the problems and code. Update Google Colab notebook together.\n",
        "\n",
        "- I will observe your work in a regular interval using  your  shared folder. \n",
        "- Remember, Nov 15,  is the deadline for completing problem selection, downloading data, and writing abstract. You can put your updated notebook with written abstract in the shared folder so that I can check it. \n",
        "\n",
        "- I will provide the links of latex documents to write paper and posters:"
      ]
    },
    {
      "cell_type": "markdown",
      "id": "cea7dbbc",
      "metadata": {
        "id": "cea7dbbc"
      },
      "source": [
        "### Data\n",
        "\n",
        "- **Kaggle**:  www.kaggle.com/datasets?tags=13207-Computer+Vision\n",
        "\n",
        "- **UCI Machine Learning Repository**: https://archive-beta.ics.uci.edu/datasets?%7B%22pagination%22%3A%7B%22skip%22%3A0%2C%22take%22%3A10%7D%2C%22sort%22%3A%7B%22orderBy%22%3A%22NumHits%22%2C%22sort%22%3A%22desc%22%7D%2C%22filter%22%3A%7B%22Area%22%3A%5B%5D%2C%22Keywords%22%3A%5B%5D%2C%22Task%22%3A%22Classification%22%7D%2C%22search%22%3A%7B%7D%7D\n",
        "\n",
        "\n",
        "### Some of the Acceptable Datasets (From Kaggle):\n",
        "\n",
        "- **Data 1**: Covid-19 Related Image Datasets: www.kaggle.com/datasets?search=covid+19+images&tags=12107-Computer+Science \n",
        "\n",
        "- **Data 1 Versioin2**: Covid Face-Mask Monitoring Datasets:  www.kaggle.com/datasets/jishan900/covid-facemask-monitoring-dataset\n",
        "\n",
        "- **Data 2**: Fire Detection Datasets: www.kaggle.com/datasets?search=fire+detection\n",
        "- **Data 3**: Brain-Tumor Detection: www.kaggle.com/datasets/preetviradiya/brian-tumor-dataset\n",
        "- **Data 4**: Human Action Detection: www.kaggle.com/datasets/meetnagadia/human-action-recognition-har-dataset\n",
        "- **Data 5**: Weather Image Recognition: www.kaggle.com/datasets/jehanbhathena/weather-dataset"
      ]
    },
    {
      "cell_type": "markdown",
      "id": "31706cfb",
      "metadata": {
        "id": "31706cfb"
      },
      "source": [
        "\n",
        "\n",
        "##  Project Versions\n",
        "\n",
        "You will be working with one of the following project versions. You can download the project dataset from the  above link.\n",
        "\n",
        "- **Project Version 1 Title**:\n",
        "\n",
        "    Data Source: TBD\n",
        " \n",
        "- **Project Version 2 Title**: TBD\n",
        "\n",
        "  Data Source:TBD\n",
        "   \n",
        "- **Project Version 3 Title**: TBD\n",
        "\n",
        "   Data Source: TBD\n",
        "\n",
        "- **Project Version 4 Title**: TBD\n"
      ]
    },
    {
      "cell_type": "markdown",
      "source": [
        "https://www.kaggle.com/datasets/gpiosenka/cards-image-datasetclassification"
      ],
      "metadata": {
        "id": "8pNaNAx1756D"
      },
      "id": "8pNaNAx1756D"
    },
    {
      "cell_type": "markdown",
      "id": "dc5c9978",
      "metadata": {
        "id": "dc5c9978"
      },
      "source": [
        "## Project Components"
      ]
    },
    {
      "cell_type": "markdown",
      "id": "62e3c87d",
      "metadata": {
        "id": "62e3c87d"
      },
      "source": [
        "\n",
        "### Abstract:"
      ]
    },
    {
      "cell_type": "markdown",
      "source": [
        "Image recognition is a real-world problem that many data scientists try to solve. With the help of Python's libraries and machine learning, image recognition is possible. In this project, we present an approach on solving the computer vision problem with the help of various deep learning models. Traversing through a large dataset like in this project, it is a goal to implement a model with high accuracy and precision. We compare the [images from a deck of cards](https://www.kaggle.com/datasets/gpiosenka/cards-image-datasetclassification) with the machine's predictions versus its true values. We will also calculate the scores and accuracy to create a thorough analysis. By the end of the project, you will be able to interpret our results through different visualizations as well as read the scores on how the models preformed. "
      ],
      "metadata": {
        "id": "sEKk7DwVu1UI"
      },
      "id": "sEKk7DwVu1UI"
    },
    {
      "cell_type": "markdown",
      "id": "986f54e7",
      "metadata": {
        "id": "986f54e7"
      },
      "source": [
        "### Introduction "
      ]
    },
    {
      "cell_type": "markdown",
      "source": [
        "When computer vision became a field in the 1960s the main goal was to try and mimic human vision systems and ask computers to tell us what they see. This early technology was a predecessor to the modern AI systems we now have in the palms of our hands. Now in 2022, smart camera systems have taken over the world. Our smartphones can now run live image recognition from the device itself. This rapid expansion of technology is allowing programmers to take full advantage of these new devices. With the help of Python's libraries and machine learning, image recognition is possible. In this project, we present an approach to solving the computer vision problem with the help of various deep-learning models.\n",
        "\n",
        "\n",
        "When deciding on a data set to work on we looked through many different libraries and ended on a library of playing cards. This sort of image classification interested us because of the complexity of the cards and overcoming that initial challenge. Our first step was to pre-process our pictures allowing for the algorithms to efficiently use it. Once completed a simple Neural network was implemented and trained on our data set, we ran into many problems with our accuracy due to the cards not being recognized as fast as we wanted or expected. After changing methods and tweaking our variables we were able to increase the accuracy and build a more accurate model for this problem. \n",
        "\n",
        "Upon completion of the 3 models, we came to the conclusion our third model was the most accurate and efficient. We believe this was the case because of how we hierarchically ordered the variables. "
      ],
      "metadata": {
        "id": "Pw7QmHiZb9s8"
      },
      "id": "Pw7QmHiZb9s8"
    },
    {
      "cell_type": "markdown",
      "id": "a82d1863",
      "metadata": {
        "id": "a82d1863"
      },
      "source": [
        "### Modeling Approach: Deep Learning, particularly Convolutional Neural Networks Architecture."
      ]
    },
    {
      "cell_type": "code",
      "execution_count": null,
      "id": "af087c89",
      "metadata": {
        "id": "af087c89"
      },
      "outputs": [],
      "source": []
    },
    {
      "cell_type": "markdown",
      "id": "deb4ee0c",
      "metadata": {
        "id": "deb4ee0c"
      },
      "source": [
        "### Getting Data, Cleaning, and  Preprocessing. \n"
      ]
    },
    {
      "cell_type": "code",
      "execution_count": null,
      "id": "c9da1c3d",
      "metadata": {
        "colab": {
          "base_uri": "https://localhost:8080/"
        },
        "id": "c9da1c3d",
        "outputId": "2e6ee500-6d44-4d75-add0-f76f437fb412"
      },
      "outputs": [
        {
          "output_type": "stream",
          "name": "stdout",
          "text": [
            "Mounted at /content/drive\n"
          ]
        }
      ],
      "source": [
        "from google.colab import drive\n",
        "drive.mount('/content/drive')"
      ]
    },
    {
      "cell_type": "code",
      "source": [
        "pip install opencv-python"
      ],
      "metadata": {
        "colab": {
          "base_uri": "https://localhost:8080/"
        },
        "id": "DXjTUG96_-dl",
        "outputId": "cf134767-5bab-470a-9b48-bf7199f40394"
      },
      "id": "DXjTUG96_-dl",
      "execution_count": null,
      "outputs": [
        {
          "output_type": "stream",
          "name": "stdout",
          "text": [
            "Looking in indexes: https://pypi.org/simple, https://us-python.pkg.dev/colab-wheels/public/simple/\n",
            "Requirement already satisfied: opencv-python in /usr/local/lib/python3.8/dist-packages (4.6.0.66)\n",
            "Requirement already satisfied: numpy>=1.14.5 in /usr/local/lib/python3.8/dist-packages (from opencv-python) (1.21.6)\n"
          ]
        }
      ]
    },
    {
      "cell_type": "code",
      "source": [
        "import warnings\n",
        "warnings.filterwarnings('ignore')\n",
        "\n",
        "import pandas as pd\n",
        "import numpy as np\n",
        "from skimage.io import imread\n",
        "import matplotlib.pyplot as plt\n",
        "from matplotlib import *\n",
        "import os as os\n",
        "import cv2\n",
        "from tqdm import tqdm\n",
        "\n",
        "\n",
        "import tensorflow as tf\n",
        "from keras.models import Sequential\n",
        "from keras.utils import np_utils\n",
        "from keras import models,layers\n",
        "from keras.layers import Dense, MaxPool2D, Conv2D\n",
        "from keras.layers import Flatten\n",
        "from keras.initializers import Constant\n",
        "from tensorflow.keras import optimizers \n",
        "from tensorflow.keras.preprocessing.image import ImageDataGenerator\n",
        "from sklearn import metrics"
      ],
      "metadata": {
        "id": "uXxdazmqzChK"
      },
      "id": "uXxdazmqzChK",
      "execution_count": null,
      "outputs": []
    },
    {
      "cell_type": "code",
      "source": [
        "data_path = \"/content/drive/MyDrive/Project2_Group1/Data/train/\" # make similar to this path\n",
        "\n",
        "output_dir_path = \"/content/drive/MyDrive/Project2_Group1/Results/\""
      ],
      "metadata": {
        "id": "4kGZxWnpA9TV"
      },
      "id": "4kGZxWnpA9TV",
      "execution_count": null,
      "outputs": []
    },
    {
      "cell_type": "code",
      "source": [
        "cards = { 'ace of spades' :0, \n",
        "         'ace of hearts' : 1,\n",
        "         'ace of clubs' : 2, \n",
        "         'ace of diamonds' : 3,\n",
        "         \n",
        "}"
      ],
      "metadata": {
        "id": "jOZloUjKy659"
      },
      "id": "jOZloUjKy659",
      "execution_count": null,
      "outputs": []
    },
    {
      "cell_type": "code",
      "source": [
        "data_sub_folders = ['ace of spades', 'ace of hearts', 'ace of clubs', 'ace of diamonds']"
      ],
      "metadata": {
        "id": "EnsweovjeYt6"
      },
      "id": "EnsweovjeYt6",
      "execution_count": null,
      "outputs": []
    },
    {
      "cell_type": "code",
      "source": [
        "input_data = []\n",
        "card_input = []\n",
        "for i in data_sub_folders:\n",
        "    for img_file in os.listdir(data_path+i):\n",
        "        input_data.append(data_path+i+'/'+img_file)\n",
        "        card_input.append(i)\n",
        "        \n",
        "df = pd.DataFrame({'data':input_data, 'card labels':card_input})"
      ],
      "metadata": {
        "id": "OEv0aQxOujyK"
      },
      "id": "OEv0aQxOujyK",
      "execution_count": null,
      "outputs": []
    },
    {
      "cell_type": "code",
      "source": [
        "df.head()"
      ],
      "metadata": {
        "colab": {
          "base_uri": "https://localhost:8080/",
          "height": 204
        },
        "id": "gCNS7POdhenX",
        "outputId": "786848d3-2816-4ff0-ceee-a127dec99bb4"
      },
      "id": "gCNS7POdhenX",
      "execution_count": null,
      "outputs": [
        {
          "output_type": "execute_result",
          "data": {
            "text/plain": [
              "                                                data    card labels\n",
              "0  /content/drive/MyDrive/Project2_Group1/Data/tr...  ace of spades\n",
              "1  /content/drive/MyDrive/Project2_Group1/Data/tr...  ace of spades\n",
              "2  /content/drive/MyDrive/Project2_Group1/Data/tr...  ace of spades\n",
              "3  /content/drive/MyDrive/Project2_Group1/Data/tr...  ace of spades\n",
              "4  /content/drive/MyDrive/Project2_Group1/Data/tr...  ace of spades"
            ],
            "text/html": [
              "\n",
              "  <div id=\"df-fc1a8d97-e32a-4382-abf6-a3e4a96ac4ee\">\n",
              "    <div class=\"colab-df-container\">\n",
              "      <div>\n",
              "<style scoped>\n",
              "    .dataframe tbody tr th:only-of-type {\n",
              "        vertical-align: middle;\n",
              "    }\n",
              "\n",
              "    .dataframe tbody tr th {\n",
              "        vertical-align: top;\n",
              "    }\n",
              "\n",
              "    .dataframe thead th {\n",
              "        text-align: right;\n",
              "    }\n",
              "</style>\n",
              "<table border=\"1\" class=\"dataframe\">\n",
              "  <thead>\n",
              "    <tr style=\"text-align: right;\">\n",
              "      <th></th>\n",
              "      <th>data</th>\n",
              "      <th>card labels</th>\n",
              "    </tr>\n",
              "  </thead>\n",
              "  <tbody>\n",
              "    <tr>\n",
              "      <th>0</th>\n",
              "      <td>/content/drive/MyDrive/Project2_Group1/Data/tr...</td>\n",
              "      <td>ace of spades</td>\n",
              "    </tr>\n",
              "    <tr>\n",
              "      <th>1</th>\n",
              "      <td>/content/drive/MyDrive/Project2_Group1/Data/tr...</td>\n",
              "      <td>ace of spades</td>\n",
              "    </tr>\n",
              "    <tr>\n",
              "      <th>2</th>\n",
              "      <td>/content/drive/MyDrive/Project2_Group1/Data/tr...</td>\n",
              "      <td>ace of spades</td>\n",
              "    </tr>\n",
              "    <tr>\n",
              "      <th>3</th>\n",
              "      <td>/content/drive/MyDrive/Project2_Group1/Data/tr...</td>\n",
              "      <td>ace of spades</td>\n",
              "    </tr>\n",
              "    <tr>\n",
              "      <th>4</th>\n",
              "      <td>/content/drive/MyDrive/Project2_Group1/Data/tr...</td>\n",
              "      <td>ace of spades</td>\n",
              "    </tr>\n",
              "  </tbody>\n",
              "</table>\n",
              "</div>\n",
              "      <button class=\"colab-df-convert\" onclick=\"convertToInteractive('df-fc1a8d97-e32a-4382-abf6-a3e4a96ac4ee')\"\n",
              "              title=\"Convert this dataframe to an interactive table.\"\n",
              "              style=\"display:none;\">\n",
              "        \n",
              "  <svg xmlns=\"http://www.w3.org/2000/svg\" height=\"24px\"viewBox=\"0 0 24 24\"\n",
              "       width=\"24px\">\n",
              "    <path d=\"M0 0h24v24H0V0z\" fill=\"none\"/>\n",
              "    <path d=\"M18.56 5.44l.94 2.06.94-2.06 2.06-.94-2.06-.94-.94-2.06-.94 2.06-2.06.94zm-11 1L8.5 8.5l.94-2.06 2.06-.94-2.06-.94L8.5 2.5l-.94 2.06-2.06.94zm10 10l.94 2.06.94-2.06 2.06-.94-2.06-.94-.94-2.06-.94 2.06-2.06.94z\"/><path d=\"M17.41 7.96l-1.37-1.37c-.4-.4-.92-.59-1.43-.59-.52 0-1.04.2-1.43.59L10.3 9.45l-7.72 7.72c-.78.78-.78 2.05 0 2.83L4 21.41c.39.39.9.59 1.41.59.51 0 1.02-.2 1.41-.59l7.78-7.78 2.81-2.81c.8-.78.8-2.07 0-2.86zM5.41 20L4 18.59l7.72-7.72 1.47 1.35L5.41 20z\"/>\n",
              "  </svg>\n",
              "      </button>\n",
              "      \n",
              "  <style>\n",
              "    .colab-df-container {\n",
              "      display:flex;\n",
              "      flex-wrap:wrap;\n",
              "      gap: 12px;\n",
              "    }\n",
              "\n",
              "    .colab-df-convert {\n",
              "      background-color: #E8F0FE;\n",
              "      border: none;\n",
              "      border-radius: 50%;\n",
              "      cursor: pointer;\n",
              "      display: none;\n",
              "      fill: #1967D2;\n",
              "      height: 32px;\n",
              "      padding: 0 0 0 0;\n",
              "      width: 32px;\n",
              "    }\n",
              "\n",
              "    .colab-df-convert:hover {\n",
              "      background-color: #E2EBFA;\n",
              "      box-shadow: 0px 1px 2px rgba(60, 64, 67, 0.3), 0px 1px 3px 1px rgba(60, 64, 67, 0.15);\n",
              "      fill: #174EA6;\n",
              "    }\n",
              "\n",
              "    [theme=dark] .colab-df-convert {\n",
              "      background-color: #3B4455;\n",
              "      fill: #D2E3FC;\n",
              "    }\n",
              "\n",
              "    [theme=dark] .colab-df-convert:hover {\n",
              "      background-color: #434B5C;\n",
              "      box-shadow: 0px 1px 3px 1px rgba(0, 0, 0, 0.15);\n",
              "      filter: drop-shadow(0px 1px 2px rgba(0, 0, 0, 0.3));\n",
              "      fill: #FFFFFF;\n",
              "    }\n",
              "  </style>\n",
              "\n",
              "      <script>\n",
              "        const buttonEl =\n",
              "          document.querySelector('#df-fc1a8d97-e32a-4382-abf6-a3e4a96ac4ee button.colab-df-convert');\n",
              "        buttonEl.style.display =\n",
              "          google.colab.kernel.accessAllowed ? 'block' : 'none';\n",
              "\n",
              "        async function convertToInteractive(key) {\n",
              "          const element = document.querySelector('#df-fc1a8d97-e32a-4382-abf6-a3e4a96ac4ee');\n",
              "          const dataTable =\n",
              "            await google.colab.kernel.invokeFunction('convertToInteractive',\n",
              "                                                     [key], {});\n",
              "          if (!dataTable) return;\n",
              "\n",
              "          const docLinkHtml = 'Like what you see? Visit the ' +\n",
              "            '<a target=\"_blank\" href=https://colab.research.google.com/notebooks/data_table.ipynb>data table notebook</a>'\n",
              "            + ' to learn more about interactive tables.';\n",
              "          element.innerHTML = '';\n",
              "          dataTable['output_type'] = 'display_data';\n",
              "          await google.colab.output.renderOutput(dataTable, element);\n",
              "          const docLink = document.createElement('div');\n",
              "          docLink.innerHTML = docLinkHtml;\n",
              "          element.appendChild(docLink);\n",
              "        }\n",
              "      </script>\n",
              "    </div>\n",
              "  </div>\n",
              "  "
            ]
          },
          "metadata": {},
          "execution_count": 7
        }
      ]
    },
    {
      "cell_type": "code",
      "source": [
        "df['card labels'].value_counts()"
      ],
      "metadata": {
        "colab": {
          "base_uri": "https://localhost:8080/"
        },
        "id": "DIZ6As73gAd6",
        "outputId": "2294820b-b04d-4c32-b626-5c79a7eb8320"
      },
      "id": "DIZ6As73gAd6",
      "execution_count": null,
      "outputs": [
        {
          "output_type": "execute_result",
          "data": {
            "text/plain": [
              "ace of spades      181\n",
              "ace of hearts      171\n",
              "ace of diamonds    135\n",
              "ace of clubs       120\n",
              "Name: card labels, dtype: int64"
            ]
          },
          "metadata": {},
          "execution_count": 9
        }
      ]
    },
    {
      "cell_type": "code",
      "source": [
        "fig, ax = plt.subplots(ncols=len(cards), figsize=(20,6))\n",
        "fig.suptitle('Deck Of Cards')\n",
        "random_num = 12\n",
        "for i,label in enumerate(data_sub_folders):\n",
        "    ax[i].set_title(label)\n",
        "    ax[i].imshow(plt.imread(df[df['card labels']==label]['data'].iloc[random_num]))"
      ],
      "metadata": {
        "id": "NB6nsUQrgGln",
        "colab": {
          "base_uri": "https://localhost:8080/",
          "height": 375
        },
        "outputId": "65f6cc86-4476-46ac-b579-3ed88603f83b"
      },
      "id": "NB6nsUQrgGln",
      "execution_count": null,
      "outputs": [
        {
          "output_type": "display_data",
          "data": {
            "text/plain": [
              "<Figure size 1440x432 with 4 Axes>"
            ],
            "image/png": "[encoded data removed]"
          },
          "metadata": {
            "needs_background": "light"
          }
        }
      ]
    },
    {
      "cell_type": "code",
      "source": [
        "plt.imread(df['data'][0]).shape"
      ],
      "metadata": {
        "colab": {
          "base_uri": "https://localhost:8080/"
        },
        "id": "0lClNdMdiY1k",
        "outputId": "3cd9b7bd-b949-4059-fe8e-822bc76923c5"
      },
      "id": "0lClNdMdiY1k",
      "execution_count": null,
      "outputs": [
        {
          "output_type": "execute_result",
          "data": {
            "text/plain": [
              "(224, 224, 3)"
            ]
          },
          "metadata": {},
          "execution_count": 11
        }
      ]
    },
    {
      "cell_type": "code",
      "source": [
        "df['encode_cards'] = df['card labels'].map(cards)\n",
        "df.head()"
      ],
      "metadata": {
        "colab": {
          "base_uri": "https://localhost:8080/",
          "height": 204
        },
        "id": "GQJBLOU388qZ",
        "outputId": "36110ec9-0ece-49b2-9a14-b3631d1422c0"
      },
      "id": "GQJBLOU388qZ",
      "execution_count": null,
      "outputs": [
        {
          "output_type": "execute_result",
          "data": {
            "text/plain": [
              "                                                data    card labels  \\\n",
              "0  /content/drive/MyDrive/Project2_Group1/Data/tr...  ace of spades   \n",
              "1  /content/drive/MyDrive/Project2_Group1/Data/tr...  ace of spades   \n",
              "2  /content/drive/MyDrive/Project2_Group1/Data/tr...  ace of spades   \n",
              "3  /content/drive/MyDrive/Project2_Group1/Data/tr...  ace of spades   \n",
              "4  /content/drive/MyDrive/Project2_Group1/Data/tr...  ace of spades   \n",
              "\n",
              "   encode_cards  \n",
              "0             0  \n",
              "1             0  \n",
              "2             0  \n",
              "3             0  \n",
              "4             0  "
            ],
            "text/html": [
              "\n",
              "  <div id=\"df-da3bcaec-f647-45a0-ac97-e59406d97c1e\">\n",
              "    <div class=\"colab-df-container\">\n",
              "      <div>\n",
              "<style scoped>\n",
              "    .dataframe tbody tr th:only-of-type {\n",
              "        vertical-align: middle;\n",
              "    }\n",
              "\n",
              "    .dataframe tbody tr th {\n",
              "        vertical-align: top;\n",
              "    }\n",
              "\n",
              "    .dataframe thead th {\n",
              "        text-align: right;\n",
              "    }\n",
              "</style>\n",
              "<table border=\"1\" class=\"dataframe\">\n",
              "  <thead>\n",
              "    <tr style=\"text-align: right;\">\n",
              "      <th></th>\n",
              "      <th>data</th>\n",
              "      <th>card labels</th>\n",
              "      <th>encode_cards</th>\n",
              "    </tr>\n",
              "  </thead>\n",
              "  <tbody>\n",
              "    <tr>\n",
              "      <th>0</th>\n",
              "      <td>/content/drive/MyDrive/Project2_Group1/Data/tr...</td>\n",
              "      <td>ace of spades</td>\n",
              "      <td>0</td>\n",
              "    </tr>\n",
              "    <tr>\n",
              "      <th>1</th>\n",
              "      <td>/content/drive/MyDrive/Project2_Group1/Data/tr...</td>\n",
              "      <td>ace of spades</td>\n",
              "      <td>0</td>\n",
              "    </tr>\n",
              "    <tr>\n",
              "      <th>2</th>\n",
              "      <td>/content/drive/MyDrive/Project2_Group1/Data/tr...</td>\n",
              "      <td>ace of spades</td>\n",
              "      <td>0</td>\n",
              "    </tr>\n",
              "    <tr>\n",
              "      <th>3</th>\n",
              "      <td>/content/drive/MyDrive/Project2_Group1/Data/tr...</td>\n",
              "      <td>ace of spades</td>\n",
              "      <td>0</td>\n",
              "    </tr>\n",
              "    <tr>\n",
              "      <th>4</th>\n",
              "      <td>/content/drive/MyDrive/Project2_Group1/Data/tr...</td>\n",
              "      <td>ace of spades</td>\n",
              "      <td>0</td>\n",
              "    </tr>\n",
              "  </tbody>\n",
              "</table>\n",
              "</div>\n",
              "      <button class=\"colab-df-convert\" onclick=\"convertToInteractive('df-da3bcaec-f647-45a0-ac97-e59406d97c1e')\"\n",
              "              title=\"Convert this dataframe to an interactive table.\"\n",
              "              style=\"display:none;\">\n",
              "        \n",
              "  <svg xmlns=\"http://www.w3.org/2000/svg\" height=\"24px\"viewBox=\"0 0 24 24\"\n",
              "       width=\"24px\">\n",
              "    <path d=\"M0 0h24v24H0V0z\" fill=\"none\"/>\n",
              "    <path d=\"M18.56 5.44l.94 2.06.94-2.06 2.06-.94-2.06-.94-.94-2.06-.94 2.06-2.06.94zm-11 1L8.5 8.5l.94-2.06 2.06-.94-2.06-.94L8.5 2.5l-.94 2.06-2.06.94zm10 10l.94 2.06.94-2.06 2.06-.94-2.06-.94-.94-2.06-.94 2.06-2.06.94z\"/><path d=\"M17.41 7.96l-1.37-1.37c-.4-.4-.92-.59-1.43-.59-.52 0-1.04.2-1.43.59L10.3 9.45l-7.72 7.72c-.78.78-.78 2.05 0 2.83L4 21.41c.39.39.9.59 1.41.59.51 0 1.02-.2 1.41-.59l7.78-7.78 2.81-2.81c.8-.78.8-2.07 0-2.86zM5.41 20L4 18.59l7.72-7.72 1.47 1.35L5.41 20z\"/>\n",
              "  </svg>\n",
              "      </button>\n",
              "      \n",
              "  <style>\n",
              "    .colab-df-container {\n",
              "      display:flex;\n",
              "      flex-wrap:wrap;\n",
              "      gap: 12px;\n",
              "    }\n",
              "\n",
              "    .colab-df-convert {\n",
              "      background-color: #E8F0FE;\n",
              "      border: none;\n",
              "      border-radius: 50%;\n",
              "      cursor: pointer;\n",
              "      display: none;\n",
              "      fill: #1967D2;\n",
              "      height: 32px;\n",
              "      padding: 0 0 0 0;\n",
              "      width: 32px;\n",
              "    }\n",
              "\n",
              "    .colab-df-convert:hover {\n",
              "      background-color: #E2EBFA;\n",
              "      box-shadow: 0px 1px 2px rgba(60, 64, 67, 0.3), 0px 1px 3px 1px rgba(60, 64, 67, 0.15);\n",
              "      fill: #174EA6;\n",
              "    }\n",
              "\n",
              "    [theme=dark] .colab-df-convert {\n",
              "      background-color: #3B4455;\n",
              "      fill: #D2E3FC;\n",
              "    }\n",
              "\n",
              "    [theme=dark] .colab-df-convert:hover {\n",
              "      background-color: #434B5C;\n",
              "      box-shadow: 0px 1px 3px 1px rgba(0, 0, 0, 0.15);\n",
              "      filter: drop-shadow(0px 1px 2px rgba(0, 0, 0, 0.3));\n",
              "      fill: #FFFFFF;\n",
              "    }\n",
              "  </style>\n",
              "\n",
              "      <script>\n",
              "        const buttonEl =\n",
              "          document.querySelector('#df-da3bcaec-f647-45a0-ac97-e59406d97c1e button.colab-df-convert');\n",
              "        buttonEl.style.display =\n",
              "          google.colab.kernel.accessAllowed ? 'block' : 'none';\n",
              "\n",
              "        async function convertToInteractive(key) {\n",
              "          const element = document.querySelector('#df-da3bcaec-f647-45a0-ac97-e59406d97c1e');\n",
              "          const dataTable =\n",
              "            await google.colab.kernel.invokeFunction('convertToInteractive',\n",
              "                                                     [key], {});\n",
              "          if (!dataTable) return;\n",
              "\n",
              "          const docLinkHtml = 'Like what you see? Visit the ' +\n",
              "            '<a target=\"_blank\" href=https://colab.research.google.com/notebooks/data_table.ipynb>data table notebook</a>'\n",
              "            + ' to learn more about interactive tables.';\n",
              "          element.innerHTML = '';\n",
              "          dataTable['output_type'] = 'display_data';\n",
              "          await google.colab.output.renderOutput(dataTable, element);\n",
              "          const docLink = document.createElement('div');\n",
              "          docLink.innerHTML = docLinkHtml;\n",
              "          element.appendChild(docLink);\n",
              "        }\n",
              "      </script>\n",
              "    </div>\n",
              "  </div>\n",
              "  "
            ]
          },
          "metadata": {},
          "execution_count": 12
        }
      ]
    },
    {
      "cell_type": "code",
      "source": [
        "X = []\n",
        "for img in df['data']:\n",
        "    img = cv2.imread(str(img))\n",
        "    img = cv2.resize(img, (128, 128))\n",
        "    img = img/255\n",
        "    X.append(img)"
      ],
      "metadata": {
        "id": "AiaYJROB9Hls"
      },
      "id": "AiaYJROB9Hls",
      "execution_count": null,
      "outputs": []
    },
    {
      "cell_type": "code",
      "source": [
        "y = df['encode_cards']"
      ],
      "metadata": {
        "id": "YSU6IEKM91XD"
      },
      "id": "YSU6IEKM91XD",
      "execution_count": null,
      "outputs": []
    },
    {
      "cell_type": "code",
      "source": [
        "X = np.array(X)\n",
        "y = np.array(y)"
      ],
      "metadata": {
        "id": "ZoS6-3xq_4py"
      },
      "id": "ZoS6-3xq_4py",
      "execution_count": null,
      "outputs": []
    },
    {
      "cell_type": "code",
      "source": [
        "from sklearn.model_selection import train_test_split\n",
        "\n",
        "X_train, X_test, y_train, y_test = train_test_split(X, y)"
      ],
      "metadata": {
        "id": "3dteUt3c94a_"
      },
      "id": "3dteUt3c94a_",
      "execution_count": null,
      "outputs": []
    },
    {
      "cell_type": "code",
      "source": [
        "X_test.shape"
      ],
      "metadata": {
        "colab": {
          "base_uri": "https://localhost:8080/"
        },
        "id": "Tj9NOggta5pz",
        "outputId": "0b3fba64-e749-4c51-e98b-90b4adc79d6e"
      },
      "id": "Tj9NOggta5pz",
      "execution_count": null,
      "outputs": [
        {
          "output_type": "execute_result",
          "data": {
            "text/plain": [
              "(152, 64, 64, 3)"
            ]
          },
          "metadata": {},
          "execution_count": 19
        }
      ]
    },
    {
      "cell_type": "code",
      "source": [
        "X_test_plt = X_test.reshape(29184,64)"
      ],
      "metadata": {
        "id": "lVGpZT-wAH1w"
      },
      "id": "lVGpZT-wAH1w",
      "execution_count": null,
      "outputs": []
    },
    {
      "cell_type": "code",
      "source": [
        "X_train.shape"
      ],
      "metadata": {
        "colab": {
          "base_uri": "https://localhost:8080/"
        },
        "id": "b8v7XSsGABb5",
        "outputId": "ad5141cc-4e88-4514-8fd8-5a5d5baa3001"
      },
      "id": "b8v7XSsGABb5",
      "execution_count": null,
      "outputs": [
        {
          "output_type": "execute_result",
          "data": {
            "text/plain": [
              "(455, 64, 64, 3)"
            ]
          },
          "metadata": {},
          "execution_count": 21
        }
      ]
    },
    {
      "cell_type": "code",
      "source": [
        "X_train_plt = X_train.reshape(87360,64)"
      ],
      "metadata": {
        "id": "XsLbiRssAvZX"
      },
      "id": "XsLbiRssAvZX",
      "execution_count": null,
      "outputs": []
    },
    {
      "cell_type": "code",
      "source": [
        "def plot_images(instances, size,  images_per_row = 10, **options):\n",
        "\n",
        "    images_per_row = min(len(instances), images_per_row)\n",
        "    # This is equivalent to n_rows = ceil(len(instances) / images_per_row):\n",
        "    n_rows = (len(instances) - 1) // images_per_row + 1\n",
        "\n",
        "    # Append empty images to fill the end of the grid, if needed:\n",
        "    n_empty = n_rows * images_per_row - len(instances)\n",
        "    padded_instances = np.concatenate([instances, np.zeros((n_empty, size * size))], axis=0)\n",
        "\n",
        "    # Reshape the array so it's organized as a grid containing 28×28 images:\n",
        "    image_grid = padded_instances.reshape((n_rows, images_per_row, size, size))\n",
        "\n",
        "    # Combine axes 0 and 2 (vertical image grid axis, and vertical image axis),\n",
        "    # and axes 1 and 3 (horizontal axes). We first need to move the axes that we\n",
        "    # want to combine next to each other, using transpose(), and only then we\n",
        "    # can reshape:\n",
        "    big_image = image_grid.transpose(0, 2, 1, 3).reshape(n_rows * size, images_per_row * size)\n",
        "    # Now that we have a big image, we just need to show it:\n",
        "    plt.imshow(big_image, cmap='gray', **options)\n",
        "    plt.axis(\"off\")"
      ],
      "metadata": {
        "id": "QUPZkuLgjBgJ"
      },
      "id": "QUPZkuLgjBgJ",
      "execution_count": null,
      "outputs": []
    },
    {
      "cell_type": "code",
      "source": [
        "import matplotlib.pyplot as plt\n",
        "import numpy as np \n",
        "\n",
        "size = 8\n",
        "\n",
        "plt.figure(figsize=(12,12))\n",
        "\n",
        "example_images = X_train_plt[:25]\n",
        "\n",
        "plot_images(example_images, size, images_per_row = 5)\n",
        "plt.show()"
      ],
      "metadata": {
        "colab": {
          "base_uri": "https://localhost:8080/",
          "height": 683
        },
        "id": "eRogBgoqg2yP",
        "outputId": "989b102c-f283-4fc5-ffd0-4e3f7507e1ee"
      },
      "id": "eRogBgoqg2yP",
      "execution_count": null,
      "outputs": [
        {
          "output_type": "display_data",
          "data": {
            "text/plain": [
              "<Figure size 864x864 with 1 Axes>"
            ],
            "image/png": "[encoded data removed]"
          },
          "metadata": {
            "needs_background": "light"
          }
        }
      ]
    },
    {
      "cell_type": "code",
      "source": [
        "X_train = X_train.reshape(X_train.shape[0], 64, 64, 3)\n",
        "X_test = X_test.reshape(X_test.shape[0], 64, 64, 3)"
      ],
      "metadata": {
        "id": "-cQorlZsq21s"
      },
      "id": "-cQorlZsq21s",
      "execution_count": null,
      "outputs": []
    },
    {
      "cell_type": "code",
      "source": [
        "print(X_train.shape)\n",
        "print(X_test.shape)"
      ],
      "metadata": {
        "id": "zoEe61luq284",
        "colab": {
          "base_uri": "https://localhost:8080/"
        },
        "outputId": "7fc8f8dd-1a3b-4a26-f025-448f3da1a43d"
      },
      "id": "zoEe61luq284",
      "execution_count": null,
      "outputs": [
        {
          "output_type": "stream",
          "name": "stdout",
          "text": [
            "(455, 64, 64, 3)\n",
            "(152, 64, 64, 3)\n"
          ]
        }
      ]
    },
    {
      "cell_type": "code",
      "source": [
        "y_train"
      ],
      "metadata": {
        "colab": {
          "base_uri": "https://localhost:8080/"
        },
        "id": "Oh0ZXi0iCMOe",
        "outputId": "2ee616f7-91a1-4f8d-8c77-cbd9299637d5"
      },
      "id": "Oh0ZXi0iCMOe",
      "execution_count": null,
      "outputs": [
        {
          "output_type": "execute_result",
          "data": {
            "text/plain": [
              "array([1, 0, 0, 0, 0, 1, 0, 1, 3, 0, 1, 1, 0, 1, 2, 0, 1, 1, 0, 3, 3, 0,\n",
              "       2, 1, 1, 1, 0, 0, 3, 0, 2, 0, 2, 0, 1, 0, 0, 0, 2, 2, 0, 3, 1, 0,\n",
              "       0, 3, 0, 1, 0, 3, 1, 3, 2, 2, 3, 0, 0, 1, 0, 0, 0, 1, 3, 0, 1, 3,\n",
              "       0, 1, 3, 3, 2, 0, 2, 0, 1, 1, 2, 3, 0, 0, 1, 0, 2, 3, 0, 0, 3, 1,\n",
              "       2, 1, 2, 0, 3, 2, 0, 1, 2, 0, 0, 2, 3, 1, 2, 1, 1, 0, 0, 0, 0, 2,\n",
              "       1, 0, 2, 2, 2, 2, 1, 3, 1, 0, 3, 1, 3, 1, 3, 2, 1, 1, 1, 1, 1, 1,\n",
              "       3, 2, 1, 0, 3, 3, 3, 1, 3, 1, 3, 2, 1, 3, 0, 1, 2, 1, 0, 0, 0, 0,\n",
              "       0, 3, 1, 3, 0, 0, 3, 1, 0, 3, 0, 0, 0, 0, 2, 0, 1, 1, 2, 1, 0, 0,\n",
              "       1, 1, 1, 0, 2, 3, 3, 1, 0, 3, 0, 3, 2, 2, 0, 1, 1, 0, 3, 3, 0, 3,\n",
              "       1, 0, 2, 2, 3, 0, 3, 3, 0, 3, 2, 0, 0, 1, 3, 1, 0, 0, 1, 2, 3, 1,\n",
              "       3, 3, 3, 1, 3, 2, 3, 0, 0, 0, 2, 2, 3, 1, 3, 0, 0, 1, 0, 0, 3, 0,\n",
              "       0, 1, 0, 2, 1, 1, 0, 2, 1, 1, 3, 3, 1, 2, 2, 1, 2, 0, 1, 0, 1, 2,\n",
              "       3, 0, 2, 1, 0, 0, 2, 3, 1, 2, 3, 2, 1, 1, 1, 3, 3, 3, 2, 1, 0, 1,\n",
              "       0, 0, 3, 0, 3, 1, 1, 3, 3, 0, 3, 3, 3, 2, 2, 1, 0, 2, 0, 2, 1, 0,\n",
              "       2, 1, 0, 1, 2, 3, 1, 3, 1, 0, 1, 2, 0, 1, 3, 0, 1, 1, 3, 1, 3, 0,\n",
              "       2, 0, 3, 1, 3, 2, 0, 1, 0, 1, 3, 0, 3, 3, 0, 1, 0, 1, 0, 0, 0, 0,\n",
              "       3, 3, 1, 2, 2, 1, 0, 2, 1, 3, 1, 2, 1, 0, 1, 2, 2, 0, 3, 2, 2, 3,\n",
              "       3, 3, 2, 0, 3, 2, 0, 1, 3, 2, 3, 2, 3, 1, 3, 1, 2, 2, 0, 2, 3, 3,\n",
              "       2, 1, 2, 2, 1, 0, 1, 1, 1, 1, 0, 2, 1, 0, 3, 1, 1, 3, 2, 1, 2, 3,\n",
              "       1, 1, 2, 3, 0, 2, 2, 0, 2, 1, 2, 2, 0, 2, 3, 0, 3, 1, 2, 2, 0, 2,\n",
              "       1, 0, 2, 2, 3, 1, 1, 1, 1, 2, 0, 1, 1, 3, 1])"
            ]
          },
          "metadata": {},
          "execution_count": 29
        }
      ]
    },
    {
      "cell_type": "code",
      "source": [
        "cards2 = {\n",
        "\n",
        "  0: 'ace of spades',\n",
        "   \n",
        "  1: 'ace of hearts',\n",
        "\n",
        "  2: 'ace of clubs',\n",
        "\n",
        "  3: 'ace of diamonds',\n",
        "}"
      ],
      "metadata": {
        "id": "2YCqw3rAFZci"
      },
      "id": "2YCqw3rAFZci",
      "execution_count": null,
      "outputs": []
    },
    {
      "cell_type": "code",
      "source": [
        "plt.imshow(X_train[55], cmap = 'gray')\n",
        "plt.xlabel(cards2[y_train[55]])\n",
        "plt.show()"
      ],
      "metadata": {
        "id": "cR1kUsnNyYb0",
        "colab": {
          "base_uri": "https://localhost:8080/",
          "height": 282
        },
        "outputId": "60f8d043-72e6-414f-fa23-6e0991efb26b"
      },
      "id": "cR1kUsnNyYb0",
      "execution_count": null,
      "outputs": [
        {
          "output_type": "display_data",
          "data": {
            "text/plain": [
              "<Figure size 432x288 with 1 Axes>"
            ],
            "image/png": "[encoded data removed]"
          },
          "metadata": {
            "needs_background": "light"
          }
        }
      ]
    },
    {
      "cell_type": "code",
      "source": [
        "from keras.utils import to_categorical\n",
        "\n",
        "#Convert one-dimensional class arrays (output) into 10-dimensional class matrices:\n",
        "y_train = to_categorical(y_train, 10)\n",
        "y_test =  to_categorical(y_test, 10)\n",
        "#to_categorical: Converts a class vector (integers) to binary class matrix.\n",
        "\n",
        "print(y_train.shape)\n",
        "print(y_test.shape)"
      ],
      "metadata": {
        "id": "VeGfvAayq3CL",
        "colab": {
          "base_uri": "https://localhost:8080/"
        },
        "outputId": "1e7b5b64-1ea0-4252-fd55-aef4d80a47b3"
      },
      "id": "VeGfvAayq3CL",
      "execution_count": null,
      "outputs": [
        {
          "output_type": "stream",
          "name": "stdout",
          "text": [
            "(455, 10)\n",
            "(152, 10)\n"
          ]
        }
      ]
    },
    {
      "cell_type": "code",
      "source": [
        "print(y_train)"
      ],
      "metadata": {
        "id": "iFLmlwJDq3HV",
        "colab": {
          "base_uri": "https://localhost:8080/"
        },
        "outputId": "1d80314f-9b61-40f5-ad36-b2f4774fd345"
      },
      "id": "iFLmlwJDq3HV",
      "execution_count": null,
      "outputs": [
        {
          "output_type": "stream",
          "name": "stdout",
          "text": [
            "[[0. 1. 0. ... 0. 0. 0.]\n",
            " [1. 0. 0. ... 0. 0. 0.]\n",
            " [1. 0. 0. ... 0. 0. 0.]\n",
            " ...\n",
            " [0. 1. 0. ... 0. 0. 0.]\n",
            " [0. 0. 0. ... 0. 0. 0.]\n",
            " [0. 1. 0. ... 0. 0. 0.]]\n"
          ]
        }
      ]
    },
    {
      "cell_type": "code",
      "source": [
        "def write_dic_to_file(dic_name, file_name):\n",
        "  file = open(file_name, 'w')\n",
        "  file.write(str(dic_name))\n",
        "  file.close()\n",
        "\n",
        "import ast\n",
        "def read_dic_from_file(file_name):\n",
        "  file = open(file_name, \"r\")\n",
        "  contents = file.read()\n",
        "  dictionary = ast.literal_eval(contents)\n",
        "  file.close()\n",
        "  return dictionary\n",
        "\n",
        "def create_error_plot(model_history):\n",
        "  loss =  model_history.history['loss']\n",
        "  val_loss = model_history.history['val_loss']\n",
        "  accuracy = model_history.history['accuracy']\n",
        "  val_acc = model_history.history['val_accuracy']\n",
        "\n",
        "  epochs = np.arange(len(loss))\n",
        "\n",
        "  #epochs = model_history.epoch\n",
        "  fig = plt.figure(figsize = (12,5))\n",
        "\n",
        "  plt.subplot(121)\n",
        "  plt.plot(epochs, loss, color = 'red', marker = \"s\")\n",
        "  plt.plot(epochs, val_loss, marker = \"^\")\n",
        "  plt.legend([\"loss\", \"validation loss\"], loc=\"best\")\n",
        "  plt.xlabel(\"epoch\")\n",
        "  plt.ylabel(\"loss\")\n",
        "  plt.title(\"Training and Validation Loss\")\n",
        "\n",
        "  plt.subplot(122)\n",
        "  plt.plot(epochs, accuracy, color = 'red', marker = \"o\")\n",
        "  plt.plot(epochs, val_acc, marker = \"v\")\n",
        "  plt.legend([\"accuracy\", \"validation accuracy\"], loc=\"best\")\n",
        "  plt.xlabel(\"epoch\")\n",
        "  plt.ylabel(\"accuracy\")\n",
        "  plt.title(\"Training and Validation Accuracy Scores\")\n",
        "  fig.savefig(output_dir_path + \"error_plot.png\", dpi = 600)\n",
        "  plt.show()"
      ],
      "metadata": {
        "id": "QkGIIeonq3YW"
      },
      "id": "QkGIIeonq3YW",
      "execution_count": null,
      "outputs": []
    },
    {
      "cell_type": "code",
      "source": [
        "def Build_CNN_Model(conv_layers, dense_layers, kernel_size = (2, 2),  input_shape = (100, 100, 1), output_dim = 100,  optimizer = 'Adam', learning_rate = 0.01, verbose = 1):\n",
        "  \n",
        "  #====Start model initialization====\n",
        "  model = Sequential()\n",
        "\n",
        "  #=====Add convolution layers=====\n",
        "  for i in range(len(conv_layers)):\n",
        "    if len(conv_layers) == 1:\n",
        "      model.add(Conv2D(np.int(conv_layers[i]), kernel_size = kernel_size, input_shape = input_shape, activation='relu',  strides = 1, padding = 'same'))\n",
        "      model.add(MaxPool2D(padding = 'same'))\n",
        "    else:\n",
        "      \n",
        "      if i == 0:\n",
        "        model.add(Conv2D(np.int(conv_layers[i]), kernel_size = kernel_size, input_shape = input_shape, activation='relu',  strides = 1, padding = 'same'))\n",
        "        model.add(MaxPool2D(padding='same'))\n",
        "  \n",
        "      else:\n",
        "        model.add(Conv2D(np.int(conv_layers[i]), kernel_size = kernel_size, activation='relu',  strides = 1, padding = 'same'))\n",
        "        model.add(MaxPool2D(padding='same'))\n",
        "\n",
        "  #=====Flatten the output from Convolution + Pooling Layer =====\n",
        "  model.add(Flatten())\n",
        "\n",
        "  #=====Adding fully connected (dense ) layers =====\n",
        "  for i in range(len(dense_layers)):\n",
        "    model.add(Dense(np.int(dense_layers[i]),  activation='relu'))\n",
        "    #model.add(Dropout(0.10))\n",
        "\n",
        "  #=====Adding output layers =====\n",
        "  model.add(Dense(np.int(output_dim),  activation = 'softmax'))\n",
        "  \n",
        "  #=====Select Optimizer =====\n",
        "  if optimizer == 'Adam':\n",
        "    opt = optimizers.Adam(learning_rate = learning_rate)\n",
        "  elif optimizer == 'Adagrad': \n",
        "    opt = optimizers.Adagrad(learning_rate = learning_rate)\n",
        "  elif optimizer == 'Nadam':\n",
        "    opt = optimizers.Nadam(learning_rate = learning_rate)\n",
        "  elif optimizer == 'Adadelta':\n",
        "    opt = optimizers.Adadelta(learning_rate= learning_rate)\n",
        "  elif optimizer == 'RMSprop':\n",
        "    opt = optimizers.RMSprop(learning_rate= learning_rate)\n",
        "  else:\n",
        "    print(\"No optimizer found in the list(['Adam', 'Adagrad','Nadam', 'Adadelta', 'RMSprop'])! \\\n",
        "    Please apply your optimizer manually...\")\n",
        "  \n",
        "  #=====Compile Model =====\n",
        "  model.compile(loss='categorical_crossentropy', optimizer = opt,  metrics = ['accuracy'])\n",
        "\n",
        "  #model.fit(X_train,y_train,epochs=5,validation_data=(X_test,y_test))\n",
        "\n",
        "   \n",
        "  if verbose == 1:\n",
        "    print(model.summary())\n",
        "  return model"
      ],
      "metadata": {
        "id": "JUTtczQRq3f8"
      },
      "id": "JUTtczQRq3f8",
      "execution_count": null,
      "outputs": []
    },
    {
      "cell_type": "code",
      "source": [
        "conv_layers = [32, 16]\n",
        "\n",
        "dense_layers = [20, 10]\n",
        "\n",
        "kernel_size =  (2,2)\n",
        "\n",
        "input_shape = (100, 100, 1)\n",
        "\n",
        "output_dim = 100\n",
        "\n",
        "optimizer = 'Adam'\n",
        "\n",
        "learning_rate = 0.01\n",
        "\n",
        "verbose = 1\n",
        "\n",
        "Build_CNN_Model(conv_layers, dense_layers,  kernel_size, input_shape, output_dim, optimizer, learning_rate, verbose )"
      ],
      "metadata": {
        "id": "-47pqiwJq3nm",
        "colab": {
          "base_uri": "https://localhost:8080/"
        },
        "outputId": "57b4a0ce-e137-4efa-eee8-7d8bf5e30882"
      },
      "id": "-47pqiwJq3nm",
      "execution_count": null,
      "outputs": [
        {
          "output_type": "stream",
          "name": "stdout",
          "text": [
            "Model: \"sequential\"\n",
            "_________________________________________________________________\n",
            " Layer (type)                Output Shape              Param #   \n",
            "=================================================================\n",
            " conv2d (Conv2D)             (None, 100, 100, 32)      160       \n",
            "                                                                 \n",
            " max_pooling2d (MaxPooling2D  (None, 50, 50, 32)       0         \n",
            " )                                                               \n",
            "                                                                 \n",
            " conv2d_1 (Conv2D)           (None, 50, 50, 16)        2064      \n",
            "                                                                 \n",
            " max_pooling2d_1 (MaxPooling  (None, 25, 25, 16)       0         \n",
            " 2D)                                                             \n",
            "                                                                 \n",
            " flatten (Flatten)           (None, 10000)             0         \n",
            "                                                                 \n",
            " dense (Dense)               (None, 20)                200020    \n",
            "                                                                 \n",
            " dense_1 (Dense)             (None, 10)                210       \n",
            "                                                                 \n",
            " dense_2 (Dense)             (None, 100)               1100      \n",
            "                                                                 \n",
            "=================================================================\n",
            "Total params: 203,554\n",
            "Trainable params: 203,554\n",
            "Non-trainable params: 0\n",
            "_________________________________________________________________\n",
            "None\n"
          ]
        },
        {
          "output_type": "execute_result",
          "data": {
            "text/plain": [
              "<keras.engine.sequential.Sequential at 0x7fd6b6f39520>"
            ]
          },
          "metadata": {},
          "execution_count": 37
        }
      ]
    },
    {
      "cell_type": "markdown",
      "source": [
        "#### CNN Model"
      ],
      "metadata": {
        "id": "pnj7tuf-PG3V"
      },
      "id": "pnj7tuf-PG3V"
    },
    {
      "cell_type": "code",
      "source": [
        "def CNN_Model (conv_layers =  [32, 16],\n",
        "               dense_layers = [20, 10],\n",
        "               kernel_size = (2,2),\n",
        "               input_shape = (100, 100, 1),  \n",
        "               output_dim  = 100,\n",
        "               optimizer = 'Adam',\n",
        "               learning_rate = 0.01,\n",
        "               X_train = None,\n",
        "               y_train = None,\n",
        "               X_test =  None, \n",
        "               y_test =  None, \n",
        "               val_split = 0.2,\n",
        "               batch_size = 10,\n",
        "               epochs = 25, \n",
        "               verbose = 1):\n",
        "  \n",
        "  print('Building CNN Model.......................\\n')\n",
        "  #Build CNN model\n",
        "  model = Build_CNN_Model(conv_layers, dense_layers,  kernel_size, input_shape, output_dim, optimizer, learning_rate, verbose =0 )\n",
        "  \n",
        "  print('Fitting  CNN Model.......................\\n')\n",
        "  #Fit CNN model\n",
        "  callback = tf.keras.callbacks.EarlyStopping(monitor='val_loss', patience= 10)\n",
        "  #history = model.fit(X_train, y_train, batch_size = batch_size, epochs = epochs,  validation_split = val_split, callbacks = [callback], verbose = verbose)\n",
        "  history = model.fit(X_train, y_train, batch_size = batch_size, epochs = epochs,  validation_split = val_split, verbose = verbose)\n",
        "  \n",
        "  print('Calculating predictions and scores....')\n",
        "  print('Calculating predictions and scores.......................\\n')\n",
        "\n",
        "  #Calculate predictions \n",
        "  pred = model.predict(X_test)\n",
        "\n",
        "  #Calculate test scores\n",
        "  scores = model.evaluate(X_test, y_test)\n",
        "\n",
        "  #Create plots\n",
        "  #create_error_plot(history)\n",
        "  \n",
        "  print('Collecting outputs.......................\\n')\n",
        "  output = {\n",
        "            'model': model,\n",
        "            'model_history': history, \n",
        "            'test_loss': scores[0],\n",
        "            'test_acc': scores[1],\n",
        "            'test_predictions': pred,\n",
        "       }\n",
        "  \n",
        "  print('Congratuations! All the processes are completed successfully....\\n')  \n",
        "  return output"
      ],
      "metadata": {
        "id": "J3D77PG2E8M1"
      },
      "id": "J3D77PG2E8M1",
      "execution_count": null,
      "outputs": []
    },
    {
      "cell_type": "code",
      "source": [
        "model_output = CNN_Model (conv_layers = [32, 16],\n",
        "                    dense_layers = [20, 10],\n",
        "                    kernel_size = (2,2) ,\n",
        "                    input_shape = (64, 64, 3), \n",
        "                    output_dim  = 10, \n",
        "                    optimizer = 'Adam', \n",
        "                    learning_rate = 0.01,\n",
        "                    X_train = X_train,\n",
        "                    y_train = y_train,\n",
        "                    X_test = X_test,\n",
        "                    y_test =  y_test, \n",
        "                    val_split = 0.2,\n",
        "                    batch_size = 10,\n",
        "                    epochs = 25, \n",
        "                    verbose = 1\n",
        "                    )"
      ],
      "metadata": {
        "colab": {
          "base_uri": "https://localhost:8080/"
        },
        "id": "MBXWZUjiFMqp",
        "outputId": "0e29a35e-d9fb-4262-f159-60a43b396044"
      },
      "id": "MBXWZUjiFMqp",
      "execution_count": null,
      "outputs": [
        {
          "output_type": "stream",
          "name": "stdout",
          "text": [
            "Building CNN Model.......................\n",
            "\n",
            "Fitting  CNN Model.......................\n",
            "\n",
            "Epoch 1/25\n",
            "37/37 [==============================] - 10s 13ms/step - loss: 1.4892 - accuracy: 0.3846 - val_loss: 2.0756 - val_accuracy: 0.3736\n",
            "Epoch 2/25\n",
            "37/37 [==============================] - 0s 5ms/step - loss: 1.0215 - accuracy: 0.5659 - val_loss: 0.9304 - val_accuracy: 0.5165\n",
            "Epoch 3/25\n",
            "37/37 [==============================] - 0s 5ms/step - loss: 0.8367 - accuracy: 0.6209 - val_loss: 0.9133 - val_accuracy: 0.5495\n",
            "Epoch 4/25\n",
            "37/37 [==============================] - 0s 5ms/step - loss: 0.7417 - accuracy: 0.6566 - val_loss: 0.7786 - val_accuracy: 0.6923\n",
            "Epoch 5/25\n",
            "37/37 [==============================] - 0s 6ms/step - loss: 0.6297 - accuracy: 0.6978 - val_loss: 0.6683 - val_accuracy: 0.6813\n",
            "Epoch 6/25\n",
            "37/37 [==============================] - 0s 6ms/step - loss: 0.5898 - accuracy: 0.7720 - val_loss: 0.6481 - val_accuracy: 0.7582\n",
            "Epoch 7/25\n",
            "37/37 [==============================] - 0s 6ms/step - loss: 0.4323 - accuracy: 0.8214 - val_loss: 0.5312 - val_accuracy: 0.8242\n",
            "Epoch 8/25\n",
            "37/37 [==============================] - 0s 5ms/step - loss: 0.3798 - accuracy: 0.8599 - val_loss: 0.9803 - val_accuracy: 0.6154\n",
            "Epoch 9/25\n",
            "37/37 [==============================] - 0s 6ms/step - loss: 0.3961 - accuracy: 0.8489 - val_loss: 0.7465 - val_accuracy: 0.7582\n",
            "Epoch 10/25\n",
            "37/37 [==============================] - 0s 6ms/step - loss: 0.3303 - accuracy: 0.8571 - val_loss: 0.8334 - val_accuracy: 0.7143\n",
            "Epoch 11/25\n",
            "37/37 [==============================] - 0s 6ms/step - loss: 0.3177 - accuracy: 0.8709 - val_loss: 1.3040 - val_accuracy: 0.7143\n",
            "Epoch 12/25\n",
            "37/37 [==============================] - 0s 6ms/step - loss: 0.1831 - accuracy: 0.9423 - val_loss: 0.5999 - val_accuracy: 0.7802\n",
            "Epoch 13/25\n",
            "37/37 [==============================] - 0s 5ms/step - loss: 0.1607 - accuracy: 0.9423 - val_loss: 0.7013 - val_accuracy: 0.8242\n",
            "Epoch 14/25\n",
            "37/37 [==============================] - 0s 5ms/step - loss: 0.1216 - accuracy: 0.9560 - val_loss: 0.8436 - val_accuracy: 0.7582\n",
            "Epoch 15/25\n",
            "37/37 [==============================] - 0s 5ms/step - loss: 0.1476 - accuracy: 0.9615 - val_loss: 0.6372 - val_accuracy: 0.8242\n",
            "Epoch 16/25\n",
            "37/37 [==============================] - 0s 5ms/step - loss: 0.2127 - accuracy: 0.9423 - val_loss: 0.7821 - val_accuracy: 0.7143\n",
            "Epoch 17/25\n",
            "37/37 [==============================] - 0s 5ms/step - loss: 0.1399 - accuracy: 0.9588 - val_loss: 1.1812 - val_accuracy: 0.6703\n",
            "Epoch 18/25\n",
            "37/37 [==============================] - 0s 5ms/step - loss: 0.1502 - accuracy: 0.9451 - val_loss: 1.7407 - val_accuracy: 0.6703\n",
            "Epoch 19/25\n",
            "37/37 [==============================] - 0s 6ms/step - loss: 0.1357 - accuracy: 0.9505 - val_loss: 0.9709 - val_accuracy: 0.7582\n",
            "Epoch 20/25\n",
            "37/37 [==============================] - 0s 5ms/step - loss: 0.0755 - accuracy: 0.9753 - val_loss: 0.8870 - val_accuracy: 0.8242\n",
            "Epoch 21/25\n",
            "37/37 [==============================] - 0s 6ms/step - loss: 0.0580 - accuracy: 0.9808 - val_loss: 1.2501 - val_accuracy: 0.8242\n",
            "Epoch 22/25\n",
            "37/37 [==============================] - 0s 5ms/step - loss: 0.1369 - accuracy: 0.9505 - val_loss: 1.1166 - val_accuracy: 0.7912\n",
            "Epoch 23/25\n",
            "37/37 [==============================] - 0s 5ms/step - loss: 0.0934 - accuracy: 0.9753 - val_loss: 1.2919 - val_accuracy: 0.8791\n",
            "Epoch 24/25\n",
            "37/37 [==============================] - 0s 5ms/step - loss: 0.0299 - accuracy: 0.9890 - val_loss: 1.3694 - val_accuracy: 0.8352\n",
            "Epoch 25/25\n",
            "37/37 [==============================] - 0s 5ms/step - loss: 0.0196 - accuracy: 0.9918 - val_loss: 1.4965 - val_accuracy: 0.8022\n",
            "Calculating predictions and scores....\n",
            "Calculating predictions and scores.......................\n",
            "\n",
            "5/5 [==============================] - 0s 12ms/step\n",
            "5/5 [==============================] - 0s 5ms/step - loss: 1.6432 - accuracy: 0.7697\n",
            "Collecting outputs.......................\n",
            "\n",
            "Congratuations! All the processes are completed successfully....\n",
            "\n"
          ]
        }
      ]
    },
    {
      "cell_type": "code",
      "source": [
        "create_error_plot(model_output['model_history'])"
      ],
      "metadata": {
        "colab": {
          "base_uri": "https://localhost:8080/",
          "height": 350
        },
        "id": "gUUKIjw4FMw4",
        "outputId": "4234a440-92c3-44a8-9f44-d484c077812e"
      },
      "id": "gUUKIjw4FMw4",
      "execution_count": null,
      "outputs": [
        {
          "output_type": "display_data",
          "data": {
            "text/plain": [
              "<Figure size 864x360 with 2 Axes>"
            ],
            "image/png": "[encoded data removed]"
          },
          "metadata": {
            "needs_background": "light"
          }
        }
      ]
    },
    {
      "cell_type": "markdown",
      "source": [
        "#### Multi Run CNN Model"
      ],
      "metadata": {
        "id": "CJxvItZ4PNnC"
      },
      "id": "CJxvItZ4PNnC"
    },
    {
      "cell_type": "code",
      "source": [
        "def Multi_Run_CNN_Model(num_replicates =  None,\n",
        "                      conv_layers = None,\n",
        "                      dense_layers =  None,\n",
        "                      kernel_size =  None,\n",
        "                      input_shape =  None,\n",
        "                      output_dim  =  None,\n",
        "                      optimizer =  None,\n",
        "                      learning_rate = None,\n",
        "                      X_train = None,\n",
        "                      y_train = None,\n",
        "                      X_test =  None, \n",
        "                      y_test =  None, \n",
        "                      val_split = None,\n",
        "                      batch_size =  None,\n",
        "                      epochs =  None,\n",
        "                      verbose =  None,\n",
        "                      ):\n",
        "  \n",
        "  \n",
        "  all_test_acc = []\n",
        "  best_test_acc = 0\n",
        "  best_replicate = None,\n",
        "  best_test_model = None, \n",
        "\n",
        "  for i in range(num_replicates):\n",
        "    print('===== Running ' + str(i) +\" replicate=======\")\n",
        "\n",
        "    model_output = CNN_Model (conv_layers = conv_layers,\n",
        "                              dense_layers = dense_layers,\n",
        "                              kernel_size = kernel_size,\n",
        "                              input_shape =input_shape,\n",
        "                              output_dim = output_dim,\n",
        "                              optimizer  =  optimizer,\n",
        "                              learning_rate= learning_rate,\n",
        "                              X_train=  X_train,\n",
        "                              y_train =  y_train,\n",
        "                              X_test = X_test,\n",
        "                              y_test =  y_test,\n",
        "                              val_split= val_split,\n",
        "                              epochs =  epochs, \n",
        "                              verbose = 1)\n",
        "    \n",
        "    all_test_acc.append(model_output['test_acc'])\n",
        "\n",
        "    if model_output['test_acc'] > best_test_acc:\n",
        "      best_test_model = model_output\n",
        "      best_replicate = i\n",
        "\n",
        "\n",
        "  avg_test_acc = np.mean(np.array(all_test_acc))\n",
        "  \n",
        "  output = {\n",
        "      'best_model':  best_test_model,\n",
        "      'best_replicate': best_replicate,\n",
        "      'all_test_acc': all_test_acc,\n",
        "      'average_test_acc': avg_test_acc\n",
        "  }\n",
        "  \n",
        "  #file_name = output_dir_path+ \"multi-run-cnn-\" + str(conv_layers) +\"-conv_layers-\"+ str(dense_layers) + \"-dense_layers-\"+ \"results\" + \".txt\"\n",
        "  #write_dic_to_file(output, file_name)\n",
        "\n",
        "  print('Avarage test accuracy: ', avg_test_acc)\n",
        "\n",
        "  #file_name = output_dir_path+ \"multi-run-cnn-\" + str(conv_layers) + \"-conv_layers-\"+ str(dense_layers) + \"-dense_layers-\"+ \"-all_accuracies-\" + \".txt\"\n",
        "  \n",
        "\n",
        "  return output"
      ],
      "metadata": {
        "id": "kgr9U28tFM0i"
      },
      "id": "kgr9U28tFM0i",
      "execution_count": null,
      "outputs": []
    },
    {
      "cell_type": "code",
      "source": [],
      "metadata": {
        "id": "vqnIkjj-X2PA"
      },
      "id": "vqnIkjj-X2PA",
      "execution_count": null,
      "outputs": []
    },
    {
      "cell_type": "markdown",
      "source": [
        "#### **Case I:**\n",
        "\n",
        " - conv_layers =  [32]\n",
        " - dense_layers = [20]\n",
        " - optimizer = 'Adam'\n",
        " - learning_rate = 0.01\n",
        " - num_replicates = 3"
      ],
      "metadata": {
        "id": "DpzYdR2D_PwQ"
      },
      "id": "DpzYdR2D_PwQ"
    },
    {
      "cell_type": "code",
      "source": [
        "case1_model_output = Multi_Run_CNN_Model(num_replicates = 3,\n",
        "                                   conv_layers =  [16],\n",
        "                                   dense_layers = [60],\n",
        "                                   kernel_size = (2,2) ,\n",
        "                                   input_shape = (64, 64, 3), \n",
        "                                    output_dim  = 10, \n",
        "                                    optimizer = 'Adam', \n",
        "                                    learning_rate = 0.01,\n",
        "                                    X_train = X_train,\n",
        "                                    y_train = y_train,\n",
        "                                    X_test = X_test,\n",
        "                                    y_test =  y_test, \n",
        "                                    val_split = 0.2,\n",
        "                                    batch_size = 25,\n",
        "                                    epochs = 25,\n",
        "                                    verbose = 1\n",
        "                                    )\n",
        "\n",
        "\n",
        "#full results \n",
        "write_dic_to_file(case1_model_output, output_dir_path+ \"case1_hyperparameter_tuning_results\" + \".txt\")\n",
        "\n",
        "print(case1_model_output)"
      ],
      "metadata": {
        "id": "BhRF1_7eFM6y",
        "colab": {
          "base_uri": "https://localhost:8080/"
        },
        "outputId": "88f1064a-d5cc-478d-e722-c7d087ea61cb"
      },
      "id": "BhRF1_7eFM6y",
      "execution_count": null,
      "outputs": [
        {
          "output_type": "stream",
          "name": "stdout",
          "text": [
            "===== Running 0 replicate=======\n",
            "Building CNN Model.......................\n",
            "\n",
            "Fitting  CNN Model.......................\n",
            "\n",
            "Epoch 1/25\n",
            "37/37 [==============================] - 1s 10ms/step - loss: 6.4912 - accuracy: 0.4973 - val_loss: 1.0285 - val_accuracy: 0.6813\n",
            "Epoch 2/25\n",
            "37/37 [==============================] - 0s 5ms/step - loss: 0.5942 - accuracy: 0.7912 - val_loss: 0.8885 - val_accuracy: 0.6484\n",
            "Epoch 3/25\n",
            "37/37 [==============================] - 0s 5ms/step - loss: 0.3832 - accuracy: 0.8819 - val_loss: 1.2319 - val_accuracy: 0.5714\n",
            "Epoch 4/25\n",
            "37/37 [==============================] - 0s 5ms/step - loss: 0.2760 - accuracy: 0.9231 - val_loss: 0.8892 - val_accuracy: 0.6593\n",
            "Epoch 5/25\n",
            "37/37 [==============================] - 0s 5ms/step - loss: 0.0901 - accuracy: 0.9780 - val_loss: 0.9386 - val_accuracy: 0.7363\n",
            "Epoch 6/25\n",
            "37/37 [==============================] - 0s 6ms/step - loss: 0.0502 - accuracy: 0.9918 - val_loss: 1.1469 - val_accuracy: 0.6703\n",
            "Epoch 7/25\n",
            "37/37 [==============================] - 0s 6ms/step - loss: 0.0494 - accuracy: 0.9835 - val_loss: 1.7095 - val_accuracy: 0.6923\n",
            "Epoch 8/25\n",
            "37/37 [==============================] - 0s 6ms/step - loss: 0.1317 - accuracy: 0.9698 - val_loss: 1.1985 - val_accuracy: 0.6813\n",
            "Epoch 9/25\n",
            "37/37 [==============================] - 0s 6ms/step - loss: 0.2811 - accuracy: 0.9670 - val_loss: 1.1283 - val_accuracy: 0.7033\n",
            "Epoch 10/25\n",
            "37/37 [==============================] - 0s 5ms/step - loss: 0.2378 - accuracy: 0.9560 - val_loss: 1.2597 - val_accuracy: 0.6374\n",
            "Epoch 11/25\n",
            "37/37 [==============================] - 0s 5ms/step - loss: 0.2690 - accuracy: 0.9286 - val_loss: 1.4811 - val_accuracy: 0.6923\n",
            "Epoch 12/25\n",
            "37/37 [==============================] - 0s 4ms/step - loss: 0.0750 - accuracy: 0.9698 - val_loss: 1.5015 - val_accuracy: 0.6923\n",
            "Epoch 13/25\n",
            "37/37 [==============================] - 0s 4ms/step - loss: 0.0399 - accuracy: 0.9918 - val_loss: 1.6234 - val_accuracy: 0.6923\n",
            "Epoch 14/25\n",
            "37/37 [==============================] - 0s 6ms/step - loss: 0.0054 - accuracy: 1.0000 - val_loss: 1.5002 - val_accuracy: 0.7692\n",
            "Epoch 15/25\n",
            "37/37 [==============================] - 0s 5ms/step - loss: 0.0027 - accuracy: 1.0000 - val_loss: 1.5230 - val_accuracy: 0.7692\n",
            "Epoch 16/25\n",
            "37/37 [==============================] - 0s 5ms/step - loss: 0.0017 - accuracy: 1.0000 - val_loss: 1.5725 - val_accuracy: 0.7473\n",
            "Epoch 17/25\n",
            "37/37 [==============================] - 0s 6ms/step - loss: 0.0012 - accuracy: 1.0000 - val_loss: 1.6134 - val_accuracy: 0.7473\n",
            "Epoch 18/25\n",
            "37/37 [==============================] - 0s 6ms/step - loss: 9.4620e-04 - accuracy: 1.0000 - val_loss: 1.6372 - val_accuracy: 0.7363\n",
            "Epoch 19/25\n",
            "37/37 [==============================] - 0s 4ms/step - loss: 7.9223e-04 - accuracy: 1.0000 - val_loss: 1.6591 - val_accuracy: 0.7253\n",
            "Epoch 20/25\n",
            "37/37 [==============================] - 0s 5ms/step - loss: 6.7088e-04 - accuracy: 1.0000 - val_loss: 1.6759 - val_accuracy: 0.7253\n",
            "Epoch 21/25\n",
            "37/37 [==============================] - 0s 5ms/step - loss: 5.8597e-04 - accuracy: 1.0000 - val_loss: 1.6901 - val_accuracy: 0.7253\n",
            "Epoch 22/25\n",
            "37/37 [==============================] - 0s 6ms/step - loss: 5.2481e-04 - accuracy: 1.0000 - val_loss: 1.7041 - val_accuracy: 0.7253\n",
            "Epoch 23/25\n",
            "37/37 [==============================] - 0s 6ms/step - loss: 4.6249e-04 - accuracy: 1.0000 - val_loss: 1.7171 - val_accuracy: 0.7253\n",
            "Epoch 24/25\n",
            "37/37 [==============================] - 0s 6ms/step - loss: 4.1946e-04 - accuracy: 1.0000 - val_loss: 1.7272 - val_accuracy: 0.7363\n",
            "Epoch 25/25\n",
            "37/37 [==============================] - 0s 4ms/step - loss: 3.8056e-04 - accuracy: 1.0000 - val_loss: 1.7384 - val_accuracy: 0.7363\n",
            "Calculating predictions and scores....\n",
            "Calculating predictions and scores.......................\n",
            "\n",
            "5/5 [==============================] - 0s 7ms/step\n",
            "5/5 [==============================] - 0s 4ms/step - loss: 1.4630 - accuracy: 0.7697\n",
            "Collecting outputs.......................\n",
            "\n",
            "Congratuations! All the processes are completed successfully....\n",
            "\n",
            "===== Running 1 replicate=======\n",
            "Building CNN Model.......................\n",
            "\n",
            "Fitting  CNN Model.......................\n",
            "\n",
            "Epoch 1/25\n",
            "37/37 [==============================] - 1s 9ms/step - loss: 7.1581 - accuracy: 0.3297 - val_loss: 1.1514 - val_accuracy: 0.5714\n",
            "Epoch 2/25\n",
            "37/37 [==============================] - 0s 6ms/step - loss: 0.8344 - accuracy: 0.6648 - val_loss: 0.7515 - val_accuracy: 0.6923\n",
            "Epoch 3/25\n",
            "37/37 [==============================] - 0s 5ms/step - loss: 0.4254 - accuracy: 0.8407 - val_loss: 0.7699 - val_accuracy: 0.6264\n",
            "Epoch 4/25\n",
            "37/37 [==============================] - 0s 6ms/step - loss: 0.2422 - accuracy: 0.9066 - val_loss: 0.7780 - val_accuracy: 0.6374\n",
            "Epoch 5/25\n",
            "37/37 [==============================] - 0s 4ms/step - loss: 0.1643 - accuracy: 0.9423 - val_loss: 0.6610 - val_accuracy: 0.7033\n",
            "Epoch 6/25\n",
            "37/37 [==============================] - 0s 5ms/step - loss: 0.1245 - accuracy: 0.9588 - val_loss: 0.9293 - val_accuracy: 0.7582\n",
            "Epoch 7/25\n",
            "37/37 [==============================] - 0s 5ms/step - loss: 0.1000 - accuracy: 0.9725 - val_loss: 0.9448 - val_accuracy: 0.7363\n",
            "Epoch 8/25\n",
            "37/37 [==============================] - 0s 6ms/step - loss: 0.0393 - accuracy: 0.9918 - val_loss: 1.1244 - val_accuracy: 0.7363\n",
            "Epoch 9/25\n",
            "37/37 [==============================] - 0s 6ms/step - loss: 0.0250 - accuracy: 1.0000 - val_loss: 1.1310 - val_accuracy: 0.7143\n",
            "Epoch 10/25\n",
            "37/37 [==============================] - 0s 5ms/step - loss: 0.0085 - accuracy: 1.0000 - val_loss: 1.0546 - val_accuracy: 0.7692\n",
            "Epoch 11/25\n",
            "37/37 [==============================] - 0s 6ms/step - loss: 0.0086 - accuracy: 1.0000 - val_loss: 1.2601 - val_accuracy: 0.7143\n",
            "Epoch 12/25\n",
            "37/37 [==============================] - 0s 6ms/step - loss: 0.0027 - accuracy: 1.0000 - val_loss: 1.2852 - val_accuracy: 0.7253\n",
            "Epoch 13/25\n",
            "37/37 [==============================] - 0s 5ms/step - loss: 0.0016 - accuracy: 1.0000 - val_loss: 1.2762 - val_accuracy: 0.7143\n",
            "Epoch 14/25\n",
            "37/37 [==============================] - 0s 5ms/step - loss: 9.8131e-04 - accuracy: 1.0000 - val_loss: 1.3290 - val_accuracy: 0.7143\n",
            "Epoch 15/25\n",
            "37/37 [==============================] - 0s 5ms/step - loss: 7.5361e-04 - accuracy: 1.0000 - val_loss: 1.3222 - val_accuracy: 0.7143\n",
            "Epoch 16/25\n",
            "37/37 [==============================] - 0s 5ms/step - loss: 6.7750e-04 - accuracy: 1.0000 - val_loss: 1.3560 - val_accuracy: 0.7143\n",
            "Epoch 17/25\n",
            "37/37 [==============================] - 0s 5ms/step - loss: 5.8122e-04 - accuracy: 1.0000 - val_loss: 1.3708 - val_accuracy: 0.7143\n",
            "Epoch 18/25\n",
            "37/37 [==============================] - 0s 7ms/step - loss: 5.1649e-04 - accuracy: 1.0000 - val_loss: 1.3674 - val_accuracy: 0.7033\n",
            "Epoch 19/25\n",
            "37/37 [==============================] - 0s 7ms/step - loss: 4.6324e-04 - accuracy: 1.0000 - val_loss: 1.3760 - val_accuracy: 0.7033\n",
            "Epoch 20/25\n",
            "37/37 [==============================] - 0s 7ms/step - loss: 4.3243e-04 - accuracy: 1.0000 - val_loss: 1.4067 - val_accuracy: 0.6923\n",
            "Epoch 21/25\n",
            "37/37 [==============================] - 0s 8ms/step - loss: 3.8623e-04 - accuracy: 1.0000 - val_loss: 1.3998 - val_accuracy: 0.7143\n",
            "Epoch 22/25\n",
            "37/37 [==============================] - 0s 9ms/step - loss: 3.4877e-04 - accuracy: 1.0000 - val_loss: 1.4110 - val_accuracy: 0.7143\n",
            "Epoch 23/25\n",
            "37/37 [==============================] - 0s 9ms/step - loss: 3.2240e-04 - accuracy: 1.0000 - val_loss: 1.4181 - val_accuracy: 0.7033\n",
            "Epoch 24/25\n",
            "37/37 [==============================] - 0s 8ms/step - loss: 2.9007e-04 - accuracy: 1.0000 - val_loss: 1.4312 - val_accuracy: 0.7033\n",
            "Epoch 25/25\n",
            "37/37 [==============================] - 0s 9ms/step - loss: 2.7436e-04 - accuracy: 1.0000 - val_loss: 1.4448 - val_accuracy: 0.7033\n",
            "Calculating predictions and scores....\n",
            "Calculating predictions and scores.......................\n",
            "\n",
            "5/5 [==============================] - 0s 7ms/step\n",
            "5/5 [==============================] - 0s 9ms/step - loss: 1.5077 - accuracy: 0.7763\n",
            "Collecting outputs.......................\n",
            "\n",
            "Congratuations! All the processes are completed successfully....\n",
            "\n",
            "===== Running 2 replicate=======\n",
            "Building CNN Model.......................\n",
            "\n",
            "Fitting  CNN Model.......................\n",
            "\n",
            "Epoch 1/25\n",
            "37/37 [==============================] - 1s 17ms/step - loss: 2.0085 - accuracy: 0.4973 - val_loss: 0.9848 - val_accuracy: 0.5495\n",
            "Epoch 2/25\n",
            "37/37 [==============================] - 0s 9ms/step - loss: 0.6152 - accuracy: 0.7610 - val_loss: 1.1143 - val_accuracy: 0.6374\n",
            "Epoch 3/25\n",
            "37/37 [==============================] - 0s 8ms/step - loss: 0.3476 - accuracy: 0.8791 - val_loss: 1.2385 - val_accuracy: 0.6923\n",
            "Epoch 4/25\n",
            "37/37 [==============================] - 0s 10ms/step - loss: 0.2574 - accuracy: 0.9176 - val_loss: 1.5217 - val_accuracy: 0.6813\n",
            "Epoch 5/25\n",
            "37/37 [==============================] - 0s 8ms/step - loss: 0.3035 - accuracy: 0.9451 - val_loss: 1.5806 - val_accuracy: 0.6813\n",
            "Epoch 6/25\n",
            "37/37 [==============================] - 0s 8ms/step - loss: 0.2212 - accuracy: 0.9478 - val_loss: 1.3040 - val_accuracy: 0.6923\n",
            "Epoch 7/25\n",
            "37/37 [==============================] - 0s 7ms/step - loss: 0.0479 - accuracy: 0.9890 - val_loss: 1.4830 - val_accuracy: 0.6484\n",
            "Epoch 8/25\n",
            "37/37 [==============================] - 0s 6ms/step - loss: 0.0229 - accuracy: 0.9918 - val_loss: 1.6126 - val_accuracy: 0.7143\n",
            "Epoch 9/25\n",
            "37/37 [==============================] - 0s 7ms/step - loss: 0.0189 - accuracy: 0.9945 - val_loss: 1.6631 - val_accuracy: 0.7143\n",
            "Epoch 10/25\n",
            "37/37 [==============================] - 0s 4ms/step - loss: 0.0082 - accuracy: 1.0000 - val_loss: 1.9469 - val_accuracy: 0.7033\n",
            "Epoch 11/25\n",
            "37/37 [==============================] - 0s 4ms/step - loss: 0.0029 - accuracy: 1.0000 - val_loss: 1.9534 - val_accuracy: 0.6923\n",
            "Epoch 12/25\n",
            "37/37 [==============================] - 0s 4ms/step - loss: 0.0013 - accuracy: 1.0000 - val_loss: 2.0633 - val_accuracy: 0.7033\n",
            "Epoch 13/25\n",
            "37/37 [==============================] - 0s 6ms/step - loss: 0.0010 - accuracy: 1.0000 - val_loss: 2.1224 - val_accuracy: 0.7033\n",
            "Epoch 14/25\n",
            "37/37 [==============================] - 0s 5ms/step - loss: 8.1313e-04 - accuracy: 1.0000 - val_loss: 2.1461 - val_accuracy: 0.6923\n",
            "Epoch 15/25\n",
            "37/37 [==============================] - 0s 5ms/step - loss: 6.8758e-04 - accuracy: 1.0000 - val_loss: 2.1948 - val_accuracy: 0.6703\n",
            "Epoch 16/25\n",
            "37/37 [==============================] - 0s 4ms/step - loss: 5.8440e-04 - accuracy: 1.0000 - val_loss: 2.1869 - val_accuracy: 0.7033\n",
            "Epoch 17/25\n",
            "37/37 [==============================] - 0s 4ms/step - loss: 4.7600e-04 - accuracy: 1.0000 - val_loss: 2.2114 - val_accuracy: 0.7033\n",
            "Epoch 18/25\n",
            "37/37 [==============================] - 0s 6ms/step - loss: 4.2226e-04 - accuracy: 1.0000 - val_loss: 2.2254 - val_accuracy: 0.6923\n",
            "Epoch 19/25\n",
            "37/37 [==============================] - 0s 6ms/step - loss: 3.6743e-04 - accuracy: 1.0000 - val_loss: 2.2469 - val_accuracy: 0.6923\n",
            "Epoch 20/25\n",
            "37/37 [==============================] - 0s 6ms/step - loss: 3.1994e-04 - accuracy: 1.0000 - val_loss: 2.2761 - val_accuracy: 0.7033\n",
            "Epoch 21/25\n",
            "37/37 [==============================] - 0s 5ms/step - loss: 2.9532e-04 - accuracy: 1.0000 - val_loss: 2.2961 - val_accuracy: 0.6923\n",
            "Epoch 22/25\n",
            "37/37 [==============================] - 0s 5ms/step - loss: 2.5635e-04 - accuracy: 1.0000 - val_loss: 2.3025 - val_accuracy: 0.6813\n",
            "Epoch 23/25\n",
            "37/37 [==============================] - 0s 6ms/step - loss: 2.3333e-04 - accuracy: 1.0000 - val_loss: 2.3221 - val_accuracy: 0.6813\n",
            "Epoch 24/25\n",
            "37/37 [==============================] - 0s 5ms/step - loss: 2.1597e-04 - accuracy: 1.0000 - val_loss: 2.3336 - val_accuracy: 0.6813\n",
            "Epoch 25/25\n",
            "37/37 [==============================] - 0s 6ms/step - loss: 1.9421e-04 - accuracy: 1.0000 - val_loss: 2.3635 - val_accuracy: 0.6813\n",
            "Calculating predictions and scores....\n",
            "Calculating predictions and scores.......................\n",
            "\n",
            "5/5 [==============================] - 0s 3ms/step\n",
            "5/5 [==============================] - 0s 4ms/step - loss: 1.8054 - accuracy: 0.7500\n",
            "Collecting outputs.......................\n",
            "\n",
            "Congratuations! All the processes are completed successfully....\n",
            "\n",
            "Avarage test accuracy:  0.765350878238678\n",
            "{'best_model': {'model': <keras.engine.sequential.Sequential object at 0x7fd652342a00>, 'model_history': <keras.callbacks.History object at 0x7fd652046310>, 'test_loss': 1.8053723573684692, 'test_acc': 0.75, 'test_predictions': array([[9.9999154e-01, 6.6333228e-12, 8.4460617e-06, ..., 1.0110625e-28,\n",
            "        2.8431306e-30, 1.5485199e-25],\n",
            "       [1.7186256e-01, 5.5607338e-06, 3.1473808e-06, ..., 4.1231454e-20,\n",
            "        8.9491297e-21, 1.3647474e-18],\n",
            "       [1.7859374e-07, 9.9186265e-01, 4.7005615e-06, ..., 4.0368214e-17,\n",
            "        3.4381016e-18, 1.7165649e-16],\n",
            "       ...,\n",
            "       [6.2332406e-09, 9.4091964e-01, 6.5628683e-08, ..., 6.8023186e-22,\n",
            "        5.2572042e-23, 9.8217972e-21],\n",
            "       [9.9999988e-01, 1.7003825e-11, 9.6615103e-08, ..., 2.3470305e-27,\n",
            "        1.8636272e-29, 9.0821266e-26],\n",
            "       [1.2935073e-09, 9.9889767e-01, 9.3718389e-10, ..., 4.8871568e-18,\n",
            "        9.2131816e-20, 5.4501251e-18]], dtype=float32)}, 'best_replicate': 2, 'all_test_acc': [0.7697368264198303, 0.7763158082962036, 0.75], 'average_test_acc': 0.765350878238678}\n"
          ]
        }
      ]
    },
    {
      "cell_type": "markdown",
      "source": [
        "#### **Case II:**\n",
        "\n",
        " - conv_layers =  [32]\n",
        " - dense_layers = [20]\n",
        " - optimizer = 'Adagrad'\n",
        " - learning_rate = 0.01\n",
        " - num_replicates = 3"
      ],
      "metadata": {
        "id": "LmHsn_AVD9Xl"
      },
      "id": "LmHsn_AVD9Xl"
    },
    {
      "cell_type": "markdown",
      "source": [
        "This is when we see that Adagrad is not an effective optimizer. We will continue to use Adam to test."
      ],
      "metadata": {
        "id": "Yr9L27FrItUE"
      },
      "id": "Yr9L27FrItUE"
    },
    {
      "cell_type": "code",
      "source": [
        "case2_model_output = Multi_Run_CNN_Model(num_replicates = 3,\n",
        "                                    conv_layers =  [32],\n",
        "                                    dense_layers = [20],\n",
        "                                    kernel_size = (2,2) ,\n",
        "                                    input_shape = (64, 64, 3), \n",
        "                                    output_dim  = 10, \n",
        "                                    optimizer = 'Adagrad', \n",
        "                                    learning_rate = 0.01,\n",
        "                                    X_train = X_train,\n",
        "                                    y_train = y_train,\n",
        "                                    X_test = X_test,\n",
        "                                    y_test =  y_test, \n",
        "                                    val_split = 0.2,\n",
        "                                    batch_size = 10,\n",
        "                                    epochs = 20, \n",
        "                                    verbose = 1\n",
        "                                    )\n",
        "\n",
        "write_dic_to_file(case2_model_output, output_dir_path+ \"case2_hyperparameter_tuning_results\" + \".txt\")\n",
        "print(case2_model_output)"
      ],
      "metadata": {
        "colab": {
          "base_uri": "https://localhost:8080/"
        },
        "id": "VpV97sTwEVGr",
        "outputId": "7a9c2922-59f1-4fcd-e2ad-3cc95560e6ce"
      },
      "id": "VpV97sTwEVGr",
      "execution_count": null,
      "outputs": [
        {
          "output_type": "stream",
          "name": "stdout",
          "text": [
            "===== Running 0 replicate=======\n",
            "Building CNN Model.......................\n",
            "\n",
            "Fitting  CNN Model.......................\n",
            "\n",
            "Epoch 1/20\n",
            "37/37 [==============================] - 1s 9ms/step - loss: 2.4173 - accuracy: 0.2363 - val_loss: 1.8199 - val_accuracy: 0.2967\n",
            "Epoch 2/20\n",
            "37/37 [==============================] - 0s 5ms/step - loss: 1.8490 - accuracy: 0.2802 - val_loss: 1.6130 - val_accuracy: 0.2967\n",
            "Epoch 3/20\n",
            "37/37 [==============================] - 0s 5ms/step - loss: 1.6804 - accuracy: 0.2802 - val_loss: 1.5214 - val_accuracy: 0.2967\n",
            "Epoch 4/20\n",
            "37/37 [==============================] - 0s 6ms/step - loss: 1.5719 - accuracy: 0.2802 - val_loss: 1.4749 - val_accuracy: 0.2857\n",
            "Epoch 5/20\n",
            "37/37 [==============================] - 0s 5ms/step - loss: 1.5067 - accuracy: 0.2802 - val_loss: 1.4423 - val_accuracy: 0.2857\n",
            "Epoch 6/20\n",
            "37/37 [==============================] - 0s 6ms/step - loss: 1.4468 - accuracy: 0.2775 - val_loss: 1.4743 - val_accuracy: 0.2857\n",
            "Epoch 7/20\n",
            "37/37 [==============================] - 0s 6ms/step - loss: 1.4036 - accuracy: 0.2692 - val_loss: 1.4456 - val_accuracy: 0.2967\n",
            "Epoch 8/20\n",
            "37/37 [==============================] - 0s 5ms/step - loss: 1.3866 - accuracy: 0.2967 - val_loss: 1.4495 - val_accuracy: 0.2967\n",
            "Epoch 9/20\n",
            "37/37 [==============================] - 0s 4ms/step - loss: 1.3792 - accuracy: 0.3022 - val_loss: 1.4583 - val_accuracy: 0.3077\n",
            "Epoch 10/20\n",
            "37/37 [==============================] - 0s 6ms/step - loss: 1.3757 - accuracy: 0.3297 - val_loss: 1.4566 - val_accuracy: 0.1648\n",
            "Epoch 11/20\n",
            "37/37 [==============================] - 0s 5ms/step - loss: 1.3751 - accuracy: 0.3324 - val_loss: 1.4463 - val_accuracy: 0.3077\n",
            "Epoch 12/20\n",
            "37/37 [==============================] - 0s 6ms/step - loss: 1.3737 - accuracy: 0.3297 - val_loss: 1.4497 - val_accuracy: 0.1648\n",
            "Epoch 13/20\n",
            "37/37 [==============================] - 0s 5ms/step - loss: 1.3730 - accuracy: 0.3407 - val_loss: 1.4434 - val_accuracy: 0.3077\n",
            "Epoch 14/20\n",
            "37/37 [==============================] - 0s 6ms/step - loss: 1.3709 - accuracy: 0.3599 - val_loss: 1.4371 - val_accuracy: 0.1648\n",
            "Epoch 15/20\n",
            "37/37 [==============================] - 0s 5ms/step - loss: 1.3715 - accuracy: 0.3599 - val_loss: 1.4481 - val_accuracy: 0.1648\n",
            "Epoch 16/20\n",
            "37/37 [==============================] - 0s 5ms/step - loss: 1.3693 - accuracy: 0.3791 - val_loss: 1.4465 - val_accuracy: 0.1648\n",
            "Epoch 17/20\n",
            "37/37 [==============================] - 0s 6ms/step - loss: 1.3688 - accuracy: 0.3599 - val_loss: 1.4478 - val_accuracy: 0.1648\n",
            "Epoch 18/20\n",
            "37/37 [==============================] - 0s 5ms/step - loss: 1.3671 - accuracy: 0.3434 - val_loss: 1.4446 - val_accuracy: 0.3297\n",
            "Epoch 19/20\n",
            "37/37 [==============================] - 0s 5ms/step - loss: 1.3655 - accuracy: 0.3626 - val_loss: 1.4463 - val_accuracy: 0.2637\n",
            "Epoch 20/20\n",
            "37/37 [==============================] - 0s 5ms/step - loss: 1.3633 - accuracy: 0.3846 - val_loss: 1.4448 - val_accuracy: 0.3077\n",
            "Calculating predictions and scores....\n",
            "Calculating predictions and scores.......................\n",
            "\n",
            "5/5 [==============================] - 0s 4ms/step\n",
            "5/5 [==============================] - 0s 4ms/step - loss: 1.3606 - accuracy: 0.4539\n",
            "Collecting outputs.......................\n",
            "\n",
            "Congratuations! All the processes are completed successfully....\n",
            "\n",
            "===== Running 1 replicate=======\n",
            "Building CNN Model.......................\n",
            "\n",
            "Fitting  CNN Model.......................\n",
            "\n",
            "Epoch 1/20\n",
            "37/37 [==============================] - 1s 8ms/step - loss: 2.0704 - accuracy: 0.2830 - val_loss: 2.0424 - val_accuracy: 0.2857\n",
            "Epoch 2/20\n",
            "37/37 [==============================] - 0s 5ms/step - loss: 1.7982 - accuracy: 0.2830 - val_loss: 1.9098 - val_accuracy: 0.2857\n",
            "Epoch 3/20\n",
            "37/37 [==============================] - 0s 5ms/step - loss: 1.5876 - accuracy: 0.2830 - val_loss: 1.3773 - val_accuracy: 0.3626\n",
            "Epoch 4/20\n",
            "37/37 [==============================] - 0s 5ms/step - loss: 1.3810 - accuracy: 0.3104 - val_loss: 1.4370 - val_accuracy: 0.3407\n",
            "Epoch 5/20\n",
            "37/37 [==============================] - 0s 4ms/step - loss: 1.3208 - accuracy: 0.3489 - val_loss: 1.4212 - val_accuracy: 0.3297\n",
            "Epoch 6/20\n",
            "37/37 [==============================] - 0s 4ms/step - loss: 1.2612 - accuracy: 0.4093 - val_loss: 1.3263 - val_accuracy: 0.4066\n",
            "Epoch 7/20\n",
            "37/37 [==============================] - 0s 4ms/step - loss: 1.1954 - accuracy: 0.4945 - val_loss: 1.3339 - val_accuracy: 0.3516\n",
            "Epoch 8/20\n",
            "37/37 [==============================] - 0s 5ms/step - loss: 1.0713 - accuracy: 0.5687 - val_loss: 1.1904 - val_accuracy: 0.4615\n",
            "Epoch 9/20\n",
            "37/37 [==============================] - 0s 5ms/step - loss: 0.8920 - accuracy: 0.6593 - val_loss: 1.2197 - val_accuracy: 0.4396\n",
            "Epoch 10/20\n",
            "37/37 [==============================] - 0s 5ms/step - loss: 0.8182 - accuracy: 0.6841 - val_loss: 1.0778 - val_accuracy: 0.4615\n",
            "Epoch 11/20\n",
            "37/37 [==============================] - 0s 5ms/step - loss: 0.7153 - accuracy: 0.7527 - val_loss: 0.9055 - val_accuracy: 0.6264\n",
            "Epoch 12/20\n",
            "37/37 [==============================] - 0s 4ms/step - loss: 0.6561 - accuracy: 0.7527 - val_loss: 1.0082 - val_accuracy: 0.5165\n",
            "Epoch 13/20\n",
            "37/37 [==============================] - 0s 6ms/step - loss: 0.5834 - accuracy: 0.7857 - val_loss: 0.9956 - val_accuracy: 0.5495\n",
            "Epoch 14/20\n",
            "37/37 [==============================] - 0s 5ms/step - loss: 0.5356 - accuracy: 0.8187 - val_loss: 1.3022 - val_accuracy: 0.4505\n",
            "Epoch 15/20\n",
            "37/37 [==============================] - 0s 5ms/step - loss: 0.5085 - accuracy: 0.8654 - val_loss: 0.8627 - val_accuracy: 0.6154\n",
            "Epoch 16/20\n",
            "37/37 [==============================] - 0s 4ms/step - loss: 0.4582 - accuracy: 0.8516 - val_loss: 0.8551 - val_accuracy: 0.6044\n",
            "Epoch 17/20\n",
            "37/37 [==============================] - 0s 6ms/step - loss: 0.4383 - accuracy: 0.8626 - val_loss: 1.0386 - val_accuracy: 0.5385\n",
            "Epoch 18/20\n",
            "37/37 [==============================] - 0s 5ms/step - loss: 0.4019 - accuracy: 0.8956 - val_loss: 0.7990 - val_accuracy: 0.6374\n",
            "Epoch 19/20\n",
            "37/37 [==============================] - 0s 5ms/step - loss: 0.3585 - accuracy: 0.9121 - val_loss: 0.7301 - val_accuracy: 0.7363\n",
            "Epoch 20/20\n",
            "37/37 [==============================] - 0s 4ms/step - loss: 0.3406 - accuracy: 0.9258 - val_loss: 0.8624 - val_accuracy: 0.6264\n",
            "Calculating predictions and scores....\n",
            "Calculating predictions and scores.......................\n",
            "\n",
            "5/5 [==============================] - 0s 3ms/step\n",
            "5/5 [==============================] - 0s 5ms/step - loss: 0.8130 - accuracy: 0.6908\n",
            "Collecting outputs.......................\n",
            "\n",
            "Congratuations! All the processes are completed successfully....\n",
            "\n",
            "===== Running 2 replicate=======\n",
            "Building CNN Model.......................\n",
            "\n",
            "Fitting  CNN Model.......................\n",
            "\n",
            "Epoch 1/20\n",
            "37/37 [==============================] - 1s 9ms/step - loss: 2.3446 - accuracy: 0.2830 - val_loss: 2.2148 - val_accuracy: 0.1648\n",
            "Epoch 2/20\n",
            "37/37 [==============================] - 0s 5ms/step - loss: 1.9362 - accuracy: 0.3242 - val_loss: 2.3934 - val_accuracy: 0.1648\n",
            "Epoch 3/20\n",
            "37/37 [==============================] - 0s 5ms/step - loss: 1.8228 - accuracy: 0.3324 - val_loss: 1.9742 - val_accuracy: 0.1648\n",
            "Epoch 4/20\n",
            "37/37 [==============================] - 0s 5ms/step - loss: 1.7257 - accuracy: 0.3214 - val_loss: 1.8538 - val_accuracy: 0.2967\n",
            "Epoch 5/20\n",
            "37/37 [==============================] - 0s 6ms/step - loss: 1.6432 - accuracy: 0.3379 - val_loss: 1.7713 - val_accuracy: 0.1758\n",
            "Epoch 6/20\n",
            "37/37 [==============================] - 0s 5ms/step - loss: 1.5495 - accuracy: 0.3819 - val_loss: 1.7264 - val_accuracy: 0.1758\n",
            "Epoch 7/20\n",
            "37/37 [==============================] - 0s 5ms/step - loss: 1.4796 - accuracy: 0.4011 - val_loss: 1.7020 - val_accuracy: 0.3626\n",
            "Epoch 8/20\n",
            "37/37 [==============================] - 0s 5ms/step - loss: 1.3279 - accuracy: 0.4973 - val_loss: 1.4420 - val_accuracy: 0.3956\n",
            "Epoch 9/20\n",
            "37/37 [==============================] - 0s 5ms/step - loss: 1.1335 - accuracy: 0.5467 - val_loss: 1.2958 - val_accuracy: 0.4066\n",
            "Epoch 10/20\n",
            "37/37 [==============================] - 0s 5ms/step - loss: 0.9916 - accuracy: 0.5797 - val_loss: 1.3076 - val_accuracy: 0.4066\n",
            "Epoch 11/20\n",
            "37/37 [==============================] - 0s 6ms/step - loss: 0.8755 - accuracy: 0.6236 - val_loss: 1.2404 - val_accuracy: 0.3736\n",
            "Epoch 12/20\n",
            "37/37 [==============================] - 0s 5ms/step - loss: 0.8025 - accuracy: 0.6429 - val_loss: 0.9770 - val_accuracy: 0.5495\n",
            "Epoch 13/20\n",
            "37/37 [==============================] - 0s 6ms/step - loss: 0.7382 - accuracy: 0.6703 - val_loss: 1.2896 - val_accuracy: 0.4066\n",
            "Epoch 14/20\n",
            "37/37 [==============================] - 0s 5ms/step - loss: 0.6928 - accuracy: 0.7115 - val_loss: 0.9496 - val_accuracy: 0.5495\n",
            "Epoch 15/20\n",
            "37/37 [==============================] - 0s 5ms/step - loss: 0.6439 - accuracy: 0.7527 - val_loss: 0.9270 - val_accuracy: 0.5714\n",
            "Epoch 16/20\n",
            "37/37 [==============================] - 0s 6ms/step - loss: 0.6058 - accuracy: 0.7143 - val_loss: 0.9910 - val_accuracy: 0.5165\n",
            "Epoch 17/20\n",
            "37/37 [==============================] - 0s 4ms/step - loss: 0.5823 - accuracy: 0.7390 - val_loss: 0.8566 - val_accuracy: 0.5714\n",
            "Epoch 18/20\n",
            "37/37 [==============================] - 0s 4ms/step - loss: 0.5548 - accuracy: 0.7775 - val_loss: 0.8339 - val_accuracy: 0.6154\n",
            "Epoch 19/20\n",
            "37/37 [==============================] - 0s 5ms/step - loss: 0.5394 - accuracy: 0.7500 - val_loss: 0.9441 - val_accuracy: 0.5055\n",
            "Epoch 20/20\n",
            "37/37 [==============================] - 0s 5ms/step - loss: 0.5062 - accuracy: 0.7912 - val_loss: 0.8690 - val_accuracy: 0.5495\n",
            "Calculating predictions and scores....\n",
            "Calculating predictions and scores.......................\n",
            "\n",
            "5/5 [==============================] - 0s 3ms/step\n",
            "5/5 [==============================] - 0s 4ms/step - loss: 0.8828 - accuracy: 0.5855\n",
            "Collecting outputs.......................\n",
            "\n",
            "Congratuations! All the processes are completed successfully....\n",
            "\n",
            "Avarage test accuracy:  0.5767543713251749\n",
            "{'best_model': {'model': <keras.engine.sequential.Sequential object at 0x7fd6523e35b0>, 'model_history': <keras.callbacks.History object at 0x7fd6b93f74f0>, 'test_loss': 0.8827897310256958, 'test_acc': 0.5855262875556946, 'test_predictions': array([[7.3238218e-01, 3.2476280e-02, 2.2647467e-01, ..., 3.5774046e-05,\n",
            "        5.2066644e-06, 7.7052318e-06],\n",
            "       [1.7372349e-01, 4.7562426e-01, 5.8931381e-02, ..., 2.3892988e-04,\n",
            "        7.4999727e-05, 1.5627871e-04],\n",
            "       [3.7642810e-03, 6.3854426e-01, 4.1656638e-03, ..., 1.1890662e-04,\n",
            "        8.6856780e-06, 4.2944383e-05],\n",
            "       ...,\n",
            "       [1.7712327e-03, 6.4466840e-01, 2.1213582e-03, ..., 6.7877692e-05,\n",
            "        3.9496185e-06, 2.3131584e-05],\n",
            "       [8.7621820e-01, 2.1427633e-02, 9.3039334e-02, ..., 6.4403816e-06,\n",
            "        3.6141566e-06, 4.2155602e-06],\n",
            "       [1.0670936e-03, 6.5163100e-01, 9.0682367e-04, ..., 1.9421266e-05,\n",
            "        1.3215368e-06, 8.0701957e-06]], dtype=float32)}, 'best_replicate': 2, 'all_test_acc': [0.45394736528396606, 0.6907894611358643, 0.5855262875556946], 'average_test_acc': 0.5767543713251749}\n"
          ]
        }
      ]
    },
    {
      "cell_type": "markdown",
      "source": [
        "### Model I: 16-filters single convolutional layer and 60 neurons single dense layer CNN Model\n",
        "\n",
        "- Best optimizer: \"Adam\" \n",
        "- Best learning rate: 0.01\n",
        "- Best epochs = 25"
      ],
      "metadata": {
        "id": "Q160rv0EKErW"
      },
      "id": "Q160rv0EKErW"
    },
    {
      "cell_type": "code",
      "source": [
        "model1_final_output = Multi_Run_CNN_Model(num_replicates = 5,\n",
        "                                   conv_layers =  [32],\n",
        "                                   dense_layers = [20],\n",
        "                                   kernel_size = (2,2) ,\n",
        "                                   input_shape = (64, 64, 3), \n",
        "                                    output_dim  = 10, \n",
        "                                    optimizer = 'Adam',  # best optimizer\n",
        "                                    learning_rate = 0.01, # best learning rate\n",
        "                                    X_train = X_train,\n",
        "                                    y_train = y_train,\n",
        "                                    X_test = X_test,\n",
        "                                    y_test =  y_test, \n",
        "                                    val_split = 0.2,\n",
        "                                    batch_size = 25,\n",
        "                                    epochs = 25, # best epochs\n",
        "                                    verbose = 1\n",
        "                                    )\n",
        "\n",
        "write_dic_to_file(model1_final_output, output_dir_path+ \"model1_full_results\" + \".txt\")\n",
        "\n",
        "pd.DataFrame(model1_final_output['all_test_acc']).to_csv(output_dir_path+\"model1_all_test_acc.csv\")"
      ],
      "metadata": {
        "colab": {
          "base_uri": "https://localhost:8080/"
        },
        "id": "KDfUbNNGKOpL",
        "outputId": "feae9135-e177-4caf-b9a6-75f408a72225"
      },
      "id": "KDfUbNNGKOpL",
      "execution_count": null,
      "outputs": [
        {
          "output_type": "stream",
          "name": "stdout",
          "text": [
            "===== Running 0 replicate=======\n",
            "Building CNN Model.......................\n",
            "\n",
            "Fitting  CNN Model.......................\n",
            "\n",
            "Epoch 1/25\n",
            "37/37 [==============================] - 1s 10ms/step - loss: 6.7420 - accuracy: 0.4396 - val_loss: 1.3372 - val_accuracy: 0.4176\n",
            "Epoch 2/25\n",
            "37/37 [==============================] - 0s 6ms/step - loss: 0.8863 - accuracy: 0.6291 - val_loss: 1.0295 - val_accuracy: 0.5275\n",
            "Epoch 3/25\n",
            "37/37 [==============================] - 0s 6ms/step - loss: 0.5991 - accuracy: 0.7747 - val_loss: 0.7402 - val_accuracy: 0.7363\n",
            "Epoch 4/25\n",
            "37/37 [==============================] - 0s 5ms/step - loss: 0.4014 - accuracy: 0.8544 - val_loss: 0.8106 - val_accuracy: 0.7033\n",
            "Epoch 5/25\n",
            "37/37 [==============================] - 0s 4ms/step - loss: 0.2631 - accuracy: 0.9231 - val_loss: 0.9679 - val_accuracy: 0.6264\n",
            "Epoch 6/25\n",
            "37/37 [==============================] - 0s 5ms/step - loss: 0.1660 - accuracy: 0.9588 - val_loss: 0.8964 - val_accuracy: 0.7253\n",
            "Epoch 7/25\n",
            "37/37 [==============================] - 0s 5ms/step - loss: 0.0769 - accuracy: 0.9863 - val_loss: 1.0169 - val_accuracy: 0.7363\n",
            "Epoch 8/25\n",
            "37/37 [==============================] - 0s 5ms/step - loss: 0.0490 - accuracy: 0.9918 - val_loss: 1.1125 - val_accuracy: 0.6813\n",
            "Epoch 9/25\n",
            "37/37 [==============================] - 0s 5ms/step - loss: 0.0829 - accuracy: 0.9835 - val_loss: 1.3575 - val_accuracy: 0.6593\n",
            "Epoch 10/25\n",
            "37/37 [==============================] - 0s 6ms/step - loss: 0.0614 - accuracy: 0.9890 - val_loss: 1.3522 - val_accuracy: 0.6813\n",
            "Epoch 11/25\n",
            "37/37 [==============================] - 0s 7ms/step - loss: 0.0189 - accuracy: 1.0000 - val_loss: 1.1854 - val_accuracy: 0.7582\n",
            "Epoch 12/25\n",
            "37/37 [==============================] - 0s 5ms/step - loss: 0.0060 - accuracy: 1.0000 - val_loss: 1.3149 - val_accuracy: 0.7253\n",
            "Epoch 13/25\n",
            "37/37 [==============================] - 0s 5ms/step - loss: 0.0045 - accuracy: 1.0000 - val_loss: 1.3517 - val_accuracy: 0.7692\n",
            "Epoch 14/25\n",
            "37/37 [==============================] - 0s 5ms/step - loss: 0.0040 - accuracy: 1.0000 - val_loss: 1.3901 - val_accuracy: 0.7692\n",
            "Epoch 15/25\n",
            "37/37 [==============================] - 0s 5ms/step - loss: 0.0076 - accuracy: 1.0000 - val_loss: 1.4000 - val_accuracy: 0.7582\n",
            "Epoch 16/25\n",
            "37/37 [==============================] - 0s 6ms/step - loss: 0.0051 - accuracy: 1.0000 - val_loss: 1.5212 - val_accuracy: 0.7253\n",
            "Epoch 17/25\n",
            "37/37 [==============================] - 0s 6ms/step - loss: 0.0017 - accuracy: 1.0000 - val_loss: 1.5407 - val_accuracy: 0.7363\n",
            "Epoch 18/25\n",
            "37/37 [==============================] - 0s 5ms/step - loss: 0.0012 - accuracy: 1.0000 - val_loss: 1.5598 - val_accuracy: 0.7363\n",
            "Epoch 19/25\n",
            "37/37 [==============================] - 0s 5ms/step - loss: 8.9286e-04 - accuracy: 1.0000 - val_loss: 1.5739 - val_accuracy: 0.7473\n",
            "Epoch 20/25\n",
            "37/37 [==============================] - 0s 5ms/step - loss: 7.3016e-04 - accuracy: 1.0000 - val_loss: 1.5663 - val_accuracy: 0.7473\n",
            "Epoch 21/25\n",
            "37/37 [==============================] - 0s 6ms/step - loss: 6.5507e-04 - accuracy: 1.0000 - val_loss: 1.6115 - val_accuracy: 0.7473\n",
            "Epoch 22/25\n",
            "37/37 [==============================] - 0s 6ms/step - loss: 5.8791e-04 - accuracy: 1.0000 - val_loss: 1.6186 - val_accuracy: 0.7473\n",
            "Epoch 23/25\n",
            "37/37 [==============================] - 0s 6ms/step - loss: 5.2877e-04 - accuracy: 1.0000 - val_loss: 1.6314 - val_accuracy: 0.7473\n",
            "Epoch 24/25\n",
            "37/37 [==============================] - 0s 6ms/step - loss: 4.7746e-04 - accuracy: 1.0000 - val_loss: 1.6585 - val_accuracy: 0.7473\n",
            "Epoch 25/25\n",
            "37/37 [==============================] - 0s 5ms/step - loss: 4.4197e-04 - accuracy: 1.0000 - val_loss: 1.6584 - val_accuracy: 0.7473\n",
            "Calculating predictions and scores....\n",
            "Calculating predictions and scores.......................\n",
            "\n",
            "5/5 [==============================] - 0s 3ms/step\n",
            "5/5 [==============================] - 0s 5ms/step - loss: 1.2384 - accuracy: 0.7829\n",
            "Collecting outputs.......................\n",
            "\n",
            "Congratuations! All the processes are completed successfully....\n",
            "\n",
            "===== Running 1 replicate=======\n",
            "Building CNN Model.......................\n",
            "\n",
            "Fitting  CNN Model.......................\n",
            "\n",
            "Epoch 1/25\n",
            "37/37 [==============================] - 1s 9ms/step - loss: 2.7918 - accuracy: 0.3791 - val_loss: 1.3435 - val_accuracy: 0.3736\n",
            "Epoch 2/25\n",
            "37/37 [==============================] - 0s 5ms/step - loss: 0.8528 - accuracy: 0.6593 - val_loss: 1.0102 - val_accuracy: 0.5385\n",
            "Epoch 3/25\n",
            "37/37 [==============================] - 0s 5ms/step - loss: 0.5276 - accuracy: 0.7582 - val_loss: 1.0892 - val_accuracy: 0.5714\n",
            "Epoch 4/25\n",
            "37/37 [==============================] - 0s 6ms/step - loss: 0.3616 - accuracy: 0.8489 - val_loss: 1.1392 - val_accuracy: 0.6154\n",
            "Epoch 5/25\n",
            "37/37 [==============================] - 0s 5ms/step - loss: 0.2811 - accuracy: 0.9011 - val_loss: 1.2111 - val_accuracy: 0.6154\n",
            "Epoch 6/25\n",
            "37/37 [==============================] - 0s 6ms/step - loss: 0.1359 - accuracy: 0.9505 - val_loss: 2.5612 - val_accuracy: 0.5055\n",
            "Epoch 7/25\n",
            "37/37 [==============================] - 0s 6ms/step - loss: 0.1926 - accuracy: 0.9368 - val_loss: 1.2836 - val_accuracy: 0.7582\n",
            "Epoch 8/25\n",
            "37/37 [==============================] - 0s 6ms/step - loss: 0.1449 - accuracy: 0.9588 - val_loss: 1.4870 - val_accuracy: 0.7363\n",
            "Epoch 9/25\n",
            "37/37 [==============================] - 0s 6ms/step - loss: 0.1241 - accuracy: 0.9698 - val_loss: 1.2360 - val_accuracy: 0.7143\n",
            "Epoch 10/25\n",
            "37/37 [==============================] - 0s 6ms/step - loss: 0.1117 - accuracy: 0.9588 - val_loss: 1.6344 - val_accuracy: 0.6813\n",
            "Epoch 11/25\n",
            "37/37 [==============================] - 0s 8ms/step - loss: 0.0738 - accuracy: 0.9808 - val_loss: 1.4708 - val_accuracy: 0.7473\n",
            "Epoch 12/25\n",
            "37/37 [==============================] - 0s 10ms/step - loss: 0.0129 - accuracy: 1.0000 - val_loss: 1.6939 - val_accuracy: 0.7802\n",
            "Epoch 13/25\n",
            "37/37 [==============================] - 0s 9ms/step - loss: 0.0099 - accuracy: 0.9973 - val_loss: 1.7234 - val_accuracy: 0.7253\n",
            "Epoch 14/25\n",
            "37/37 [==============================] - 0s 10ms/step - loss: 0.0039 - accuracy: 1.0000 - val_loss: 1.7507 - val_accuracy: 0.7582\n",
            "Epoch 15/25\n",
            "37/37 [==============================] - 0s 9ms/step - loss: 0.0018 - accuracy: 1.0000 - val_loss: 1.7988 - val_accuracy: 0.7363\n",
            "Epoch 16/25\n",
            "37/37 [==============================] - 0s 8ms/step - loss: 0.0013 - accuracy: 1.0000 - val_loss: 1.8021 - val_accuracy: 0.7473\n",
            "Epoch 17/25\n",
            "37/37 [==============================] - 0s 9ms/step - loss: 9.1988e-04 - accuracy: 1.0000 - val_loss: 1.8190 - val_accuracy: 0.7692\n",
            "Epoch 18/25\n",
            "37/37 [==============================] - 0s 8ms/step - loss: 7.8364e-04 - accuracy: 1.0000 - val_loss: 1.8276 - val_accuracy: 0.7692\n",
            "Epoch 19/25\n",
            "37/37 [==============================] - 0s 8ms/step - loss: 6.5828e-04 - accuracy: 1.0000 - val_loss: 1.8495 - val_accuracy: 0.7692\n",
            "Epoch 20/25\n",
            "37/37 [==============================] - 0s 7ms/step - loss: 5.7860e-04 - accuracy: 1.0000 - val_loss: 1.8610 - val_accuracy: 0.7692\n",
            "Epoch 21/25\n",
            "37/37 [==============================] - 0s 5ms/step - loss: 5.5295e-04 - accuracy: 1.0000 - val_loss: 1.8552 - val_accuracy: 0.7692\n",
            "Epoch 22/25\n",
            "37/37 [==============================] - 0s 6ms/step - loss: 4.1681e-04 - accuracy: 1.0000 - val_loss: 1.8760 - val_accuracy: 0.7692\n",
            "Epoch 23/25\n",
            "37/37 [==============================] - 0s 6ms/step - loss: 3.6147e-04 - accuracy: 1.0000 - val_loss: 1.8762 - val_accuracy: 0.7692\n",
            "Epoch 24/25\n",
            "37/37 [==============================] - 0s 5ms/step - loss: 3.2882e-04 - accuracy: 1.0000 - val_loss: 1.8853 - val_accuracy: 0.7692\n",
            "Epoch 25/25\n",
            "37/37 [==============================] - 0s 5ms/step - loss: 3.0167e-04 - accuracy: 1.0000 - val_loss: 1.8998 - val_accuracy: 0.7692\n",
            "Calculating predictions and scores....\n",
            "Calculating predictions and scores.......................\n",
            "\n",
            "5/5 [==============================] - 0s 3ms/step\n",
            "5/5 [==============================] - 0s 5ms/step - loss: 2.1552 - accuracy: 0.7368\n",
            "Collecting outputs.......................\n",
            "\n",
            "Congratuations! All the processes are completed successfully....\n",
            "\n",
            "===== Running 2 replicate=======\n",
            "Building CNN Model.......................\n",
            "\n",
            "Fitting  CNN Model.......................\n",
            "\n",
            "Epoch 1/25\n",
            "37/37 [==============================] - 1s 8ms/step - loss: 3.9195 - accuracy: 0.3846 - val_loss: 1.1637 - val_accuracy: 0.4615\n",
            "Epoch 2/25\n",
            "37/37 [==============================] - 0s 6ms/step - loss: 0.9207 - accuracy: 0.6209 - val_loss: 0.9428 - val_accuracy: 0.5495\n",
            "Epoch 3/25\n",
            "37/37 [==============================] - 0s 5ms/step - loss: 0.7196 - accuracy: 0.6841 - val_loss: 0.8269 - val_accuracy: 0.6593\n",
            "Epoch 4/25\n",
            "37/37 [==============================] - 0s 5ms/step - loss: 0.6035 - accuracy: 0.7747 - val_loss: 0.8435 - val_accuracy: 0.7033\n",
            "Epoch 5/25\n",
            "37/37 [==============================] - 0s 5ms/step - loss: 0.3883 - accuracy: 0.8654 - val_loss: 0.8404 - val_accuracy: 0.7143\n",
            "Epoch 6/25\n",
            "37/37 [==============================] - 0s 5ms/step - loss: 0.2436 - accuracy: 0.9148 - val_loss: 0.8612 - val_accuracy: 0.7253\n",
            "Epoch 7/25\n",
            "37/37 [==============================] - 0s 5ms/step - loss: 0.2162 - accuracy: 0.9231 - val_loss: 0.8217 - val_accuracy: 0.7033\n",
            "Epoch 8/25\n",
            "37/37 [==============================] - 0s 5ms/step - loss: 0.1104 - accuracy: 0.9780 - val_loss: 1.0885 - val_accuracy: 0.7143\n",
            "Epoch 9/25\n",
            "37/37 [==============================] - 0s 5ms/step - loss: 0.1393 - accuracy: 0.9643 - val_loss: 0.9962 - val_accuracy: 0.7143\n",
            "Epoch 10/25\n",
            "37/37 [==============================] - 0s 5ms/step - loss: 0.0686 - accuracy: 0.9808 - val_loss: 1.2778 - val_accuracy: 0.7033\n",
            "Epoch 11/25\n",
            "37/37 [==============================] - 0s 5ms/step - loss: 0.0458 - accuracy: 0.9918 - val_loss: 1.3877 - val_accuracy: 0.7033\n",
            "Epoch 12/25\n",
            "37/37 [==============================] - 0s 5ms/step - loss: 0.0545 - accuracy: 0.9835 - val_loss: 1.5502 - val_accuracy: 0.6813\n",
            "Epoch 13/25\n",
            "37/37 [==============================] - 0s 6ms/step - loss: 0.0367 - accuracy: 0.9945 - val_loss: 1.5302 - val_accuracy: 0.6923\n",
            "Epoch 14/25\n",
            "37/37 [==============================] - 0s 5ms/step - loss: 0.0104 - accuracy: 0.9973 - val_loss: 1.6621 - val_accuracy: 0.6813\n",
            "Epoch 15/25\n",
            "37/37 [==============================] - 0s 5ms/step - loss: 0.0033 - accuracy: 1.0000 - val_loss: 1.9933 - val_accuracy: 0.6813\n",
            "Epoch 16/25\n",
            "37/37 [==============================] - 0s 5ms/step - loss: 0.0020 - accuracy: 1.0000 - val_loss: 1.9895 - val_accuracy: 0.6813\n",
            "Epoch 17/25\n",
            "37/37 [==============================] - 0s 5ms/step - loss: 0.0017 - accuracy: 1.0000 - val_loss: 2.0057 - val_accuracy: 0.6813\n",
            "Epoch 18/25\n",
            "37/37 [==============================] - 0s 5ms/step - loss: 0.0014 - accuracy: 1.0000 - val_loss: 2.0427 - val_accuracy: 0.6813\n",
            "Epoch 19/25\n",
            "37/37 [==============================] - 0s 6ms/step - loss: 0.0012 - accuracy: 1.0000 - val_loss: 2.0409 - val_accuracy: 0.6813\n",
            "Epoch 20/25\n",
            "37/37 [==============================] - 0s 5ms/step - loss: 0.0011 - accuracy: 1.0000 - val_loss: 2.0357 - val_accuracy: 0.6813\n",
            "Epoch 21/25\n",
            "37/37 [==============================] - 0s 5ms/step - loss: 9.7052e-04 - accuracy: 1.0000 - val_loss: 2.0767 - val_accuracy: 0.6813\n",
            "Epoch 22/25\n",
            "37/37 [==============================] - 0s 6ms/step - loss: 8.7133e-04 - accuracy: 1.0000 - val_loss: 2.0981 - val_accuracy: 0.6813\n",
            "Epoch 23/25\n",
            "37/37 [==============================] - 0s 5ms/step - loss: 7.8260e-04 - accuracy: 1.0000 - val_loss: 2.1033 - val_accuracy: 0.6813\n",
            "Epoch 24/25\n",
            "37/37 [==============================] - 0s 5ms/step - loss: 7.2045e-04 - accuracy: 1.0000 - val_loss: 2.1326 - val_accuracy: 0.6813\n",
            "Epoch 25/25\n",
            "37/37 [==============================] - 0s 5ms/step - loss: 6.6613e-04 - accuracy: 1.0000 - val_loss: 2.1542 - val_accuracy: 0.6813\n",
            "Calculating predictions and scores....\n",
            "Calculating predictions and scores.......................\n",
            "\n",
            "5/5 [==============================] - 0s 4ms/step\n",
            "5/5 [==============================] - 0s 5ms/step - loss: 1.5437 - accuracy: 0.7566\n",
            "Collecting outputs.......................\n",
            "\n",
            "Congratuations! All the processes are completed successfully....\n",
            "\n",
            "===== Running 3 replicate=======\n",
            "Building CNN Model.......................\n",
            "\n",
            "Fitting  CNN Model.......................\n",
            "\n",
            "Epoch 1/25\n",
            "37/37 [==============================] - 1s 9ms/step - loss: 7.8200 - accuracy: 0.3846 - val_loss: 1.4747 - val_accuracy: 0.3956\n",
            "Epoch 2/25\n",
            "37/37 [==============================] - 0s 5ms/step - loss: 0.9669 - accuracy: 0.6126 - val_loss: 1.2409 - val_accuracy: 0.4945\n",
            "Epoch 3/25\n",
            "37/37 [==============================] - 0s 6ms/step - loss: 0.5638 - accuracy: 0.7940 - val_loss: 1.0151 - val_accuracy: 0.6374\n",
            "Epoch 4/25\n",
            "37/37 [==============================] - 0s 6ms/step - loss: 0.3265 - accuracy: 0.8736 - val_loss: 0.9144 - val_accuracy: 0.6154\n",
            "Epoch 5/25\n",
            "37/37 [==============================] - 0s 5ms/step - loss: 0.1853 - accuracy: 0.9478 - val_loss: 0.8377 - val_accuracy: 0.6813\n",
            "Epoch 6/25\n",
            "37/37 [==============================] - 0s 5ms/step - loss: 0.1257 - accuracy: 0.9643 - val_loss: 1.4539 - val_accuracy: 0.6813\n",
            "Epoch 7/25\n",
            "37/37 [==============================] - 0s 6ms/step - loss: 0.1277 - accuracy: 0.9670 - val_loss: 0.9167 - val_accuracy: 0.7802\n",
            "Epoch 8/25\n",
            "37/37 [==============================] - 0s 5ms/step - loss: 0.0483 - accuracy: 0.9835 - val_loss: 1.0396 - val_accuracy: 0.7802\n",
            "Epoch 9/25\n",
            "37/37 [==============================] - 0s 5ms/step - loss: 0.0154 - accuracy: 1.0000 - val_loss: 1.2602 - val_accuracy: 0.7473\n",
            "Epoch 10/25\n",
            "37/37 [==============================] - 0s 5ms/step - loss: 0.0069 - accuracy: 1.0000 - val_loss: 1.3199 - val_accuracy: 0.7363\n",
            "Epoch 11/25\n",
            "37/37 [==============================] - 0s 5ms/step - loss: 0.0045 - accuracy: 1.0000 - val_loss: 1.3065 - val_accuracy: 0.7253\n",
            "Epoch 12/25\n",
            "37/37 [==============================] - 0s 5ms/step - loss: 0.0035 - accuracy: 1.0000 - val_loss: 1.2935 - val_accuracy: 0.7363\n",
            "Epoch 13/25\n",
            "37/37 [==============================] - 0s 6ms/step - loss: 0.0031 - accuracy: 1.0000 - val_loss: 1.3259 - val_accuracy: 0.7143\n",
            "Epoch 14/25\n",
            "37/37 [==============================] - 0s 5ms/step - loss: 0.0024 - accuracy: 1.0000 - val_loss: 1.3568 - val_accuracy: 0.7473\n",
            "Epoch 15/25\n",
            "37/37 [==============================] - 0s 6ms/step - loss: 0.0022 - accuracy: 1.0000 - val_loss: 1.3356 - val_accuracy: 0.7253\n",
            "Epoch 16/25\n",
            "37/37 [==============================] - 0s 6ms/step - loss: 0.0017 - accuracy: 1.0000 - val_loss: 1.3824 - val_accuracy: 0.7473\n",
            "Epoch 17/25\n",
            "37/37 [==============================] - 0s 6ms/step - loss: 0.0016 - accuracy: 1.0000 - val_loss: 1.3301 - val_accuracy: 0.7363\n",
            "Epoch 18/25\n",
            "37/37 [==============================] - 0s 5ms/step - loss: 0.0014 - accuracy: 1.0000 - val_loss: 1.3585 - val_accuracy: 0.7363\n",
            "Epoch 19/25\n",
            "37/37 [==============================] - 0s 5ms/step - loss: 0.0012 - accuracy: 1.0000 - val_loss: 1.3592 - val_accuracy: 0.7363\n",
            "Epoch 20/25\n",
            "37/37 [==============================] - 0s 6ms/step - loss: 0.0011 - accuracy: 1.0000 - val_loss: 1.3945 - val_accuracy: 0.7253\n",
            "Epoch 21/25\n",
            "37/37 [==============================] - 0s 6ms/step - loss: 9.3338e-04 - accuracy: 1.0000 - val_loss: 1.3764 - val_accuracy: 0.7363\n",
            "Epoch 22/25\n",
            "37/37 [==============================] - 0s 5ms/step - loss: 8.7114e-04 - accuracy: 1.0000 - val_loss: 1.4030 - val_accuracy: 0.7363\n",
            "Epoch 23/25\n",
            "37/37 [==============================] - 0s 6ms/step - loss: 7.7957e-04 - accuracy: 1.0000 - val_loss: 1.3975 - val_accuracy: 0.7363\n",
            "Epoch 24/25\n",
            "37/37 [==============================] - 0s 5ms/step - loss: 7.2087e-04 - accuracy: 1.0000 - val_loss: 1.4175 - val_accuracy: 0.7363\n",
            "Epoch 25/25\n",
            "37/37 [==============================] - 0s 5ms/step - loss: 6.6965e-04 - accuracy: 1.0000 - val_loss: 1.4211 - val_accuracy: 0.7363\n",
            "Calculating predictions and scores....\n",
            "Calculating predictions and scores.......................\n",
            "\n",
            "5/5 [==============================] - 0s 4ms/step\n",
            "5/5 [==============================] - 0s 5ms/step - loss: 1.6901 - accuracy: 0.7434\n",
            "Collecting outputs.......................\n",
            "\n",
            "Congratuations! All the processes are completed successfully....\n",
            "\n",
            "===== Running 4 replicate=======\n",
            "Building CNN Model.......................\n",
            "\n",
            "Fitting  CNN Model.......................\n",
            "\n",
            "Epoch 1/25\n",
            "37/37 [==============================] - 1s 9ms/step - loss: 4.0071 - accuracy: 0.3297 - val_loss: 1.2120 - val_accuracy: 0.4396\n",
            "Epoch 2/25\n",
            "37/37 [==============================] - 0s 5ms/step - loss: 0.9134 - accuracy: 0.6044 - val_loss: 1.1267 - val_accuracy: 0.4945\n",
            "Epoch 3/25\n",
            "37/37 [==============================] - 0s 6ms/step - loss: 0.6288 - accuracy: 0.7170 - val_loss: 1.9571 - val_accuracy: 0.3846\n",
            "Epoch 4/25\n",
            "37/37 [==============================] - 0s 6ms/step - loss: 0.3896 - accuracy: 0.8571 - val_loss: 0.9367 - val_accuracy: 0.6044\n",
            "Epoch 5/25\n",
            "37/37 [==============================] - 0s 6ms/step - loss: 0.2451 - accuracy: 0.9203 - val_loss: 0.9895 - val_accuracy: 0.6044\n",
            "Epoch 6/25\n",
            "37/37 [==============================] - 0s 5ms/step - loss: 0.1770 - accuracy: 0.9423 - val_loss: 0.9331 - val_accuracy: 0.7143\n",
            "Epoch 7/25\n",
            "37/37 [==============================] - 0s 7ms/step - loss: 0.0869 - accuracy: 0.9753 - val_loss: 3.4357 - val_accuracy: 0.3736\n",
            "Epoch 8/25\n",
            "37/37 [==============================] - 0s 5ms/step - loss: 0.2468 - accuracy: 0.9313 - val_loss: 1.1072 - val_accuracy: 0.6813\n",
            "Epoch 9/25\n",
            "37/37 [==============================] - 0s 5ms/step - loss: 0.1721 - accuracy: 0.9423 - val_loss: 1.1049 - val_accuracy: 0.7363\n",
            "Epoch 10/25\n",
            "37/37 [==============================] - 0s 6ms/step - loss: 0.0794 - accuracy: 0.9808 - val_loss: 1.2179 - val_accuracy: 0.6484\n",
            "Epoch 11/25\n",
            "37/37 [==============================] - 0s 5ms/step - loss: 0.0294 - accuracy: 0.9973 - val_loss: 1.0047 - val_accuracy: 0.7363\n",
            "Epoch 12/25\n",
            "37/37 [==============================] - 0s 5ms/step - loss: 0.0156 - accuracy: 1.0000 - val_loss: 1.2552 - val_accuracy: 0.7143\n",
            "Epoch 13/25\n",
            "37/37 [==============================] - 0s 5ms/step - loss: 0.0094 - accuracy: 1.0000 - val_loss: 1.3053 - val_accuracy: 0.7033\n",
            "Epoch 14/25\n",
            "37/37 [==============================] - 0s 6ms/step - loss: 0.0068 - accuracy: 1.0000 - val_loss: 1.4283 - val_accuracy: 0.7033\n",
            "Epoch 15/25\n",
            "37/37 [==============================] - 0s 6ms/step - loss: 0.0088 - accuracy: 0.9973 - val_loss: 1.4174 - val_accuracy: 0.6923\n",
            "Epoch 16/25\n",
            "37/37 [==============================] - 0s 5ms/step - loss: 0.0033 - accuracy: 1.0000 - val_loss: 1.4166 - val_accuracy: 0.7033\n",
            "Epoch 17/25\n",
            "37/37 [==============================] - 0s 5ms/step - loss: 0.0025 - accuracy: 1.0000 - val_loss: 1.5723 - val_accuracy: 0.6923\n",
            "Epoch 18/25\n",
            "37/37 [==============================] - 0s 6ms/step - loss: 0.0022 - accuracy: 1.0000 - val_loss: 1.5584 - val_accuracy: 0.7033\n",
            "Epoch 19/25\n",
            "37/37 [==============================] - 0s 6ms/step - loss: 0.0020 - accuracy: 1.0000 - val_loss: 1.5765 - val_accuracy: 0.7143\n",
            "Epoch 20/25\n",
            "37/37 [==============================] - 0s 6ms/step - loss: 0.0016 - accuracy: 1.0000 - val_loss: 1.6001 - val_accuracy: 0.7143\n",
            "Epoch 21/25\n",
            "37/37 [==============================] - 0s 5ms/step - loss: 0.0015 - accuracy: 1.0000 - val_loss: 1.5842 - val_accuracy: 0.7253\n",
            "Epoch 22/25\n",
            "37/37 [==============================] - 0s 5ms/step - loss: 0.0012 - accuracy: 1.0000 - val_loss: 1.6252 - val_accuracy: 0.7143\n",
            "Epoch 23/25\n",
            "37/37 [==============================] - 0s 5ms/step - loss: 0.0010 - accuracy: 1.0000 - val_loss: 1.6324 - val_accuracy: 0.7143\n",
            "Epoch 24/25\n",
            "37/37 [==============================] - 0s 6ms/step - loss: 9.3908e-04 - accuracy: 1.0000 - val_loss: 1.6373 - val_accuracy: 0.7143\n",
            "Epoch 25/25\n",
            "37/37 [==============================] - 0s 6ms/step - loss: 8.5750e-04 - accuracy: 1.0000 - val_loss: 1.6616 - val_accuracy: 0.7253\n",
            "Calculating predictions and scores....\n",
            "Calculating predictions and scores.......................\n",
            "\n",
            "5/5 [==============================] - 0s 3ms/step\n",
            "5/5 [==============================] - 0s 6ms/step - loss: 1.6779 - accuracy: 0.7368\n",
            "Collecting outputs.......................\n",
            "\n",
            "Congratuations! All the processes are completed successfully....\n",
            "\n",
            "Avarage test accuracy:  0.7513157844543457\n"
          ]
        }
      ]
    },
    {
      "cell_type": "code",
      "source": [
        "model1_all_test_acc = pd.read_csv(output_dir_path+\"model1_all_test_acc.csv\")\n",
        "\n",
        "fig = plt.figure(figsize= (4, 4))\n",
        "plt.boxplot(model1_all_test_acc.iloc[:,1])\n",
        "\n",
        "fig.savefig(output_dir_path+\"model1_test_acc_boxplot.png\", dpi = 600)\n",
        "plt.show()"
      ],
      "metadata": {
        "colab": {
          "base_uri": "https://localhost:8080/",
          "height": 265
        },
        "id": "UI39KRMxS3X4",
        "outputId": "47fc9e64-27f6-436d-83e5-436cbbb6d1ba"
      },
      "id": "UI39KRMxS3X4",
      "execution_count": null,
      "outputs": [
        {
          "output_type": "display_data",
          "data": {
            "text/plain": [
              "<Figure size 288x288 with 1 Axes>"
            ],
            "image/png": "[encoded data removed]"
          },
          "metadata": {
            "needs_background": "light"
          }
        }
      ]
    },
    {
      "cell_type": "markdown",
      "source": [
        "**Model 2: 16-8-filters two convolutional layers and 60-60 neurons two dense layers CNN Model**\n",
        "\n",
        "- Best optimizer: \"Adam\" \n",
        "- Best learning rate: 0.01\n",
        "- Best epochs = 25"
      ],
      "metadata": {
        "id": "dCcANhvcOXXD"
      },
      "id": "dCcANhvcOXXD"
    },
    {
      "cell_type": "code",
      "source": [
        "model2_final_output = Multi_Run_CNN_Model(num_replicates = 5,\n",
        "                                   conv_layers =  [16, 8],\n",
        "                                   dense_layers = [20, 10],\n",
        "                                   kernel_size = (2,2) ,\n",
        "                                   input_shape = (64, 64, 3), \n",
        "                                    output_dim  = 10, \n",
        "                                    optimizer = 'Adam',  # best optimizer\n",
        "                                    learning_rate = 0.01, # best learning rate\n",
        "                                    X_train = X_train,\n",
        "                                    y_train = y_train,\n",
        "                                    X_test = X_test,\n",
        "                                    y_test =  y_test, \n",
        "                                    val_split = 0.2,\n",
        "                                    batch_size = 25,\n",
        "                                    epochs = 25, # best epochs\n",
        "                                    verbose = 1\n",
        "                                    )\n",
        "\n",
        "write_dic_to_file(model2_final_output, output_dir_path+ \"model2_full_results\" + \".txt\")\n",
        "\n",
        "pd.DataFrame(model2_final_output['all_test_acc']).to_csv(output_dir_path+\"model2_all_test_acc.csv\")"
      ],
      "metadata": {
        "colab": {
          "base_uri": "https://localhost:8080/"
        },
        "id": "c4GYlmCoOrTW",
        "outputId": "b4032872-dd9b-45f3-f8b7-7d7d75f3e53e"
      },
      "id": "c4GYlmCoOrTW",
      "execution_count": null,
      "outputs": [
        {
          "output_type": "stream",
          "name": "stdout",
          "text": [
            "===== Running 0 replicate=======\n",
            "Building CNN Model.......................\n",
            "\n",
            "Fitting  CNN Model.......................\n",
            "\n",
            "Epoch 1/25\n",
            "37/37 [==============================] - 1s 10ms/step - loss: 1.6667 - accuracy: 0.2418 - val_loss: 1.5694 - val_accuracy: 0.2088\n",
            "Epoch 2/25\n",
            "37/37 [==============================] - 0s 5ms/step - loss: 1.4159 - accuracy: 0.3324 - val_loss: 1.4291 - val_accuracy: 0.2637\n",
            "Epoch 3/25\n",
            "37/37 [==============================] - 0s 6ms/step - loss: 1.2935 - accuracy: 0.3819 - val_loss: 1.3904 - val_accuracy: 0.3187\n",
            "Epoch 4/25\n",
            "37/37 [==============================] - 0s 5ms/step - loss: 1.2385 - accuracy: 0.4533 - val_loss: 1.3092 - val_accuracy: 0.3626\n",
            "Epoch 5/25\n",
            "37/37 [==============================] - 0s 6ms/step - loss: 1.0828 - accuracy: 0.5192 - val_loss: 1.1586 - val_accuracy: 0.3626\n",
            "Epoch 6/25\n",
            "37/37 [==============================] - 0s 5ms/step - loss: 1.0859 - accuracy: 0.5412 - val_loss: 1.2031 - val_accuracy: 0.3846\n",
            "Epoch 7/25\n",
            "37/37 [==============================] - 0s 6ms/step - loss: 0.9336 - accuracy: 0.5220 - val_loss: 1.1890 - val_accuracy: 0.3736\n",
            "Epoch 8/25\n",
            "37/37 [==============================] - 0s 5ms/step - loss: 0.9412 - accuracy: 0.5659 - val_loss: 1.0488 - val_accuracy: 0.3846\n",
            "Epoch 9/25\n",
            "37/37 [==============================] - 0s 5ms/step - loss: 0.8589 - accuracy: 0.5797 - val_loss: 1.0028 - val_accuracy: 0.4066\n",
            "Epoch 10/25\n",
            "37/37 [==============================] - 0s 5ms/step - loss: 0.8460 - accuracy: 0.5604 - val_loss: 0.9469 - val_accuracy: 0.5055\n",
            "Epoch 11/25\n",
            "37/37 [==============================] - 0s 5ms/step - loss: 0.8278 - accuracy: 0.5659 - val_loss: 1.1018 - val_accuracy: 0.4505\n",
            "Epoch 12/25\n",
            "37/37 [==============================] - 0s 5ms/step - loss: 0.7927 - accuracy: 0.6181 - val_loss: 0.9439 - val_accuracy: 0.5824\n",
            "Epoch 13/25\n",
            "37/37 [==============================] - 0s 5ms/step - loss: 0.7399 - accuracy: 0.6099 - val_loss: 0.9130 - val_accuracy: 0.6044\n",
            "Epoch 14/25\n",
            "37/37 [==============================] - 0s 6ms/step - loss: 0.6184 - accuracy: 0.6841 - val_loss: 1.0533 - val_accuracy: 0.6154\n",
            "Epoch 15/25\n",
            "37/37 [==============================] - 0s 6ms/step - loss: 0.7666 - accuracy: 0.6044 - val_loss: 0.8966 - val_accuracy: 0.6044\n",
            "Epoch 16/25\n",
            "37/37 [==============================] - 0s 5ms/step - loss: 0.6551 - accuracy: 0.7005 - val_loss: 1.0614 - val_accuracy: 0.5714\n",
            "Epoch 17/25\n",
            "37/37 [==============================] - 0s 5ms/step - loss: 0.5507 - accuracy: 0.7170 - val_loss: 1.0576 - val_accuracy: 0.5495\n",
            "Epoch 18/25\n",
            "37/37 [==============================] - 0s 5ms/step - loss: 0.5480 - accuracy: 0.7225 - val_loss: 0.7766 - val_accuracy: 0.6374\n",
            "Epoch 19/25\n",
            "37/37 [==============================] - 0s 5ms/step - loss: 0.4853 - accuracy: 0.7692 - val_loss: 0.9809 - val_accuracy: 0.5934\n",
            "Epoch 20/25\n",
            "37/37 [==============================] - 0s 6ms/step - loss: 0.4247 - accuracy: 0.8077 - val_loss: 0.9527 - val_accuracy: 0.6923\n",
            "Epoch 21/25\n",
            "37/37 [==============================] - 0s 6ms/step - loss: 0.3473 - accuracy: 0.8654 - val_loss: 1.0535 - val_accuracy: 0.6923\n",
            "Epoch 22/25\n",
            "37/37 [==============================] - 0s 5ms/step - loss: 0.2898 - accuracy: 0.8791 - val_loss: 0.9788 - val_accuracy: 0.7363\n",
            "Epoch 23/25\n",
            "37/37 [==============================] - 0s 5ms/step - loss: 0.2135 - accuracy: 0.9176 - val_loss: 0.9314 - val_accuracy: 0.7253\n",
            "Epoch 24/25\n",
            "37/37 [==============================] - 0s 5ms/step - loss: 0.2934 - accuracy: 0.9093 - val_loss: 0.8665 - val_accuracy: 0.7473\n",
            "Epoch 25/25\n",
            "37/37 [==============================] - 0s 5ms/step - loss: 0.2529 - accuracy: 0.9093 - val_loss: 1.0186 - val_accuracy: 0.7033\n",
            "Calculating predictions and scores....\n",
            "Calculating predictions and scores.......................\n",
            "\n",
            "5/5 [==============================] - 0s 7ms/step\n",
            "5/5 [==============================] - 0s 4ms/step - loss: 0.9816 - accuracy: 0.6908\n",
            "Collecting outputs.......................\n",
            "\n",
            "Congratuations! All the processes are completed successfully....\n",
            "\n",
            "===== Running 1 replicate=======\n",
            "Building CNN Model.......................\n",
            "\n",
            "Fitting  CNN Model.......................\n",
            "\n",
            "Epoch 1/25\n",
            "37/37 [==============================] - 1s 10ms/step - loss: 1.5801 - accuracy: 0.3022 - val_loss: 1.5170 - val_accuracy: 0.2088\n",
            "Epoch 2/25\n",
            "37/37 [==============================] - 0s 5ms/step - loss: 1.2079 - accuracy: 0.4451 - val_loss: 1.3315 - val_accuracy: 0.3736\n",
            "Epoch 3/25\n",
            "37/37 [==============================] - 0s 5ms/step - loss: 0.9537 - accuracy: 0.5632 - val_loss: 1.0918 - val_accuracy: 0.4176\n",
            "Epoch 4/25\n",
            "37/37 [==============================] - 0s 5ms/step - loss: 0.9302 - accuracy: 0.5577 - val_loss: 0.9948 - val_accuracy: 0.5055\n",
            "Epoch 5/25\n",
            "37/37 [==============================] - 0s 5ms/step - loss: 0.9569 - accuracy: 0.5137 - val_loss: 0.8560 - val_accuracy: 0.5714\n",
            "Epoch 6/25\n",
            "37/37 [==============================] - 0s 5ms/step - loss: 0.8365 - accuracy: 0.6071 - val_loss: 1.0613 - val_accuracy: 0.4286\n",
            "Epoch 7/25\n",
            "37/37 [==============================] - 0s 5ms/step - loss: 0.8033 - accuracy: 0.6264 - val_loss: 0.9343 - val_accuracy: 0.5275\n",
            "Epoch 8/25\n",
            "37/37 [==============================] - 0s 6ms/step - loss: 0.7408 - accuracy: 0.6538 - val_loss: 1.0315 - val_accuracy: 0.5385\n",
            "Epoch 9/25\n",
            "37/37 [==============================] - 0s 5ms/step - loss: 0.6208 - accuracy: 0.7445 - val_loss: 0.7703 - val_accuracy: 0.6484\n",
            "Epoch 10/25\n",
            "37/37 [==============================] - 0s 5ms/step - loss: 0.4772 - accuracy: 0.8077 - val_loss: 0.9130 - val_accuracy: 0.5934\n",
            "Epoch 11/25\n",
            "37/37 [==============================] - 0s 6ms/step - loss: 0.3863 - accuracy: 0.8599 - val_loss: 0.8699 - val_accuracy: 0.6484\n",
            "Epoch 12/25\n",
            "37/37 [==============================] - 0s 5ms/step - loss: 0.3004 - accuracy: 0.9176 - val_loss: 0.7993 - val_accuracy: 0.7143\n",
            "Epoch 13/25\n",
            "37/37 [==============================] - 0s 6ms/step - loss: 0.2617 - accuracy: 0.8874 - val_loss: 1.1163 - val_accuracy: 0.7692\n",
            "Epoch 14/25\n",
            "37/37 [==============================] - 0s 6ms/step - loss: 0.2052 - accuracy: 0.9341 - val_loss: 1.2133 - val_accuracy: 0.7582\n",
            "Epoch 15/25\n",
            "37/37 [==============================] - 0s 6ms/step - loss: 0.2578 - accuracy: 0.9121 - val_loss: 1.2384 - val_accuracy: 0.5934\n",
            "Epoch 16/25\n",
            "37/37 [==============================] - 0s 6ms/step - loss: 0.2208 - accuracy: 0.9121 - val_loss: 1.2480 - val_accuracy: 0.7143\n",
            "Epoch 17/25\n",
            "37/37 [==============================] - 0s 5ms/step - loss: 0.2086 - accuracy: 0.9341 - val_loss: 1.3037 - val_accuracy: 0.7473\n",
            "Epoch 18/25\n",
            "37/37 [==============================] - 0s 6ms/step - loss: 0.2395 - accuracy: 0.9341 - val_loss: 1.1919 - val_accuracy: 0.7253\n",
            "Epoch 19/25\n",
            "37/37 [==============================] - 0s 5ms/step - loss: 0.1347 - accuracy: 0.9478 - val_loss: 1.2634 - val_accuracy: 0.7473\n",
            "Epoch 20/25\n",
            "37/37 [==============================] - 0s 5ms/step - loss: 0.0941 - accuracy: 0.9698 - val_loss: 1.5136 - val_accuracy: 0.6923\n",
            "Epoch 21/25\n",
            "37/37 [==============================] - 0s 4ms/step - loss: 0.0684 - accuracy: 0.9808 - val_loss: 1.5677 - val_accuracy: 0.7473\n",
            "Epoch 22/25\n",
            "37/37 [==============================] - 0s 6ms/step - loss: 0.0724 - accuracy: 0.9808 - val_loss: 1.5257 - val_accuracy: 0.7033\n",
            "Epoch 23/25\n",
            "37/37 [==============================] - 0s 5ms/step - loss: 0.0588 - accuracy: 0.9808 - val_loss: 1.6758 - val_accuracy: 0.7692\n",
            "Epoch 24/25\n",
            "37/37 [==============================] - 0s 6ms/step - loss: 0.0607 - accuracy: 0.9753 - val_loss: 1.6399 - val_accuracy: 0.7473\n",
            "Epoch 25/25\n",
            "37/37 [==============================] - 0s 5ms/step - loss: 0.0354 - accuracy: 0.9890 - val_loss: 1.7862 - val_accuracy: 0.7692\n",
            "Calculating predictions and scores....\n",
            "Calculating predictions and scores.......................\n",
            "\n",
            "5/5 [==============================] - 0s 3ms/step\n",
            "5/5 [==============================] - 0s 4ms/step - loss: 1.5139 - accuracy: 0.7895\n",
            "Collecting outputs.......................\n",
            "\n",
            "Congratuations! All the processes are completed successfully....\n",
            "\n",
            "===== Running 2 replicate=======\n",
            "Building CNN Model.......................\n",
            "\n",
            "Fitting  CNN Model.......................\n",
            "\n",
            "Epoch 1/25\n",
            "37/37 [==============================] - 1s 9ms/step - loss: 2.1627 - accuracy: 0.2720 - val_loss: 1.9963 - val_accuracy: 0.1648\n",
            "Epoch 2/25\n",
            "37/37 [==============================] - 0s 6ms/step - loss: 1.8723 - accuracy: 0.3214 - val_loss: 1.8058 - val_accuracy: 0.1648\n",
            "Epoch 3/25\n",
            "37/37 [==============================] - 0s 6ms/step - loss: 1.7062 - accuracy: 0.3214 - val_loss: 1.7068 - val_accuracy: 0.1648\n",
            "Epoch 4/25\n",
            "37/37 [==============================] - 0s 5ms/step - loss: 1.6059 - accuracy: 0.3214 - val_loss: 1.6433 - val_accuracy: 0.1648\n",
            "Epoch 5/25\n",
            "37/37 [==============================] - 0s 5ms/step - loss: 1.5450 - accuracy: 0.3214 - val_loss: 1.6036 - val_accuracy: 0.1648\n",
            "Epoch 6/25\n",
            "37/37 [==============================] - 0s 6ms/step - loss: 1.5057 - accuracy: 0.3214 - val_loss: 1.5732 - val_accuracy: 0.1648\n",
            "Epoch 7/25\n",
            "37/37 [==============================] - 0s 6ms/step - loss: 1.4771 - accuracy: 0.3214 - val_loss: 1.5590 - val_accuracy: 0.1648\n",
            "Epoch 8/25\n",
            "37/37 [==============================] - 0s 5ms/step - loss: 1.4583 - accuracy: 0.3214 - val_loss: 1.5487 - val_accuracy: 0.1648\n",
            "Epoch 9/25\n",
            "37/37 [==============================] - 0s 6ms/step - loss: 1.4427 - accuracy: 0.3214 - val_loss: 1.5290 - val_accuracy: 0.1648\n",
            "Epoch 10/25\n",
            "37/37 [==============================] - 0s 5ms/step - loss: 1.4321 - accuracy: 0.3214 - val_loss: 1.5201 - val_accuracy: 0.1648\n",
            "Epoch 11/25\n",
            "37/37 [==============================] - 0s 10ms/step - loss: 1.4228 - accuracy: 0.3214 - val_loss: 1.5119 - val_accuracy: 0.1648\n",
            "Epoch 12/25\n",
            "37/37 [==============================] - 0s 11ms/step - loss: 1.4152 - accuracy: 0.3214 - val_loss: 1.5098 - val_accuracy: 0.1648\n",
            "Epoch 13/25\n",
            "37/37 [==============================] - 0s 5ms/step - loss: 1.4105 - accuracy: 0.3214 - val_loss: 1.4991 - val_accuracy: 0.1648\n",
            "Epoch 14/25\n",
            "37/37 [==============================] - 0s 5ms/step - loss: 1.4048 - accuracy: 0.3214 - val_loss: 1.5001 - val_accuracy: 0.1648\n",
            "Epoch 15/25\n",
            "37/37 [==============================] - 0s 8ms/step - loss: 1.4011 - accuracy: 0.3214 - val_loss: 1.4918 - val_accuracy: 0.1648\n",
            "Epoch 16/25\n",
            "37/37 [==============================] - 0s 12ms/step - loss: 1.3971 - accuracy: 0.3214 - val_loss: 1.4933 - val_accuracy: 0.1648\n",
            "Epoch 17/25\n",
            "37/37 [==============================] - 0s 6ms/step - loss: 1.3943 - accuracy: 0.3214 - val_loss: 1.4895 - val_accuracy: 0.1648\n",
            "Epoch 18/25\n",
            "37/37 [==============================] - 0s 5ms/step - loss: 1.3919 - accuracy: 0.3214 - val_loss: 1.4881 - val_accuracy: 0.1648\n",
            "Epoch 19/25\n",
            "37/37 [==============================] - 0s 9ms/step - loss: 1.3906 - accuracy: 0.3214 - val_loss: 1.4812 - val_accuracy: 0.1648\n",
            "Epoch 20/25\n",
            "37/37 [==============================] - 0s 11ms/step - loss: 1.3882 - accuracy: 0.3214 - val_loss: 1.4768 - val_accuracy: 0.1648\n",
            "Epoch 21/25\n",
            "37/37 [==============================] - 0s 5ms/step - loss: 1.3853 - accuracy: 0.3214 - val_loss: 1.4815 - val_accuracy: 0.1648\n",
            "Epoch 22/25\n",
            "37/37 [==============================] - 0s 5ms/step - loss: 1.3853 - accuracy: 0.3214 - val_loss: 1.4787 - val_accuracy: 0.1648\n",
            "Epoch 23/25\n",
            "37/37 [==============================] - 0s 5ms/step - loss: 1.3828 - accuracy: 0.3214 - val_loss: 1.4787 - val_accuracy: 0.1648\n",
            "Epoch 24/25\n",
            "37/37 [==============================] - 0s 5ms/step - loss: 1.3818 - accuracy: 0.3214 - val_loss: 1.4724 - val_accuracy: 0.1648\n",
            "Epoch 25/25\n",
            "37/37 [==============================] - 0s 6ms/step - loss: 1.3807 - accuracy: 0.3214 - val_loss: 1.4755 - val_accuracy: 0.1648\n",
            "Calculating predictions and scores....\n",
            "Calculating predictions and scores.......................\n",
            "\n",
            "5/5 [==============================] - 0s 3ms/step\n",
            "5/5 [==============================] - 0s 4ms/step - loss: 1.3802 - accuracy: 0.3224\n",
            "Collecting outputs.......................\n",
            "\n",
            "Congratuations! All the processes are completed successfully....\n",
            "\n",
            "===== Running 3 replicate=======\n",
            "Building CNN Model.......................\n",
            "\n",
            "Fitting  CNN Model.......................\n",
            "\n",
            "Epoch 1/25\n",
            "37/37 [==============================] - 1s 9ms/step - loss: 1.6937 - accuracy: 0.2527 - val_loss: 1.3926 - val_accuracy: 0.2857\n",
            "Epoch 2/25\n",
            "37/37 [==============================] - 0s 6ms/step - loss: 1.3012 - accuracy: 0.4011 - val_loss: 1.4724 - val_accuracy: 0.2088\n",
            "Epoch 3/25\n",
            "37/37 [==============================] - 0s 6ms/step - loss: 1.2299 - accuracy: 0.5027 - val_loss: 1.3259 - val_accuracy: 0.4725\n",
            "Epoch 4/25\n",
            "37/37 [==============================] - 0s 5ms/step - loss: 1.0615 - accuracy: 0.5714 - val_loss: 1.7426 - val_accuracy: 0.3736\n",
            "Epoch 5/25\n",
            "37/37 [==============================] - 0s 5ms/step - loss: 1.0076 - accuracy: 0.5549 - val_loss: 1.0469 - val_accuracy: 0.5275\n",
            "Epoch 6/25\n",
            "37/37 [==============================] - 0s 6ms/step - loss: 0.6798 - accuracy: 0.7033 - val_loss: 1.0323 - val_accuracy: 0.5385\n",
            "Epoch 7/25\n",
            "37/37 [==============================] - 0s 6ms/step - loss: 0.5437 - accuracy: 0.7555 - val_loss: 0.8917 - val_accuracy: 0.5934\n",
            "Epoch 8/25\n",
            "37/37 [==============================] - 0s 5ms/step - loss: 0.4946 - accuracy: 0.7610 - val_loss: 0.9040 - val_accuracy: 0.5604\n",
            "Epoch 9/25\n",
            "37/37 [==============================] - 0s 6ms/step - loss: 0.4101 - accuracy: 0.8214 - val_loss: 0.8486 - val_accuracy: 0.6044\n",
            "Epoch 10/25\n",
            "37/37 [==============================] - 0s 6ms/step - loss: 0.2967 - accuracy: 0.8654 - val_loss: 0.9018 - val_accuracy: 0.6484\n",
            "Epoch 11/25\n",
            "37/37 [==============================] - 0s 5ms/step - loss: 0.2771 - accuracy: 0.8764 - val_loss: 1.0240 - val_accuracy: 0.6593\n",
            "Epoch 12/25\n",
            "37/37 [==============================] - 0s 5ms/step - loss: 0.2495 - accuracy: 0.8874 - val_loss: 1.0526 - val_accuracy: 0.6813\n",
            "Epoch 13/25\n",
            "37/37 [==============================] - 0s 6ms/step - loss: 0.1707 - accuracy: 0.9396 - val_loss: 1.0621 - val_accuracy: 0.7912\n",
            "Epoch 14/25\n",
            "37/37 [==============================] - 0s 5ms/step - loss: 0.2649 - accuracy: 0.9286 - val_loss: 0.9309 - val_accuracy: 0.7033\n",
            "Epoch 15/25\n",
            "37/37 [==============================] - 0s 6ms/step - loss: 0.4664 - accuracy: 0.8681 - val_loss: 0.8753 - val_accuracy: 0.6813\n",
            "Epoch 16/25\n",
            "37/37 [==============================] - 0s 6ms/step - loss: 0.2196 - accuracy: 0.9203 - val_loss: 1.0315 - val_accuracy: 0.7033\n",
            "Epoch 17/25\n",
            "37/37 [==============================] - 0s 5ms/step - loss: 0.1036 - accuracy: 0.9780 - val_loss: 1.2972 - val_accuracy: 0.7143\n",
            "Epoch 18/25\n",
            "37/37 [==============================] - 0s 6ms/step - loss: 0.0553 - accuracy: 0.9808 - val_loss: 1.3135 - val_accuracy: 0.7582\n",
            "Epoch 19/25\n",
            "37/37 [==============================] - 0s 6ms/step - loss: 0.0360 - accuracy: 0.9808 - val_loss: 1.4312 - val_accuracy: 0.7253\n",
            "Epoch 20/25\n",
            "37/37 [==============================] - 0s 5ms/step - loss: 0.0326 - accuracy: 0.9945 - val_loss: 1.4516 - val_accuracy: 0.8132\n",
            "Epoch 21/25\n",
            "37/37 [==============================] - 0s 5ms/step - loss: 0.0152 - accuracy: 0.9945 - val_loss: 1.5385 - val_accuracy: 0.7802\n",
            "Epoch 22/25\n",
            "37/37 [==============================] - 0s 5ms/step - loss: 0.0489 - accuracy: 0.9835 - val_loss: 1.6821 - val_accuracy: 0.7692\n",
            "Epoch 23/25\n",
            "37/37 [==============================] - 0s 5ms/step - loss: 0.0254 - accuracy: 0.9945 - val_loss: 1.5631 - val_accuracy: 0.8022\n",
            "Epoch 24/25\n",
            "37/37 [==============================] - 0s 5ms/step - loss: 0.1121 - accuracy: 0.9670 - val_loss: 1.8199 - val_accuracy: 0.7253\n",
            "Epoch 25/25\n",
            "37/37 [==============================] - 0s 6ms/step - loss: 0.1261 - accuracy: 0.9588 - val_loss: 2.0259 - val_accuracy: 0.6593\n",
            "Calculating predictions and scores....\n",
            "Calculating predictions and scores.......................\n",
            "\n",
            "5/5 [==============================] - 0s 4ms/step\n",
            "5/5 [==============================] - 0s 5ms/step - loss: 1.4577 - accuracy: 0.7632\n",
            "Collecting outputs.......................\n",
            "\n",
            "Congratuations! All the processes are completed successfully....\n",
            "\n",
            "===== Running 4 replicate=======\n",
            "Building CNN Model.......................\n",
            "\n",
            "Fitting  CNN Model.......................\n",
            "\n",
            "Epoch 1/25\n",
            "37/37 [==============================] - 1s 10ms/step - loss: 2.1438 - accuracy: 0.1923 - val_loss: 1.8320 - val_accuracy: 0.1648\n",
            "Epoch 2/25\n",
            "37/37 [==============================] - 0s 5ms/step - loss: 1.5388 - accuracy: 0.3324 - val_loss: 1.4288 - val_accuracy: 0.1758\n",
            "Epoch 3/25\n",
            "37/37 [==============================] - 0s 5ms/step - loss: 1.2588 - accuracy: 0.3901 - val_loss: 1.1914 - val_accuracy: 0.4066\n",
            "Epoch 4/25\n",
            "37/37 [==============================] - 0s 5ms/step - loss: 1.1535 - accuracy: 0.5110 - val_loss: 1.0862 - val_accuracy: 0.4725\n",
            "Epoch 5/25\n",
            "37/37 [==============================] - 0s 5ms/step - loss: 1.0213 - accuracy: 0.5742 - val_loss: 0.9912 - val_accuracy: 0.4286\n",
            "Epoch 6/25\n",
            "37/37 [==============================] - 0s 5ms/step - loss: 0.8876 - accuracy: 0.5687 - val_loss: 0.9395 - val_accuracy: 0.4176\n",
            "Epoch 7/25\n",
            "37/37 [==============================] - 0s 6ms/step - loss: 0.8430 - accuracy: 0.5577 - val_loss: 0.8979 - val_accuracy: 0.5604\n",
            "Epoch 8/25\n",
            "37/37 [==============================] - 0s 5ms/step - loss: 0.7749 - accuracy: 0.5769 - val_loss: 1.0711 - val_accuracy: 0.4505\n",
            "Epoch 9/25\n",
            "37/37 [==============================] - 0s 5ms/step - loss: 0.7544 - accuracy: 0.5934 - val_loss: 1.0608 - val_accuracy: 0.4396\n",
            "Epoch 10/25\n",
            "37/37 [==============================] - 0s 5ms/step - loss: 0.7732 - accuracy: 0.5659 - val_loss: 1.0654 - val_accuracy: 0.3956\n",
            "Epoch 11/25\n",
            "37/37 [==============================] - 0s 5ms/step - loss: 0.7424 - accuracy: 0.5632 - val_loss: 0.9636 - val_accuracy: 0.4396\n",
            "Epoch 12/25\n",
            "37/37 [==============================] - 0s 5ms/step - loss: 0.7013 - accuracy: 0.5989 - val_loss: 0.9782 - val_accuracy: 0.4286\n",
            "Epoch 13/25\n",
            "37/37 [==============================] - 0s 5ms/step - loss: 0.6988 - accuracy: 0.6099 - val_loss: 0.9485 - val_accuracy: 0.4176\n",
            "Epoch 14/25\n",
            "37/37 [==============================] - 0s 6ms/step - loss: 0.8033 - accuracy: 0.5522 - val_loss: 0.8363 - val_accuracy: 0.5714\n",
            "Epoch 15/25\n",
            "37/37 [==============================] - 0s 5ms/step - loss: 0.7124 - accuracy: 0.5907 - val_loss: 0.9097 - val_accuracy: 0.5604\n",
            "Epoch 16/25\n",
            "37/37 [==============================] - 0s 6ms/step - loss: 0.6624 - accuracy: 0.6236 - val_loss: 0.9220 - val_accuracy: 0.4615\n",
            "Epoch 17/25\n",
            "37/37 [==============================] - 0s 6ms/step - loss: 0.6298 - accuracy: 0.6566 - val_loss: 0.8695 - val_accuracy: 0.5604\n",
            "Epoch 18/25\n",
            "37/37 [==============================] - 0s 5ms/step - loss: 0.6825 - accuracy: 0.6126 - val_loss: 1.2173 - val_accuracy: 0.4286\n",
            "Epoch 19/25\n",
            "37/37 [==============================] - 0s 5ms/step - loss: 0.7045 - accuracy: 0.5879 - val_loss: 0.9121 - val_accuracy: 0.5604\n",
            "Epoch 20/25\n",
            "37/37 [==============================] - 0s 5ms/step - loss: 0.6849 - accuracy: 0.6566 - val_loss: 0.8930 - val_accuracy: 0.6154\n",
            "Epoch 21/25\n",
            "37/37 [==============================] - 0s 6ms/step - loss: 0.6256 - accuracy: 0.6896 - val_loss: 0.9241 - val_accuracy: 0.5824\n",
            "Epoch 22/25\n",
            "37/37 [==============================] - 0s 6ms/step - loss: 0.5056 - accuracy: 0.7363 - val_loss: 1.0214 - val_accuracy: 0.5714\n",
            "Epoch 23/25\n",
            "37/37 [==============================] - 0s 5ms/step - loss: 0.4956 - accuracy: 0.7473 - val_loss: 0.8907 - val_accuracy: 0.6593\n",
            "Epoch 24/25\n",
            "37/37 [==============================] - 0s 6ms/step - loss: 0.4374 - accuracy: 0.7857 - val_loss: 1.1979 - val_accuracy: 0.5824\n",
            "Epoch 25/25\n",
            "37/37 [==============================] - 0s 5ms/step - loss: 0.3872 - accuracy: 0.8352 - val_loss: 1.2691 - val_accuracy: 0.6374\n",
            "Calculating predictions and scores....\n",
            "Calculating predictions and scores.......................\n",
            "\n",
            "5/5 [==============================] - 0s 3ms/step\n",
            "5/5 [==============================] - 0s 4ms/step - loss: 1.2181 - accuracy: 0.6513\n",
            "Collecting outputs.......................\n",
            "\n",
            "Congratuations! All the processes are completed successfully....\n",
            "\n",
            "Avarage test accuracy:  0.643421059846878\n"
          ]
        }
      ]
    },
    {
      "cell_type": "code",
      "source": [
        "model2_all_test_acc = pd.read_csv(output_dir_path+\"model2_all_test_acc.csv\")\n",
        "\n",
        "fig = plt.figure(figsize= (4, 4))\n",
        "plt.boxplot(model2_all_test_acc.iloc[:,1])\n",
        "\n",
        "fig.savefig(output_dir_path+\"model2_test_acc_boxplot.png\", dpi = 600)\n",
        "plt.show()"
      ],
      "metadata": {
        "colab": {
          "base_uri": "https://localhost:8080/",
          "height": 265
        },
        "id": "s2iEEvISS99u",
        "outputId": "d34130e4-99ac-47a9-ea32-2c3bde1ae88e"
      },
      "id": "s2iEEvISS99u",
      "execution_count": null,
      "outputs": [
        {
          "output_type": "display_data",
          "data": {
            "text/plain": [
              "<Figure size 288x288 with 1 Axes>"
            ],
            "image/png": "[encoded data removed]"
          },
          "metadata": {
            "needs_background": "light"
          }
        }
      ]
    },
    {
      "cell_type": "markdown",
      "source": [
        "### **Model 3:  32-16-8-filters three convolutional layers and 60-60 neurons two dense layers CNN Model**\n",
        "\n",
        "- Best optimizer: \"Adam\" \n",
        "- Best learning rate: 0.01\n",
        "- Best epochs = 25"
      ],
      "metadata": {
        "id": "NL9a-vKMO2gI"
      },
      "id": "NL9a-vKMO2gI"
    },
    {
      "cell_type": "code",
      "source": [
        "model3_final_output = Multi_Run_CNN_Model(num_replicates = 5,\n",
        "                                   conv_layers =  [16, 8, 4],\n",
        "                                   dense_layers = [60, 60],\n",
        "                                   kernel_size = (2,2) ,\n",
        "                                   input_shape = (64, 64, 3), \n",
        "                                    output_dim  = 10, \n",
        "                                    optimizer = 'Adam',  # best optimizer\n",
        "                                    learning_rate = 0.01, # best learning rate\n",
        "                                    X_train = X_train,\n",
        "                                    y_train = y_train,\n",
        "                                    X_test = X_test,\n",
        "                                    y_test =  y_test, \n",
        "                                    val_split = 0.2,\n",
        "                                    batch_size = 25,\n",
        "                                    epochs = 25, # best epochs\n",
        "                                    verbose = 1\n",
        "                                    )\n",
        "\n",
        "write_dic_to_file(model3_final_output, output_dir_path+ \"model3_full_results\" + \".txt\")\n",
        "\n",
        "pd.DataFrame(model3_final_output['all_test_acc']).to_csv(output_dir_path+\"model3_all_test_acc.csv\")"
      ],
      "metadata": {
        "colab": {
          "base_uri": "https://localhost:8080/"
        },
        "id": "5nfdvJ2VO9nV",
        "outputId": "0bc45479-baf0-4654-d66a-cf5645e7bb23"
      },
      "id": "5nfdvJ2VO9nV",
      "execution_count": null,
      "outputs": [
        {
          "output_type": "stream",
          "name": "stdout",
          "text": [
            "===== Running 0 replicate=======\n",
            "Building CNN Model.......................\n",
            "\n",
            "Fitting  CNN Model.......................\n",
            "\n",
            "Epoch 1/25\n",
            "37/37 [==============================] - 1s 11ms/step - loss: 1.5427 - accuracy: 0.3077 - val_loss: 1.2086 - val_accuracy: 0.5604\n",
            "Epoch 2/25\n",
            "37/37 [==============================] - 0s 5ms/step - loss: 1.0410 - accuracy: 0.5440 - val_loss: 1.2170 - val_accuracy: 0.3956\n",
            "Epoch 3/25\n",
            "37/37 [==============================] - 0s 6ms/step - loss: 0.8781 - accuracy: 0.5742 - val_loss: 1.1932 - val_accuracy: 0.5824\n",
            "Epoch 4/25\n",
            "37/37 [==============================] - 0s 5ms/step - loss: 0.8093 - accuracy: 0.6181 - val_loss: 0.9375 - val_accuracy: 0.5495\n",
            "Epoch 5/25\n",
            "37/37 [==============================] - 0s 5ms/step - loss: 0.7250 - accuracy: 0.6401 - val_loss: 0.7769 - val_accuracy: 0.6484\n",
            "Epoch 6/25\n",
            "37/37 [==============================] - 0s 6ms/step - loss: 0.6492 - accuracy: 0.7088 - val_loss: 1.1975 - val_accuracy: 0.5495\n",
            "Epoch 7/25\n",
            "37/37 [==============================] - 0s 5ms/step - loss: 0.5496 - accuracy: 0.7692 - val_loss: 0.6931 - val_accuracy: 0.7143\n",
            "Epoch 8/25\n",
            "37/37 [==============================] - 0s 6ms/step - loss: 0.4516 - accuracy: 0.8269 - val_loss: 1.2444 - val_accuracy: 0.6154\n",
            "Epoch 9/25\n",
            "37/37 [==============================] - 0s 7ms/step - loss: 0.3971 - accuracy: 0.8407 - val_loss: 0.9844 - val_accuracy: 0.7143\n",
            "Epoch 10/25\n",
            "37/37 [==============================] - 0s 7ms/step - loss: 0.4160 - accuracy: 0.8324 - val_loss: 0.9797 - val_accuracy: 0.6923\n",
            "Epoch 11/25\n",
            "37/37 [==============================] - 0s 5ms/step - loss: 0.2843 - accuracy: 0.8901 - val_loss: 0.7569 - val_accuracy: 0.7253\n",
            "Epoch 12/25\n",
            "37/37 [==============================] - 0s 5ms/step - loss: 0.2532 - accuracy: 0.9176 - val_loss: 0.8880 - val_accuracy: 0.6593\n",
            "Epoch 13/25\n",
            "37/37 [==============================] - 0s 6ms/step - loss: 0.2362 - accuracy: 0.9203 - val_loss: 1.1505 - val_accuracy: 0.7253\n",
            "Epoch 14/25\n",
            "37/37 [==============================] - 0s 6ms/step - loss: 0.2847 - accuracy: 0.8901 - val_loss: 1.1824 - val_accuracy: 0.7363\n",
            "Epoch 15/25\n",
            "37/37 [==============================] - 0s 5ms/step - loss: 0.1612 - accuracy: 0.9505 - val_loss: 0.8870 - val_accuracy: 0.8022\n",
            "Epoch 16/25\n",
            "37/37 [==============================] - 0s 6ms/step - loss: 0.1787 - accuracy: 0.9478 - val_loss: 0.7523 - val_accuracy: 0.7802\n",
            "Epoch 17/25\n",
            "37/37 [==============================] - 0s 5ms/step - loss: 0.2342 - accuracy: 0.9176 - val_loss: 1.7331 - val_accuracy: 0.7143\n",
            "Epoch 18/25\n",
            "37/37 [==============================] - 0s 7ms/step - loss: 0.1667 - accuracy: 0.9368 - val_loss: 1.4770 - val_accuracy: 0.7253\n",
            "Epoch 19/25\n",
            "37/37 [==============================] - 0s 7ms/step - loss: 0.0930 - accuracy: 0.9643 - val_loss: 1.1970 - val_accuracy: 0.7143\n",
            "Epoch 20/25\n",
            "37/37 [==============================] - 0s 7ms/step - loss: 0.1014 - accuracy: 0.9615 - val_loss: 1.4718 - val_accuracy: 0.7473\n",
            "Epoch 21/25\n",
            "37/37 [==============================] - 0s 6ms/step - loss: 0.0701 - accuracy: 0.9725 - val_loss: 1.8136 - val_accuracy: 0.7473\n",
            "Epoch 22/25\n",
            "37/37 [==============================] - 0s 6ms/step - loss: 0.4198 - accuracy: 0.8434 - val_loss: 1.6176 - val_accuracy: 0.6593\n",
            "Epoch 23/25\n",
            "37/37 [==============================] - 0s 7ms/step - loss: 0.2678 - accuracy: 0.9121 - val_loss: 1.5144 - val_accuracy: 0.7363\n",
            "Epoch 24/25\n",
            "37/37 [==============================] - 0s 7ms/step - loss: 0.1184 - accuracy: 0.9560 - val_loss: 2.0385 - val_accuracy: 0.7473\n",
            "Epoch 25/25\n",
            "37/37 [==============================] - 0s 6ms/step - loss: 0.0260 - accuracy: 0.9945 - val_loss: 2.0976 - val_accuracy: 0.7692\n",
            "Calculating predictions and scores....\n",
            "Calculating predictions and scores.......................\n",
            "\n",
            "5/5 [==============================] - 0s 6ms/step\n",
            "5/5 [==============================] - 0s 4ms/step - loss: 1.2549 - accuracy: 0.8289\n",
            "Collecting outputs.......................\n",
            "\n",
            "Congratuations! All the processes are completed successfully....\n",
            "\n",
            "===== Running 1 replicate=======\n",
            "Building CNN Model.......................\n",
            "\n",
            "Fitting  CNN Model.......................\n",
            "\n",
            "Epoch 1/25\n",
            "37/37 [==============================] - 1s 11ms/step - loss: 1.5093 - accuracy: 0.3297 - val_loss: 1.3597 - val_accuracy: 0.3846\n",
            "Epoch 2/25\n",
            "37/37 [==============================] - 0s 6ms/step - loss: 1.2274 - accuracy: 0.4258 - val_loss: 1.0237 - val_accuracy: 0.4725\n",
            "Epoch 3/25\n",
            "37/37 [==============================] - 0s 6ms/step - loss: 1.0666 - accuracy: 0.4615 - val_loss: 1.0517 - val_accuracy: 0.3956\n",
            "Epoch 4/25\n",
            "37/37 [==============================] - 0s 5ms/step - loss: 0.9113 - accuracy: 0.5330 - val_loss: 1.0061 - val_accuracy: 0.4945\n",
            "Epoch 5/25\n",
            "37/37 [==============================] - 0s 6ms/step - loss: 0.8734 - accuracy: 0.5852 - val_loss: 0.9591 - val_accuracy: 0.5604\n",
            "Epoch 6/25\n",
            "37/37 [==============================] - 0s 6ms/step - loss: 0.7688 - accuracy: 0.5879 - val_loss: 1.0407 - val_accuracy: 0.5604\n",
            "Epoch 7/25\n",
            "37/37 [==============================] - 0s 6ms/step - loss: 0.7748 - accuracy: 0.5907 - val_loss: 1.0046 - val_accuracy: 0.5604\n",
            "Epoch 8/25\n",
            "37/37 [==============================] - 0s 5ms/step - loss: 0.7080 - accuracy: 0.6401 - val_loss: 0.9342 - val_accuracy: 0.5714\n",
            "Epoch 9/25\n",
            "37/37 [==============================] - 0s 5ms/step - loss: 0.6938 - accuracy: 0.6621 - val_loss: 1.0137 - val_accuracy: 0.4725\n",
            "Epoch 10/25\n",
            "37/37 [==============================] - 0s 6ms/step - loss: 0.5687 - accuracy: 0.7198 - val_loss: 0.9843 - val_accuracy: 0.5604\n",
            "Epoch 11/25\n",
            "37/37 [==============================] - 0s 5ms/step - loss: 0.4493 - accuracy: 0.7940 - val_loss: 1.1347 - val_accuracy: 0.5714\n",
            "Epoch 12/25\n",
            "37/37 [==============================] - 0s 5ms/step - loss: 0.4615 - accuracy: 0.8104 - val_loss: 1.2654 - val_accuracy: 0.4835\n",
            "Epoch 13/25\n",
            "37/37 [==============================] - 0s 6ms/step - loss: 0.4136 - accuracy: 0.8269 - val_loss: 1.1283 - val_accuracy: 0.5604\n",
            "Epoch 14/25\n",
            "37/37 [==============================] - 0s 5ms/step - loss: 0.4074 - accuracy: 0.8324 - val_loss: 0.8468 - val_accuracy: 0.6374\n",
            "Epoch 15/25\n",
            "37/37 [==============================] - 0s 5ms/step - loss: 0.5479 - accuracy: 0.7802 - val_loss: 1.1229 - val_accuracy: 0.5275\n",
            "Epoch 16/25\n",
            "37/37 [==============================] - 0s 5ms/step - loss: 0.4419 - accuracy: 0.8269 - val_loss: 0.8343 - val_accuracy: 0.7143\n",
            "Epoch 17/25\n",
            "37/37 [==============================] - 0s 6ms/step - loss: 0.2294 - accuracy: 0.9093 - val_loss: 1.4045 - val_accuracy: 0.6264\n",
            "Epoch 18/25\n",
            "37/37 [==============================] - 0s 5ms/step - loss: 0.2802 - accuracy: 0.8764 - val_loss: 1.3264 - val_accuracy: 0.7033\n",
            "Epoch 19/25\n",
            "37/37 [==============================] - 0s 5ms/step - loss: 0.2877 - accuracy: 0.8901 - val_loss: 1.3277 - val_accuracy: 0.6264\n",
            "Epoch 20/25\n",
            "37/37 [==============================] - 0s 5ms/step - loss: 0.3652 - accuracy: 0.8846 - val_loss: 1.2392 - val_accuracy: 0.6703\n",
            "Epoch 21/25\n",
            "37/37 [==============================] - 0s 5ms/step - loss: 0.3145 - accuracy: 0.9066 - val_loss: 1.1106 - val_accuracy: 0.7253\n",
            "Epoch 22/25\n",
            "37/37 [==============================] - 0s 5ms/step - loss: 0.1892 - accuracy: 0.9341 - val_loss: 1.4743 - val_accuracy: 0.6264\n",
            "Epoch 23/25\n",
            "37/37 [==============================] - 0s 5ms/step - loss: 0.4806 - accuracy: 0.8599 - val_loss: 0.8797 - val_accuracy: 0.6813\n",
            "Epoch 24/25\n",
            "37/37 [==============================] - 0s 5ms/step - loss: 0.2375 - accuracy: 0.9121 - val_loss: 1.1071 - val_accuracy: 0.6923\n",
            "Epoch 25/25\n",
            "37/37 [==============================] - 0s 5ms/step - loss: 0.1870 - accuracy: 0.9423 - val_loss: 1.0441 - val_accuracy: 0.7033\n",
            "Calculating predictions and scores....\n",
            "Calculating predictions and scores.......................\n",
            "\n",
            "5/5 [==============================] - 0s 3ms/step\n",
            "5/5 [==============================] - 0s 5ms/step - loss: 0.8910 - accuracy: 0.7171\n",
            "Collecting outputs.......................\n",
            "\n",
            "Congratuations! All the processes are completed successfully....\n",
            "\n",
            "===== Running 2 replicate=======\n",
            "Building CNN Model.......................\n",
            "\n",
            "Fitting  CNN Model.......................\n",
            "\n",
            "Epoch 1/25\n",
            "37/37 [==============================] - 1s 10ms/step - loss: 1.5047 - accuracy: 0.2747 - val_loss: 1.3351 - val_accuracy: 0.3407\n",
            "Epoch 2/25\n",
            "37/37 [==============================] - 0s 7ms/step - loss: 1.0253 - accuracy: 0.5247 - val_loss: 1.0635 - val_accuracy: 0.5275\n",
            "Epoch 3/25\n",
            "37/37 [==============================] - 0s 6ms/step - loss: 0.8782 - accuracy: 0.5467 - val_loss: 0.8890 - val_accuracy: 0.6044\n",
            "Epoch 4/25\n",
            "37/37 [==============================] - 0s 5ms/step - loss: 0.7652 - accuracy: 0.6071 - val_loss: 0.8728 - val_accuracy: 0.5604\n",
            "Epoch 5/25\n",
            "37/37 [==============================] - 0s 6ms/step - loss: 0.7687 - accuracy: 0.6374 - val_loss: 0.8834 - val_accuracy: 0.5275\n",
            "Epoch 6/25\n",
            "37/37 [==============================] - 0s 6ms/step - loss: 0.6547 - accuracy: 0.7005 - val_loss: 0.8923 - val_accuracy: 0.5495\n",
            "Epoch 7/25\n",
            "37/37 [==============================] - 0s 5ms/step - loss: 0.5717 - accuracy: 0.7390 - val_loss: 0.8304 - val_accuracy: 0.6703\n",
            "Epoch 8/25\n",
            "37/37 [==============================] - 0s 5ms/step - loss: 0.5381 - accuracy: 0.7940 - val_loss: 0.9978 - val_accuracy: 0.5275\n",
            "Epoch 9/25\n",
            "37/37 [==============================] - 0s 5ms/step - loss: 0.5029 - accuracy: 0.8242 - val_loss: 0.9272 - val_accuracy: 0.6923\n",
            "Epoch 10/25\n",
            "37/37 [==============================] - 0s 5ms/step - loss: 0.4516 - accuracy: 0.8214 - val_loss: 1.3619 - val_accuracy: 0.6264\n",
            "Epoch 11/25\n",
            "37/37 [==============================] - 0s 5ms/step - loss: 0.3860 - accuracy: 0.8352 - val_loss: 0.9086 - val_accuracy: 0.6813\n",
            "Epoch 12/25\n",
            "37/37 [==============================] - 0s 5ms/step - loss: 0.3980 - accuracy: 0.8434 - val_loss: 0.9476 - val_accuracy: 0.6374\n",
            "Epoch 13/25\n",
            "37/37 [==============================] - 0s 5ms/step - loss: 0.4162 - accuracy: 0.8297 - val_loss: 1.0283 - val_accuracy: 0.6703\n",
            "Epoch 14/25\n",
            "37/37 [==============================] - 0s 6ms/step - loss: 0.2189 - accuracy: 0.9176 - val_loss: 0.9887 - val_accuracy: 0.7253\n",
            "Epoch 15/25\n",
            "37/37 [==============================] - 0s 6ms/step - loss: 0.2315 - accuracy: 0.9231 - val_loss: 0.9841 - val_accuracy: 0.6923\n",
            "Epoch 16/25\n",
            "37/37 [==============================] - 0s 5ms/step - loss: 0.1923 - accuracy: 0.9231 - val_loss: 1.2166 - val_accuracy: 0.7033\n",
            "Epoch 17/25\n",
            "37/37 [==============================] - 0s 6ms/step - loss: 0.2247 - accuracy: 0.9231 - val_loss: 1.4955 - val_accuracy: 0.6813\n",
            "Epoch 18/25\n",
            "37/37 [==============================] - 0s 5ms/step - loss: 0.1607 - accuracy: 0.9533 - val_loss: 0.9579 - val_accuracy: 0.7582\n",
            "Epoch 19/25\n",
            "37/37 [==============================] - 0s 5ms/step - loss: 0.1179 - accuracy: 0.9698 - val_loss: 1.1406 - val_accuracy: 0.7253\n",
            "Epoch 20/25\n",
            "37/37 [==============================] - 0s 6ms/step - loss: 0.0790 - accuracy: 0.9725 - val_loss: 1.4487 - val_accuracy: 0.7253\n",
            "Epoch 21/25\n",
            "37/37 [==============================] - 0s 5ms/step - loss: 0.1470 - accuracy: 0.9533 - val_loss: 1.4003 - val_accuracy: 0.7033\n",
            "Epoch 22/25\n",
            "37/37 [==============================] - 0s 5ms/step - loss: 0.1041 - accuracy: 0.9670 - val_loss: 1.5495 - val_accuracy: 0.7033\n",
            "Epoch 23/25\n",
            "37/37 [==============================] - 0s 5ms/step - loss: 0.2076 - accuracy: 0.9341 - val_loss: 2.0081 - val_accuracy: 0.7033\n",
            "Epoch 24/25\n",
            "37/37 [==============================] - 0s 5ms/step - loss: 0.1085 - accuracy: 0.9560 - val_loss: 1.5593 - val_accuracy: 0.7033\n",
            "Epoch 25/25\n",
            "37/37 [==============================] - 0s 5ms/step - loss: 0.0846 - accuracy: 0.9643 - val_loss: 2.6311 - val_accuracy: 0.6813\n",
            "Calculating predictions and scores....\n",
            "Calculating predictions and scores.......................\n",
            "\n",
            "5/5 [==============================] - 0s 3ms/step\n",
            "5/5 [==============================] - 0s 4ms/step - loss: 2.3700 - accuracy: 0.7434\n",
            "Collecting outputs.......................\n",
            "\n",
            "Congratuations! All the processes are completed successfully....\n",
            "\n",
            "===== Running 3 replicate=======\n",
            "Building CNN Model.......................\n",
            "\n",
            "Fitting  CNN Model.......................\n",
            "\n",
            "Epoch 1/25\n",
            "37/37 [==============================] - 40s 1s/step - loss: 1.3704 - accuracy: 0.3929 - val_loss: 1.2528 - val_accuracy: 0.4396\n",
            "Epoch 2/25\n",
            "37/37 [==============================] - 0s 5ms/step - loss: 0.9620 - accuracy: 0.5879 - val_loss: 0.9645 - val_accuracy: 0.5495\n",
            "Epoch 3/25\n",
            "37/37 [==============================] - 0s 6ms/step - loss: 0.8265 - accuracy: 0.5934 - val_loss: 0.8622 - val_accuracy: 0.6154\n",
            "Epoch 4/25\n",
            "37/37 [==============================] - 0s 5ms/step - loss: 0.7633 - accuracy: 0.6099 - val_loss: 1.1897 - val_accuracy: 0.4176\n",
            "Epoch 5/25\n",
            "37/37 [==============================] - 0s 6ms/step - loss: 0.7336 - accuracy: 0.6731 - val_loss: 0.8578 - val_accuracy: 0.6374\n",
            "Epoch 6/25\n",
            "37/37 [==============================] - 0s 6ms/step - loss: 0.5934 - accuracy: 0.7418 - val_loss: 0.7081 - val_accuracy: 0.7033\n",
            "Epoch 7/25\n",
            "37/37 [==============================] - 0s 7ms/step - loss: 0.4965 - accuracy: 0.7885 - val_loss: 0.6398 - val_accuracy: 0.7033\n",
            "Epoch 8/25\n",
            "37/37 [==============================] - 0s 5ms/step - loss: 0.4020 - accuracy: 0.8352 - val_loss: 0.8403 - val_accuracy: 0.7143\n",
            "Epoch 9/25\n",
            "37/37 [==============================] - 0s 7ms/step - loss: 0.4336 - accuracy: 0.8049 - val_loss: 0.8612 - val_accuracy: 0.7582\n",
            "Epoch 10/25\n",
            "37/37 [==============================] - 0s 5ms/step - loss: 0.4038 - accuracy: 0.8214 - val_loss: 0.5494 - val_accuracy: 0.8352\n",
            "Epoch 11/25\n",
            "37/37 [==============================] - 0s 5ms/step - loss: 0.2560 - accuracy: 0.9121 - val_loss: 0.8871 - val_accuracy: 0.7473\n",
            "Epoch 12/25\n",
            "37/37 [==============================] - 0s 8ms/step - loss: 0.2195 - accuracy: 0.9148 - val_loss: 1.0143 - val_accuracy: 0.7582\n",
            "Epoch 13/25\n",
            "37/37 [==============================] - 0s 8ms/step - loss: 0.2163 - accuracy: 0.9203 - val_loss: 0.8004 - val_accuracy: 0.8132\n",
            "Epoch 14/25\n",
            "37/37 [==============================] - 0s 9ms/step - loss: 0.2215 - accuracy: 0.9011 - val_loss: 1.8031 - val_accuracy: 0.6484\n",
            "Epoch 15/25\n",
            "37/37 [==============================] - 0s 9ms/step - loss: 0.3311 - accuracy: 0.8846 - val_loss: 1.5136 - val_accuracy: 0.6923\n",
            "Epoch 16/25\n",
            "37/37 [==============================] - 0s 8ms/step - loss: 0.2905 - accuracy: 0.8846 - val_loss: 0.7839 - val_accuracy: 0.8462\n",
            "Epoch 17/25\n",
            "37/37 [==============================] - 0s 8ms/step - loss: 0.2552 - accuracy: 0.9011 - val_loss: 0.5733 - val_accuracy: 0.8132\n",
            "Epoch 18/25\n",
            "37/37 [==============================] - 0s 7ms/step - loss: 0.1443 - accuracy: 0.9423 - val_loss: 1.3157 - val_accuracy: 0.7143\n",
            "Epoch 19/25\n",
            "37/37 [==============================] - 0s 8ms/step - loss: 0.1542 - accuracy: 0.9588 - val_loss: 0.8075 - val_accuracy: 0.8242\n",
            "Epoch 20/25\n",
            "37/37 [==============================] - 0s 10ms/step - loss: 0.0933 - accuracy: 0.9588 - val_loss: 1.2448 - val_accuracy: 0.6813\n",
            "Epoch 21/25\n",
            "37/37 [==============================] - 0s 9ms/step - loss: 0.1342 - accuracy: 0.9588 - val_loss: 1.2442 - val_accuracy: 0.7582\n",
            "Epoch 22/25\n",
            "37/37 [==============================] - 0s 9ms/step - loss: 0.0947 - accuracy: 0.9643 - val_loss: 1.4776 - val_accuracy: 0.8132\n",
            "Epoch 23/25\n",
            "37/37 [==============================] - 0s 9ms/step - loss: 0.1156 - accuracy: 0.9533 - val_loss: 1.3688 - val_accuracy: 0.7473\n",
            "Epoch 24/25\n",
            "37/37 [==============================] - 0s 9ms/step - loss: 0.0960 - accuracy: 0.9780 - val_loss: 1.8419 - val_accuracy: 0.7143\n",
            "Epoch 25/25\n",
            "37/37 [==============================] - 0s 7ms/step - loss: 0.1282 - accuracy: 0.9505 - val_loss: 1.9967 - val_accuracy: 0.7582\n",
            "Calculating predictions and scores....\n",
            "Calculating predictions and scores.......................\n",
            "\n",
            "5/5 [==============================] - 0s 4ms/step\n",
            "5/5 [==============================] - 0s 5ms/step - loss: 1.3750 - accuracy: 0.7697\n",
            "Collecting outputs.......................\n",
            "\n",
            "Congratuations! All the processes are completed successfully....\n",
            "\n",
            "===== Running 4 replicate=======\n",
            "Building CNN Model.......................\n",
            "\n",
            "Fitting  CNN Model.......................\n",
            "\n",
            "Epoch 1/25\n",
            "37/37 [==============================] - 1s 13ms/step - loss: 1.5378 - accuracy: 0.2610 - val_loss: 1.4782 - val_accuracy: 0.1648\n",
            "Epoch 2/25\n",
            "37/37 [==============================] - 0s 7ms/step - loss: 1.2952 - accuracy: 0.4286 - val_loss: 1.1095 - val_accuracy: 0.4835\n",
            "Epoch 3/25\n",
            "37/37 [==============================] - 0s 7ms/step - loss: 0.9452 - accuracy: 0.5687 - val_loss: 1.0175 - val_accuracy: 0.5165\n",
            "Epoch 4/25\n",
            "37/37 [==============================] - 0s 6ms/step - loss: 0.8289 - accuracy: 0.6264 - val_loss: 1.0415 - val_accuracy: 0.4725\n",
            "Epoch 5/25\n",
            "37/37 [==============================] - 0s 5ms/step - loss: 0.7613 - accuracy: 0.6456 - val_loss: 1.0010 - val_accuracy: 0.5604\n",
            "Epoch 6/25\n",
            "37/37 [==============================] - 0s 6ms/step - loss: 0.7069 - accuracy: 0.6923 - val_loss: 0.9904 - val_accuracy: 0.5714\n",
            "Epoch 7/25\n",
            "37/37 [==============================] - 0s 6ms/step - loss: 0.6557 - accuracy: 0.7005 - val_loss: 0.8017 - val_accuracy: 0.5604\n",
            "Epoch 8/25\n",
            "37/37 [==============================] - 0s 5ms/step - loss: 0.5436 - accuracy: 0.7720 - val_loss: 0.5804 - val_accuracy: 0.7692\n",
            "Epoch 9/25\n",
            "37/37 [==============================] - 0s 6ms/step - loss: 0.4753 - accuracy: 0.7857 - val_loss: 0.6890 - val_accuracy: 0.7473\n",
            "Epoch 10/25\n",
            "37/37 [==============================] - 0s 6ms/step - loss: 0.3926 - accuracy: 0.8352 - val_loss: 0.9406 - val_accuracy: 0.6044\n",
            "Epoch 11/25\n",
            "37/37 [==============================] - 0s 5ms/step - loss: 0.4009 - accuracy: 0.8379 - val_loss: 0.9023 - val_accuracy: 0.6154\n",
            "Epoch 12/25\n",
            "37/37 [==============================] - 0s 5ms/step - loss: 0.2900 - accuracy: 0.8874 - val_loss: 0.8261 - val_accuracy: 0.7912\n",
            "Epoch 13/25\n",
            "37/37 [==============================] - 0s 7ms/step - loss: 0.2551 - accuracy: 0.8929 - val_loss: 0.7632 - val_accuracy: 0.7473\n",
            "Epoch 14/25\n",
            "37/37 [==============================] - 0s 6ms/step - loss: 0.1952 - accuracy: 0.9121 - val_loss: 0.6530 - val_accuracy: 0.7582\n",
            "Epoch 15/25\n",
            "37/37 [==============================] - 0s 6ms/step - loss: 0.1958 - accuracy: 0.9313 - val_loss: 1.1523 - val_accuracy: 0.7363\n",
            "Epoch 16/25\n",
            "37/37 [==============================] - 0s 5ms/step - loss: 0.2339 - accuracy: 0.9231 - val_loss: 1.3002 - val_accuracy: 0.7033\n",
            "Epoch 17/25\n",
            "37/37 [==============================] - 0s 6ms/step - loss: 0.2449 - accuracy: 0.9203 - val_loss: 0.8888 - val_accuracy: 0.7802\n",
            "Epoch 18/25\n",
            "37/37 [==============================] - 0s 5ms/step - loss: 0.1475 - accuracy: 0.9478 - val_loss: 1.1117 - val_accuracy: 0.7143\n",
            "Epoch 19/25\n",
            "37/37 [==============================] - 0s 5ms/step - loss: 0.1664 - accuracy: 0.9396 - val_loss: 1.0979 - val_accuracy: 0.7143\n",
            "Epoch 20/25\n",
            "37/37 [==============================] - 0s 5ms/step - loss: 0.1149 - accuracy: 0.9588 - val_loss: 1.5020 - val_accuracy: 0.7033\n",
            "Epoch 21/25\n",
            "37/37 [==============================] - 0s 5ms/step - loss: 0.2323 - accuracy: 0.9176 - val_loss: 1.1366 - val_accuracy: 0.7033\n",
            "Epoch 22/25\n",
            "37/37 [==============================] - 0s 5ms/step - loss: 0.1301 - accuracy: 0.9451 - val_loss: 0.9318 - val_accuracy: 0.7473\n",
            "Epoch 23/25\n",
            "37/37 [==============================] - 0s 5ms/step - loss: 0.1074 - accuracy: 0.9588 - val_loss: 1.5337 - val_accuracy: 0.7143\n",
            "Epoch 24/25\n",
            "37/37 [==============================] - 0s 5ms/step - loss: 0.1440 - accuracy: 0.9670 - val_loss: 1.1648 - val_accuracy: 0.7143\n",
            "Epoch 25/25\n",
            "37/37 [==============================] - 0s 5ms/step - loss: 0.1552 - accuracy: 0.9478 - val_loss: 1.5197 - val_accuracy: 0.6593\n",
            "Calculating predictions and scores....\n",
            "Calculating predictions and scores.......................\n",
            "\n",
            "5/5 [==============================] - 0s 4ms/step\n",
            "5/5 [==============================] - 0s 5ms/step - loss: 1.1634 - accuracy: 0.7829\n",
            "Collecting outputs.......................\n",
            "\n",
            "Congratuations! All the processes are completed successfully....\n",
            "\n",
            "Avarage test accuracy:  0.7684210538864136\n"
          ]
        }
      ]
    },
    {
      "cell_type": "code",
      "source": [
        "model3_all_test_acc = pd.read_csv(output_dir_path+\"model3_all_test_acc.csv\")\n",
        "\n",
        "fig = plt.figure(figsize= (4, 4))\n",
        "plt.boxplot(model3_all_test_acc.iloc[:,1])\n",
        "\n",
        "fig.savefig(output_dir_path+\"model3_test_acc_boxplot.png\", dpi = 600)\n",
        "plt.show()"
      ],
      "metadata": {
        "colab": {
          "base_uri": "https://localhost:8080/",
          "height": 265
        },
        "id": "L1K4ULk5TENd",
        "outputId": "3e57594b-2b1c-41ee-c28b-50fee4758148"
      },
      "id": "L1K4ULk5TENd",
      "execution_count": null,
      "outputs": [
        {
          "output_type": "display_data",
          "data": {
            "text/plain": [
              "<Figure size 288x288 with 1 Axes>"
            ],
            "image/png": "[encoded data removed]"
          },
          "metadata": {
            "needs_background": "light"
          }
        }
      ]
    },
    {
      "cell_type": "markdown",
      "id": "acebd434",
      "metadata": {
        "id": "acebd434"
      },
      "source": [
        "### Experimental Results and Discussion"
      ]
    },
    {
      "cell_type": "code",
      "execution_count": null,
      "id": "8a9cb248",
      "metadata": {
        "id": "8a9cb248",
        "colab": {
          "base_uri": "https://localhost:8080/"
        },
        "outputId": "f1b13521-bd5a-4020-9ef8-cfff44e5b8ad"
      },
      "outputs": [
        {
          "output_type": "stream",
          "name": "stdout",
          "text": [
            "     Model1    Model2    Model3\n",
            "0  0.664474  0.717105  0.697368\n",
            "1  0.763158  0.763158  0.769737\n",
            "2  0.697368  0.671053  0.723684\n",
            "3  0.710526  0.769737  0.789474\n",
            "4  0.703947  0.750000  0.743421\n"
          ]
        }
      ],
      "source": [
        "model1_all_test_acc = pd.read_csv(output_dir_path+\"model1_all_test_acc.csv\")\n",
        "\n",
        "model2_all_test_acc = pd.read_csv(output_dir_path+\"model2_all_test_acc.csv\")\n",
        "model3_all_test_acc = pd.read_csv(output_dir_path+\"model3_all_test_acc.csv\")\n",
        "\n",
        "test_acc_df = pd.DataFrame( { \n",
        "         'Model1': model1_all_test_acc.iloc[:,1],\n",
        "         'Model2': model2_all_test_acc.iloc[:,1],\n",
        "         'Model3': model3_all_test_acc.iloc[:,1]\n",
        "\n",
        "    })\n",
        "\n",
        "print(test_acc_df)"
      ]
    },
    {
      "cell_type": "code",
      "source": [
        "import matplotlib.pyplot as plt\n",
        "fig = plt.figure(figsize= (4, 4))\n",
        "plt.boxplot(test_acc_df.T)\n",
        "fig.savefig(output_dir_path+\"all_models_test_acc_boxplots.png\", dpi = 600)\n",
        "plt.show()"
      ],
      "metadata": {
        "colab": {
          "base_uri": "https://localhost:8080/",
          "height": 265
        },
        "id": "Yo8Ks2c_URi-",
        "outputId": "ac4e3f3a-ddf1-4929-a536-5756535add7e"
      },
      "id": "Yo8Ks2c_URi-",
      "execution_count": null,
      "outputs": [
        {
          "output_type": "display_data",
          "data": {
            "text/plain": [
              "<Figure size 288x288 with 1 Axes>"
            ],
            "image/png": "[encoded data removed]"
          },
          "metadata": {
            "needs_background": "light"
          }
        }
      ]
    },
    {
      "cell_type": "code",
      "source": [
        "def comparative_test_acc_boxplots(model1_all_test_acc, model2_all_test_acc, model3_all_test_acc):\n",
        "  data = pd.DataFrame()\n",
        "  data['Model1'] = model1_all_test_acc\n",
        "  data['Model2'] =  model2_all_test_acc\n",
        "  data['Model3'] =  model3_all_test_acc\n",
        "  fig = plt.figure(figsize = (8,5))\n",
        "  p = plt.boxplot(data.T, patch_artist= True)\n",
        "  colors = ['blue', 'red', 'grey']\n",
        "  for i, box in enumerate(p['boxes']):\n",
        "    box.set(color= 'black', linewidth = 1.2)\n",
        "    # change fill color\n",
        "    box.set(facecolor = colors[i])\n",
        "  plt.xticks([1,2, 3], ['Model1','Model2', 'Model3'])\n",
        "  plt.ylabel('Test Accuracy')\n",
        "\n",
        "  plt.rcParams[\"axes.edgecolor\"] = \"0.15\"\n",
        "  plt.rcParams[\"axes.linewidth\"]  = 2.75\n",
        "  plt.rc('xtick',labelsize=10)\n",
        "  plt.rc('ytick',labelsize=10) \n",
        "  \n",
        "  fig.savefig(output_dir_path+\"comparative_test_acc_boxplots.png\",dpi=600)\n",
        "  plt.show()"
      ],
      "metadata": {
        "id": "frTIKqm0UUaX"
      },
      "id": "frTIKqm0UUaX",
      "execution_count": null,
      "outputs": []
    },
    {
      "cell_type": "code",
      "source": [
        "ave_acc_df = pd.DataFrame(  {\n",
        "           'Models': [\"Model1\", \"Model2\", \"Model3\"],\n",
        "           'avg_acc': np.array([.70, 0.72, .74]) # you need to find out this\n",
        "})\n",
        "\n",
        "fig = plt.figure(figsize= (8, 5))\n",
        "plt.plot(ave_acc_df['Models'], ave_acc_df['avg_acc'], '-o', linewidth = 3.5, color = 'purple' )\n",
        "plt.ylabel(\"Average test accuracy\")\n",
        "fig.savefig(output_dir_path+\"avg_acc_plot.png\", dpi = 600)\n",
        "plt.show()"
      ],
      "metadata": {
        "colab": {
          "base_uri": "https://localhost:8080/",
          "height": 320
        },
        "id": "bmGfsY1bUZrT",
        "outputId": "b3e66d5f-0965-4cb9-b706-445c0e2e4489"
      },
      "id": "bmGfsY1bUZrT",
      "execution_count": null,
      "outputs": [
        {
          "output_type": "display_data",
          "data": {
            "text/plain": [
              "<Figure size 576x360 with 1 Axes>"
            ],
            "image/png": "[encoded data removed]"
          },
          "metadata": {
            "needs_background": "light"
          }
        }
      ]
    },
    {
      "cell_type": "markdown",
      "source": [
        "### **Experimental Results**"
      ],
      "metadata": {
        "id": "9pk0d3bbdHHF"
      },
      "id": "9pk0d3bbdHHF"
    },
    {
      "cell_type": "markdown",
      "source": [
        "The hyper parameter tuning process was used on three unique models to find the best hyper parameters.The first model, Model I, used 16 filters single convolutional layer and 60 neurons single dense layer CNN Model. The next model, Model 2, 16-8 filters two convolutional layers and 60-60 neurons two dense layers CNN Model. Model 3: 16-8-4 filters three convolutional layers and 60-60 neurons two dense layers CNN Model. The optimizers that was used was \"Adam\" for each model . The learning rates that wad used in the models wad 0.1. Many of the models had to be altered to best fit the data to produce the best accuracy and loss values. There were many problems however when we tried to run the data at first that led us to changing the data set multiple times to attempt to get a better accuracy. The initial data set had 52 files for the train aspect each containing up 100 photo's each. Despite, the many different modifications that were made to the layers, the results were . Thus, we decided to downsize the data so there was a more reasonable run-time and training set. On top of altering the data set, to get better results, the attempt to tweak other aspects was done such as the batch size, epochs, conv layers, dense layers, and input shape as well."
      ],
      "metadata": {
        "id": "HKYAppgVdEJz"
      },
      "id": "HKYAppgVdEJz"
    },
    {
      "cell_type": "markdown",
      "source": [
        "### **Retraining Best Model (3)**"
      ],
      "metadata": {
        "id": "VZlIpOT2XgT_"
      },
      "id": "VZlIpOT2XgT_"
    },
    {
      "cell_type": "code",
      "source": [
        "model3_final_output = Multi_Run_CNN_Model(num_replicates = 5,\n",
        "                                   conv_layers =  [16, 8, 4],\n",
        "                                   dense_layers = [60, 60],\n",
        "                                   kernel_size = (2,2) ,\n",
        "                                   input_shape = (100, 100, 1), \n",
        "                                    output_dim  = 100, \n",
        "                                    optimizer = 'Adam',  # best optimizer\n",
        "                                    learning_rate = 0.01, # best learning rate\n",
        "                                    X_train = X_train,\n",
        "                                    y_train = y_train,\n",
        "                                    X_test = X_test,\n",
        "                                    y_test =  y_test, \n",
        "                                    val_split = 0.2,\n",
        "                                    batch_size = 25,\n",
        "                                    epochs = 25, # best epochs\n",
        "                                    verbose = 1\n",
        "                                    )\n"
      ],
      "metadata": {
        "id": "68OuRpM3q6LX",
        "colab": {
          "base_uri": "https://localhost:8080/"
        },
        "outputId": "2e666adb-1379-4c7b-cbdf-32e3efdd8b14"
      },
      "id": "68OuRpM3q6LX",
      "execution_count": null,
      "outputs": [
        {
          "output_type": "stream",
          "name": "stdout",
          "text": [
            "===== Running 0 replicate=======\n",
            "Building CNN Model.......................\n",
            "\n",
            "Fitting  CNN Model.......................\n",
            "\n",
            "Epoch 1/25\n",
            "12/12 [==============================] - 1s 24ms/step - loss: 2.3787 - accuracy: 0.2253 - val_loss: 1.4289 - val_accuracy: 0.3516\n",
            "Epoch 2/25\n",
            "12/12 [==============================] - 0s 11ms/step - loss: 1.4629 - accuracy: 0.2940 - val_loss: 1.3265 - val_accuracy: 0.3516\n",
            "Epoch 3/25\n",
            "12/12 [==============================] - 0s 10ms/step - loss: 1.3554 - accuracy: 0.2967 - val_loss: 1.2809 - val_accuracy: 0.4615\n",
            "Epoch 4/25\n",
            "12/12 [==============================] - 0s 10ms/step - loss: 1.3133 - accuracy: 0.4203 - val_loss: 1.2210 - val_accuracy: 0.4835\n",
            "Epoch 5/25\n",
            "12/12 [==============================] - 0s 10ms/step - loss: 1.1620 - accuracy: 0.5000 - val_loss: 1.3436 - val_accuracy: 0.4725\n",
            "Epoch 6/25\n",
            "12/12 [==============================] - 0s 9ms/step - loss: 1.0864 - accuracy: 0.5385 - val_loss: 1.2128 - val_accuracy: 0.5165\n",
            "Epoch 7/25\n",
            "12/12 [==============================] - 0s 10ms/step - loss: 0.9406 - accuracy: 0.5604 - val_loss: 0.9532 - val_accuracy: 0.5714\n",
            "Epoch 8/25\n",
            "12/12 [==============================] - 0s 9ms/step - loss: 0.9009 - accuracy: 0.6099 - val_loss: 0.9157 - val_accuracy: 0.6264\n",
            "Epoch 9/25\n",
            "12/12 [==============================] - 0s 9ms/step - loss: 0.8041 - accuracy: 0.6676 - val_loss: 1.1435 - val_accuracy: 0.5604\n",
            "Epoch 10/25\n",
            "12/12 [==============================] - 0s 9ms/step - loss: 0.7937 - accuracy: 0.6786 - val_loss: 0.8210 - val_accuracy: 0.6923\n",
            "Epoch 11/25\n",
            "12/12 [==============================] - 0s 9ms/step - loss: 0.7312 - accuracy: 0.6786 - val_loss: 0.9904 - val_accuracy: 0.5275\n",
            "Epoch 12/25\n",
            "12/12 [==============================] - 0s 10ms/step - loss: 0.7833 - accuracy: 0.6429 - val_loss: 0.8228 - val_accuracy: 0.6044\n",
            "Epoch 13/25\n",
            "12/12 [==============================] - 0s 10ms/step - loss: 0.7588 - accuracy: 0.6731 - val_loss: 0.8482 - val_accuracy: 0.6484\n",
            "Epoch 14/25\n",
            "12/12 [==============================] - 0s 9ms/step - loss: 0.6360 - accuracy: 0.7363 - val_loss: 0.8834 - val_accuracy: 0.6484\n",
            "Epoch 15/25\n",
            "12/12 [==============================] - 0s 9ms/step - loss: 0.6541 - accuracy: 0.7170 - val_loss: 0.9321 - val_accuracy: 0.5165\n",
            "Epoch 16/25\n",
            "12/12 [==============================] - 0s 10ms/step - loss: 0.5523 - accuracy: 0.7857 - val_loss: 0.8980 - val_accuracy: 0.6593\n",
            "Epoch 17/25\n",
            "12/12 [==============================] - 0s 10ms/step - loss: 0.4691 - accuracy: 0.8269 - val_loss: 0.8819 - val_accuracy: 0.6484\n",
            "Epoch 18/25\n",
            "12/12 [==============================] - 0s 9ms/step - loss: 0.3625 - accuracy: 0.8709 - val_loss: 0.7442 - val_accuracy: 0.7363\n",
            "Epoch 19/25\n",
            "12/12 [==============================] - 0s 9ms/step - loss: 0.3259 - accuracy: 0.8874 - val_loss: 0.7570 - val_accuracy: 0.7363\n",
            "Epoch 20/25\n",
            "12/12 [==============================] - 0s 9ms/step - loss: 0.2966 - accuracy: 0.8791 - val_loss: 0.7317 - val_accuracy: 0.7582\n",
            "Epoch 21/25\n",
            "12/12 [==============================] - 0s 9ms/step - loss: 0.2740 - accuracy: 0.9038 - val_loss: 0.7152 - val_accuracy: 0.7802\n",
            "Epoch 22/25\n",
            "12/12 [==============================] - 0s 10ms/step - loss: 0.2231 - accuracy: 0.9231 - val_loss: 0.9409 - val_accuracy: 0.6703\n",
            "Epoch 23/25\n",
            "12/12 [==============================] - 0s 9ms/step - loss: 0.2033 - accuracy: 0.9341 - val_loss: 0.7396 - val_accuracy: 0.7912\n",
            "Epoch 24/25\n",
            "12/12 [==============================] - 0s 9ms/step - loss: 0.1579 - accuracy: 0.9396 - val_loss: 0.7510 - val_accuracy: 0.7692\n",
            "Epoch 25/25\n",
            "12/12 [==============================] - 0s 9ms/step - loss: 0.1184 - accuracy: 0.9698 - val_loss: 0.9292 - val_accuracy: 0.7802\n",
            "Calculating predictions and scores....\n",
            "Calculating predictions and scores.......................\n",
            "\n",
            "5/5 [==============================] - 0s 5ms/step\n",
            "5/5 [==============================] - 0s 6ms/step - loss: 0.9317 - accuracy: 0.7961\n",
            "Collecting outputs.......................\n",
            "\n",
            "Congratuations! All the processes are completed successfully....\n",
            "\n",
            "===== Running 1 replicate=======\n",
            "Building CNN Model.......................\n",
            "\n",
            "Fitting  CNN Model.......................\n",
            "\n",
            "Epoch 1/25\n",
            "12/12 [==============================] - 1s 26ms/step - loss: 2.2961 - accuracy: 0.2665 - val_loss: 1.5118 - val_accuracy: 0.1868\n",
            "Epoch 2/25\n",
            "12/12 [==============================] - 0s 11ms/step - loss: 1.4332 - accuracy: 0.2940 - val_loss: 1.4347 - val_accuracy: 0.2308\n",
            "Epoch 3/25\n",
            "12/12 [==============================] - 0s 11ms/step - loss: 1.3760 - accuracy: 0.3599 - val_loss: 1.3192 - val_accuracy: 0.3516\n",
            "Epoch 4/25\n",
            "12/12 [==============================] - 0s 11ms/step - loss: 1.3534 - accuracy: 0.3544 - val_loss: 1.2389 - val_accuracy: 0.4835\n",
            "Epoch 5/25\n",
            "12/12 [==============================] - 0s 10ms/step - loss: 1.2083 - accuracy: 0.4396 - val_loss: 1.0538 - val_accuracy: 0.5165\n",
            "Epoch 6/25\n",
            "12/12 [==============================] - 0s 9ms/step - loss: 1.0313 - accuracy: 0.5275 - val_loss: 0.9849 - val_accuracy: 0.4945\n",
            "Epoch 7/25\n",
            "12/12 [==============================] - 0s 10ms/step - loss: 0.9218 - accuracy: 0.5467 - val_loss: 0.9102 - val_accuracy: 0.5714\n",
            "Epoch 8/25\n",
            "12/12 [==============================] - 0s 9ms/step - loss: 0.8553 - accuracy: 0.6291 - val_loss: 1.1397 - val_accuracy: 0.5604\n",
            "Epoch 9/25\n",
            "12/12 [==============================] - 0s 9ms/step - loss: 0.8259 - accuracy: 0.6181 - val_loss: 0.7921 - val_accuracy: 0.6374\n",
            "Epoch 10/25\n",
            "12/12 [==============================] - 0s 9ms/step - loss: 0.7376 - accuracy: 0.7005 - val_loss: 0.7902 - val_accuracy: 0.6923\n",
            "Epoch 11/25\n",
            "12/12 [==============================] - 0s 10ms/step - loss: 0.6651 - accuracy: 0.6978 - val_loss: 0.8068 - val_accuracy: 0.6484\n",
            "Epoch 12/25\n",
            "12/12 [==============================] - 0s 9ms/step - loss: 0.5998 - accuracy: 0.7747 - val_loss: 0.7869 - val_accuracy: 0.6703\n",
            "Epoch 13/25\n",
            "12/12 [==============================] - 0s 10ms/step - loss: 0.5538 - accuracy: 0.7995 - val_loss: 0.7123 - val_accuracy: 0.7582\n",
            "Epoch 14/25\n",
            "12/12 [==============================] - 0s 9ms/step - loss: 0.4306 - accuracy: 0.8379 - val_loss: 0.6544 - val_accuracy: 0.7802\n",
            "Epoch 15/25\n",
            "12/12 [==============================] - 0s 9ms/step - loss: 0.3454 - accuracy: 0.8626 - val_loss: 0.9599 - val_accuracy: 0.6593\n",
            "Epoch 16/25\n",
            "12/12 [==============================] - 0s 9ms/step - loss: 0.3772 - accuracy: 0.8352 - val_loss: 0.7134 - val_accuracy: 0.7363\n",
            "Epoch 17/25\n",
            "12/12 [==============================] - 0s 9ms/step - loss: 0.3638 - accuracy: 0.8681 - val_loss: 0.8389 - val_accuracy: 0.7473\n",
            "Epoch 18/25\n",
            "12/12 [==============================] - 0s 10ms/step - loss: 0.2874 - accuracy: 0.9066 - val_loss: 0.6598 - val_accuracy: 0.7912\n",
            "Epoch 19/25\n",
            "12/12 [==============================] - 0s 9ms/step - loss: 0.3164 - accuracy: 0.9011 - val_loss: 0.7322 - val_accuracy: 0.7473\n",
            "Epoch 20/25\n",
            "12/12 [==============================] - 0s 9ms/step - loss: 0.2444 - accuracy: 0.9258 - val_loss: 0.9811 - val_accuracy: 0.7253\n",
            "Epoch 21/25\n",
            "12/12 [==============================] - 0s 10ms/step - loss: 0.1837 - accuracy: 0.9341 - val_loss: 0.7633 - val_accuracy: 0.7363\n",
            "Epoch 22/25\n",
            "12/12 [==============================] - 0s 9ms/step - loss: 0.1745 - accuracy: 0.9478 - val_loss: 0.8028 - val_accuracy: 0.7582\n",
            "Epoch 23/25\n",
            "12/12 [==============================] - 0s 9ms/step - loss: 0.0991 - accuracy: 0.9643 - val_loss: 0.8293 - val_accuracy: 0.7802\n",
            "Epoch 24/25\n",
            "12/12 [==============================] - 0s 10ms/step - loss: 0.1190 - accuracy: 0.9588 - val_loss: 0.7053 - val_accuracy: 0.7802\n",
            "Epoch 25/25\n",
            "12/12 [==============================] - 0s 10ms/step - loss: 0.0813 - accuracy: 0.9753 - val_loss: 1.1199 - val_accuracy: 0.7253\n",
            "Calculating predictions and scores....\n",
            "Calculating predictions and scores.......................\n",
            "\n",
            "5/5 [==============================] - 0s 3ms/step\n",
            "5/5 [==============================] - 0s 6ms/step - loss: 0.7804 - accuracy: 0.8355\n",
            "Collecting outputs.......................\n",
            "\n",
            "Congratuations! All the processes are completed successfully....\n",
            "\n",
            "===== Running 2 replicate=======\n",
            "Building CNN Model.......................\n",
            "\n",
            "Fitting  CNN Model.......................\n",
            "\n",
            "Epoch 1/25\n",
            "12/12 [==============================] - 1s 23ms/step - loss: 2.1139 - accuracy: 0.2225 - val_loss: 1.4427 - val_accuracy: 0.3187\n",
            "Epoch 2/25\n",
            "12/12 [==============================] - 0s 9ms/step - loss: 1.3540 - accuracy: 0.3379 - val_loss: 1.3623 - val_accuracy: 0.2747\n",
            "Epoch 3/25\n",
            "12/12 [==============================] - 0s 9ms/step - loss: 1.3249 - accuracy: 0.3654 - val_loss: 1.3172 - val_accuracy: 0.4066\n",
            "Epoch 4/25\n",
            "12/12 [==============================] - 0s 9ms/step - loss: 1.2094 - accuracy: 0.4615 - val_loss: 1.2379 - val_accuracy: 0.3846\n",
            "Epoch 5/25\n",
            "12/12 [==============================] - 0s 9ms/step - loss: 1.1294 - accuracy: 0.5110 - val_loss: 1.0928 - val_accuracy: 0.5604\n",
            "Epoch 6/25\n",
            "12/12 [==============================] - 0s 10ms/step - loss: 0.9874 - accuracy: 0.5769 - val_loss: 1.0190 - val_accuracy: 0.4945\n",
            "Epoch 7/25\n",
            "12/12 [==============================] - 0s 9ms/step - loss: 0.9026 - accuracy: 0.5934 - val_loss: 0.9171 - val_accuracy: 0.6044\n",
            "Epoch 8/25\n",
            "12/12 [==============================] - 0s 9ms/step - loss: 0.7868 - accuracy: 0.6731 - val_loss: 1.4354 - val_accuracy: 0.5055\n",
            "Epoch 9/25\n",
            "12/12 [==============================] - 0s 9ms/step - loss: 0.7719 - accuracy: 0.6786 - val_loss: 0.8808 - val_accuracy: 0.5934\n",
            "Epoch 10/25\n",
            "12/12 [==============================] - 0s 10ms/step - loss: 0.7207 - accuracy: 0.6923 - val_loss: 0.9274 - val_accuracy: 0.6703\n",
            "Epoch 11/25\n",
            "12/12 [==============================] - 0s 10ms/step - loss: 0.6321 - accuracy: 0.7280 - val_loss: 0.9948 - val_accuracy: 0.6374\n",
            "Epoch 12/25\n",
            "12/12 [==============================] - 0s 10ms/step - loss: 0.5174 - accuracy: 0.7995 - val_loss: 1.0302 - val_accuracy: 0.6703\n",
            "Epoch 13/25\n",
            "12/12 [==============================] - 0s 10ms/step - loss: 0.5029 - accuracy: 0.8242 - val_loss: 1.0041 - val_accuracy: 0.6374\n",
            "Epoch 14/25\n",
            "12/12 [==============================] - 0s 10ms/step - loss: 0.5467 - accuracy: 0.7830 - val_loss: 1.0174 - val_accuracy: 0.6374\n",
            "Epoch 15/25\n",
            "12/12 [==============================] - 0s 9ms/step - loss: 0.4159 - accuracy: 0.8764 - val_loss: 1.2278 - val_accuracy: 0.6264\n",
            "Epoch 16/25\n",
            "12/12 [==============================] - 0s 9ms/step - loss: 0.4057 - accuracy: 0.8571 - val_loss: 1.1021 - val_accuracy: 0.6703\n",
            "Epoch 17/25\n",
            "12/12 [==============================] - 0s 10ms/step - loss: 0.3943 - accuracy: 0.8846 - val_loss: 0.9979 - val_accuracy: 0.6484\n",
            "Epoch 18/25\n",
            "12/12 [==============================] - 0s 9ms/step - loss: 0.3170 - accuracy: 0.8984 - val_loss: 1.1032 - val_accuracy: 0.7143\n",
            "Epoch 19/25\n",
            "12/12 [==============================] - 0s 9ms/step - loss: 0.2416 - accuracy: 0.9231 - val_loss: 1.2455 - val_accuracy: 0.6703\n",
            "Epoch 20/25\n",
            "12/12 [==============================] - 0s 9ms/step - loss: 0.2029 - accuracy: 0.9368 - val_loss: 1.4199 - val_accuracy: 0.6593\n",
            "Epoch 21/25\n",
            "12/12 [==============================] - 0s 9ms/step - loss: 0.1869 - accuracy: 0.9341 - val_loss: 1.6054 - val_accuracy: 0.6484\n",
            "Epoch 22/25\n",
            "12/12 [==============================] - 0s 9ms/step - loss: 0.1751 - accuracy: 0.9505 - val_loss: 1.6109 - val_accuracy: 0.6923\n",
            "Epoch 23/25\n",
            "12/12 [==============================] - 0s 10ms/step - loss: 0.2183 - accuracy: 0.9368 - val_loss: 1.7598 - val_accuracy: 0.6593\n",
            "Epoch 24/25\n",
            "12/12 [==============================] - 0s 10ms/step - loss: 0.1605 - accuracy: 0.9478 - val_loss: 1.5820 - val_accuracy: 0.6703\n",
            "Epoch 25/25\n",
            "12/12 [==============================] - 0s 9ms/step - loss: 0.1717 - accuracy: 0.9368 - val_loss: 1.6260 - val_accuracy: 0.6923\n",
            "Calculating predictions and scores....\n",
            "Calculating predictions and scores.......................\n",
            "\n",
            "5/5 [==============================] - 0s 3ms/step\n",
            "5/5 [==============================] - 0s 6ms/step - loss: 1.5316 - accuracy: 0.6513\n",
            "Collecting outputs.......................\n",
            "\n",
            "Congratuations! All the processes are completed successfully....\n",
            "\n",
            "===== Running 3 replicate=======\n",
            "Building CNN Model.......................\n",
            "\n",
            "Fitting  CNN Model.......................\n",
            "\n",
            "Epoch 1/25\n",
            "12/12 [==============================] - 1s 22ms/step - loss: 2.5718 - accuracy: 0.2280 - val_loss: 1.6499 - val_accuracy: 0.2308\n",
            "Epoch 2/25\n",
            "12/12 [==============================] - 0s 9ms/step - loss: 1.4477 - accuracy: 0.2912 - val_loss: 1.4373 - val_accuracy: 0.2308\n",
            "Epoch 3/25\n",
            "12/12 [==============================] - 0s 9ms/step - loss: 1.3872 - accuracy: 0.2802 - val_loss: 1.3442 - val_accuracy: 0.3297\n",
            "Epoch 4/25\n",
            "12/12 [==============================] - 0s 9ms/step - loss: 1.3096 - accuracy: 0.4643 - val_loss: 1.2640 - val_accuracy: 0.4945\n",
            "Epoch 5/25\n",
            "12/12 [==============================] - 0s 9ms/step - loss: 1.1514 - accuracy: 0.5440 - val_loss: 1.1228 - val_accuracy: 0.5604\n",
            "Epoch 6/25\n",
            "12/12 [==============================] - 0s 10ms/step - loss: 0.9502 - accuracy: 0.6236 - val_loss: 0.9321 - val_accuracy: 0.5824\n",
            "Epoch 7/25\n",
            "12/12 [==============================] - 0s 9ms/step - loss: 0.7626 - accuracy: 0.6593 - val_loss: 0.9164 - val_accuracy: 0.6264\n",
            "Epoch 8/25\n",
            "12/12 [==============================] - 0s 10ms/step - loss: 0.6056 - accuracy: 0.7500 - val_loss: 0.8583 - val_accuracy: 0.6813\n",
            "Epoch 9/25\n",
            "12/12 [==============================] - 0s 10ms/step - loss: 0.5235 - accuracy: 0.7912 - val_loss: 1.0091 - val_accuracy: 0.5934\n",
            "Epoch 10/25\n",
            "12/12 [==============================] - 0s 9ms/step - loss: 0.4630 - accuracy: 0.8489 - val_loss: 1.0338 - val_accuracy: 0.6703\n",
            "Epoch 11/25\n",
            "12/12 [==============================] - 0s 9ms/step - loss: 0.4493 - accuracy: 0.8324 - val_loss: 1.1986 - val_accuracy: 0.6264\n",
            "Epoch 12/25\n",
            "12/12 [==============================] - 0s 9ms/step - loss: 0.4464 - accuracy: 0.8462 - val_loss: 0.8452 - val_accuracy: 0.7143\n",
            "Epoch 13/25\n",
            "12/12 [==============================] - 0s 9ms/step - loss: 0.2921 - accuracy: 0.8984 - val_loss: 1.1871 - val_accuracy: 0.6593\n",
            "Epoch 14/25\n",
            "12/12 [==============================] - 0s 9ms/step - loss: 0.2213 - accuracy: 0.9451 - val_loss: 1.0108 - val_accuracy: 0.7473\n",
            "Epoch 15/25\n",
            "12/12 [==============================] - 0s 9ms/step - loss: 0.1315 - accuracy: 0.9615 - val_loss: 1.1624 - val_accuracy: 0.6923\n",
            "Epoch 16/25\n",
            "12/12 [==============================] - 0s 9ms/step - loss: 0.0980 - accuracy: 0.9753 - val_loss: 1.1651 - val_accuracy: 0.7473\n",
            "Epoch 17/25\n",
            "12/12 [==============================] - 0s 10ms/step - loss: 0.0860 - accuracy: 0.9753 - val_loss: 1.2349 - val_accuracy: 0.7253\n",
            "Epoch 18/25\n",
            "12/12 [==============================] - 0s 9ms/step - loss: 0.0681 - accuracy: 0.9863 - val_loss: 1.2233 - val_accuracy: 0.7473\n",
            "Epoch 19/25\n",
            "12/12 [==============================] - 0s 9ms/step - loss: 0.0452 - accuracy: 0.9863 - val_loss: 1.5540 - val_accuracy: 0.7363\n",
            "Epoch 20/25\n",
            "12/12 [==============================] - 0s 9ms/step - loss: 0.0519 - accuracy: 0.9890 - val_loss: 1.7083 - val_accuracy: 0.7473\n",
            "Epoch 21/25\n",
            "12/12 [==============================] - 0s 9ms/step - loss: 0.1110 - accuracy: 0.9698 - val_loss: 1.5071 - val_accuracy: 0.7253\n",
            "Epoch 22/25\n",
            "12/12 [==============================] - 0s 9ms/step - loss: 0.0611 - accuracy: 0.9863 - val_loss: 1.9467 - val_accuracy: 0.7253\n",
            "Epoch 23/25\n",
            "12/12 [==============================] - 0s 9ms/step - loss: 0.0407 - accuracy: 0.9890 - val_loss: 1.6663 - val_accuracy: 0.7033\n",
            "Epoch 24/25\n",
            "12/12 [==============================] - 0s 9ms/step - loss: 0.0359 - accuracy: 0.9890 - val_loss: 1.9516 - val_accuracy: 0.7473\n",
            "Epoch 25/25\n",
            "12/12 [==============================] - 0s 9ms/step - loss: 0.1103 - accuracy: 0.9890 - val_loss: 2.1324 - val_accuracy: 0.7473\n",
            "Calculating predictions and scores....\n",
            "Calculating predictions and scores.......................\n",
            "\n",
            "5/5 [==============================] - 0s 4ms/step\n",
            "5/5 [==============================] - 0s 5ms/step - loss: 2.1523 - accuracy: 0.7829\n",
            "Collecting outputs.......................\n",
            "\n",
            "Congratuations! All the processes are completed successfully....\n",
            "\n",
            "===== Running 4 replicate=======\n",
            "Building CNN Model.......................\n",
            "\n",
            "Fitting  CNN Model.......................\n",
            "\n",
            "Epoch 1/25\n",
            "12/12 [==============================] - 1s 26ms/step - loss: 2.5792 - accuracy: 0.2610 - val_loss: 1.7510 - val_accuracy: 0.2308\n",
            "Epoch 2/25\n",
            "12/12 [==============================] - 0s 10ms/step - loss: 1.4444 - accuracy: 0.3049 - val_loss: 1.4309 - val_accuracy: 0.2308\n",
            "Epoch 3/25\n",
            "12/12 [==============================] - 0s 11ms/step - loss: 1.4103 - accuracy: 0.2967 - val_loss: 1.4227 - val_accuracy: 0.2308\n",
            "Epoch 4/25\n",
            "12/12 [==============================] - 0s 10ms/step - loss: 1.3692 - accuracy: 0.2802 - val_loss: 1.3468 - val_accuracy: 0.3846\n",
            "Epoch 5/25\n",
            "12/12 [==============================] - 0s 10ms/step - loss: 1.3240 - accuracy: 0.4066 - val_loss: 1.2502 - val_accuracy: 0.5385\n",
            "Epoch 6/25\n",
            "12/12 [==============================] - 0s 10ms/step - loss: 1.2284 - accuracy: 0.4560 - val_loss: 1.0542 - val_accuracy: 0.5055\n",
            "Epoch 7/25\n",
            "12/12 [==============================] - 0s 9ms/step - loss: 0.9665 - accuracy: 0.6126 - val_loss: 1.1587 - val_accuracy: 0.4286\n",
            "Epoch 8/25\n",
            "12/12 [==============================] - 0s 10ms/step - loss: 0.8566 - accuracy: 0.6319 - val_loss: 0.9348 - val_accuracy: 0.6264\n",
            "Epoch 9/25\n",
            "12/12 [==============================] - 0s 9ms/step - loss: 0.7626 - accuracy: 0.6648 - val_loss: 1.2761 - val_accuracy: 0.5824\n",
            "Epoch 10/25\n",
            "12/12 [==============================] - 0s 9ms/step - loss: 0.6849 - accuracy: 0.7005 - val_loss: 0.9207 - val_accuracy: 0.6044\n",
            "Epoch 11/25\n",
            "12/12 [==============================] - 0s 9ms/step - loss: 0.5580 - accuracy: 0.7747 - val_loss: 0.9984 - val_accuracy: 0.6374\n",
            "Epoch 12/25\n",
            "12/12 [==============================] - 0s 9ms/step - loss: 0.4531 - accuracy: 0.8022 - val_loss: 0.9864 - val_accuracy: 0.6703\n",
            "Epoch 13/25\n",
            "12/12 [==============================] - 0s 9ms/step - loss: 0.3640 - accuracy: 0.8599 - val_loss: 1.0768 - val_accuracy: 0.6374\n",
            "Epoch 14/25\n",
            "12/12 [==============================] - 0s 9ms/step - loss: 0.3581 - accuracy: 0.8489 - val_loss: 1.1028 - val_accuracy: 0.6813\n",
            "Epoch 15/25\n",
            "12/12 [==============================] - 0s 10ms/step - loss: 0.3062 - accuracy: 0.8791 - val_loss: 0.9911 - val_accuracy: 0.7033\n",
            "Epoch 16/25\n",
            "12/12 [==============================] - 0s 9ms/step - loss: 0.2744 - accuracy: 0.8929 - val_loss: 0.9407 - val_accuracy: 0.6923\n",
            "Epoch 17/25\n",
            "12/12 [==============================] - 0s 9ms/step - loss: 0.2405 - accuracy: 0.9341 - val_loss: 1.1215 - val_accuracy: 0.6593\n",
            "Epoch 18/25\n",
            "12/12 [==============================] - 0s 10ms/step - loss: 0.1512 - accuracy: 0.9560 - val_loss: 1.2267 - val_accuracy: 0.6593\n",
            "Epoch 19/25\n",
            "12/12 [==============================] - 0s 9ms/step - loss: 0.1759 - accuracy: 0.9588 - val_loss: 1.2837 - val_accuracy: 0.7143\n",
            "Epoch 20/25\n",
            "12/12 [==============================] - 0s 9ms/step - loss: 0.2318 - accuracy: 0.9231 - val_loss: 1.1144 - val_accuracy: 0.7033\n",
            "Epoch 21/25\n",
            "12/12 [==============================] - 0s 9ms/step - loss: 0.1531 - accuracy: 0.9423 - val_loss: 1.6756 - val_accuracy: 0.6813\n",
            "Epoch 22/25\n",
            "12/12 [==============================] - 0s 10ms/step - loss: 0.1061 - accuracy: 0.9670 - val_loss: 2.0759 - val_accuracy: 0.7033\n",
            "Epoch 23/25\n",
            "12/12 [==============================] - 0s 9ms/step - loss: 0.0723 - accuracy: 0.9753 - val_loss: 1.4298 - val_accuracy: 0.7363\n",
            "Epoch 24/25\n",
            "12/12 [==============================] - 0s 9ms/step - loss: 0.0561 - accuracy: 0.9808 - val_loss: 1.5569 - val_accuracy: 0.7582\n",
            "Epoch 25/25\n",
            "12/12 [==============================] - 0s 10ms/step - loss: 0.0439 - accuracy: 0.9753 - val_loss: 1.7164 - val_accuracy: 0.7033\n",
            "Calculating predictions and scores....\n",
            "Calculating predictions and scores.......................\n",
            "\n",
            "5/5 [==============================] - 0s 3ms/step\n",
            "5/5 [==============================] - 0s 5ms/step - loss: 1.6517 - accuracy: 0.7829\n",
            "Collecting outputs.......................\n",
            "\n",
            "Congratuations! All the processes are completed successfully....\n",
            "\n",
            "Avarage test accuracy:  0.7697368383407592\n"
          ]
        }
      ]
    },
    {
      "cell_type": "markdown",
      "id": "659fde27",
      "metadata": {
        "id": "659fde27"
      },
      "source": [
        "### Conclusion "
      ]
    },
    {
      "cell_type": "markdown",
      "source": [
        "After many different implementations of the various models using Keras and TensorFlow, we found that there were many issues with our data set. With an average accuracy of less than 80 percent, we learned that this could be due to the quantity, quality and coloring of the playing cards. Our attempts included modifications of the convolutional and dense layers, the amount of replicates executed, the batch size as well as the learning rate and epochs. Also, we tried to run the CNN models on the entire data set, face cards and just the aces. After noticing that our test accuracy was most accurate while only training the aces, we decided to evaluate. While evaluating the aces, it is clear that the validation loss and accuracy is not as efficient and this is due to the data set size. We can confidently determine that our data set best ran on the \"Adam\" optimizer with a learning rate of 0.01 with 25 epochs. All in all, with an average accuracy of 70-80 percent, we can not confidently determine that using multi build CNN models are as efficient using the various models."
      ],
      "metadata": {
        "id": "j51J3a0JcY6q"
      },
      "id": "j51J3a0JcY6q"
    },
    {
      "cell_type": "markdown",
      "id": "c53c1d3f",
      "metadata": {
        "id": "c53c1d3f"
      },
      "source": [
        "### Ethics and Implications\n"
      ]
    },
    {
      "cell_type": "code",
      "execution_count": null,
      "id": "8f39db18",
      "metadata": {
        "id": "8f39db18"
      },
      "outputs": [],
      "source": []
    },
    {
      "cell_type": "markdown",
      "id": "5df9d469",
      "metadata": {
        "id": "5df9d469"
      },
      "source": [
        "### Acknowledgement"
      ]
    },
    {
      "cell_type": "markdown",
      "source": [
        " Math/Computer Science department, Math355/COMSC415 course, and RWU."
      ],
      "metadata": {
        "id": "dAqT9iP6cdC6"
      },
      "id": "dAqT9iP6cdC6"
    },
    {
      "cell_type": "markdown",
      "id": "2bddbbf9",
      "metadata": {
        "id": "2bddbbf9"
      },
      "source": [
        "### References\n"
      ]
    },
    {
      "cell_type": "markdown",
      "source": [
        "Case Study 6: Building CNN Model for Fashion Article Recognition By: Dr. Hum Nath Bhandari, Department of Mathematics \n",
        "\n",
        "Reading_Multiple_Images_From_Folder.ipynb"
      ],
      "metadata": {
        "id": "H6t1zmlickqn"
      },
      "id": "H6t1zmlickqn"
    }
  ],
  "metadata": {
    "kernelspec": {
      "display_name": "Python 3 (ipykernel)",
      "language": "python",
      "name": "python3"
    },
    "language_info": {
      "codemirror_mode": {
        "name": "ipython",
        "version": 3
      },
      "file_extension": ".py",
      "mimetype": "text/x-python",
      "name": "python",
      "nbconvert_exporter": "python",
      "pygments_lexer": "ipython3",
      "version": "3.9.12"
    },
    "colab": {
      "provenance": [],
      "collapsed_sections": [
        "659fde27",
        "c53c1d3f",
        "5df9d469",
        "2bddbbf9",
        "dd5389fb"
      ],
      "include_colab_link": true
    },
    "gpuClass": "standard",
    "accelerator": "GPU"
  },
  "nbformat": 4,
  "nbformat_minor": 5
}